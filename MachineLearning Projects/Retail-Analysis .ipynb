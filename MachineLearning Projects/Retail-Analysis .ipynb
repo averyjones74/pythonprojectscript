{
 "cells": [
  {
   "cell_type": "markdown",
   "id": "ebf9c54c",
   "metadata": {
    "id": "PSLS4WqurFG7",
    "papermill": {
     "duration": 0.037154,
     "end_time": "2021-11-21T18:24:59.656966",
     "exception": false,
     "start_time": "2021-11-21T18:24:59.619812",
     "status": "completed"
    },
    "tags": []
   },
   "source": [
    "Link for ZipFile -\n",
    "<a>https://www.kaggle.com/manjeetsingh/retaildataset</a>"
   ]
  },
  {
   "cell_type": "markdown",
   "id": "21a024bd",
   "metadata": {
    "id": "lRzb3cd6Pha1",
    "papermill": {
     "duration": 0.031908,
     "end_time": "2021-11-21T18:24:59.722406",
     "exception": false,
     "start_time": "2021-11-21T18:24:59.690498",
     "status": "completed"
    },
    "tags": []
   },
   "source": [
    "## **Importing Libraries**"
   ]
  },
  {
   "cell_type": "code",
   "execution_count": 1,
   "id": "8d76f6d7",
   "metadata": {
    "execution": {
     "iopub.execute_input": "2021-11-21T18:24:59.804753Z",
     "iopub.status.busy": "2021-11-21T18:24:59.803782Z",
     "iopub.status.idle": "2021-11-21T18:24:59.809481Z",
     "shell.execute_reply": "2021-11-21T18:24:59.808059Z",
     "shell.execute_reply.started": "2021-11-21T18:16:54.869571Z"
    },
    "id": "LAaH0HSdq1gY",
    "papermill": {
     "duration": 0.052999,
     "end_time": "2021-11-21T18:24:59.809783",
     "exception": false,
     "start_time": "2021-11-21T18:24:59.756784",
     "status": "completed"
    },
    "tags": []
   },
   "outputs": [],
   "source": [
    "import pandas as pd\n",
    "import numpy as np\n",
    "import matplotlib as mlt\n",
    "import matplotlib.pyplot as plt\n",
    "import zipfile"
   ]
  },
  {
   "cell_type": "code",
   "execution_count": 2,
   "id": "4df953e5",
   "metadata": {
    "execution": {
     "iopub.execute_input": "2021-11-21T18:24:59.881184Z",
     "iopub.status.busy": "2021-11-21T18:24:59.880418Z",
     "iopub.status.idle": "2021-11-21T18:25:00.318690Z",
     "shell.execute_reply": "2021-11-21T18:25:00.318095Z",
     "shell.execute_reply.started": "2021-11-21T18:17:16.165879Z"
    },
    "id": "SkqnKxUZkPLD",
    "papermill": {
     "duration": 0.476527,
     "end_time": "2021-11-21T18:25:00.318868",
     "exception": false,
     "start_time": "2021-11-21T18:24:59.842341",
     "status": "completed"
    },
    "tags": []
   },
   "outputs": [],
   "source": [
    "\n",
    "feat_dataset=pd.read_csv('../input/retailanalysis/Features data set.csv')\n",
    "sales_dataset=pd.read_csv('../input/retailanalysis/sales data-set.csv')\n",
    "stores_dataset=pd.read_csv('../input/retailanalysis/stores data-set.csv')"
   ]
  },
  {
   "cell_type": "markdown",
   "id": "11c0c62b",
   "metadata": {
    "id": "KmAVXSaO47-g",
    "papermill": {
     "duration": 0.033128,
     "end_time": "2021-11-21T18:25:00.387810",
     "exception": false,
     "start_time": "2021-11-21T18:25:00.354682",
     "status": "completed"
    },
    "tags": []
   },
   "source": [
    "## **Stores Dataset**"
   ]
  },
  {
   "cell_type": "code",
   "execution_count": 3,
   "id": "2405e4d3",
   "metadata": {
    "execution": {
     "iopub.execute_input": "2021-11-21T18:25:00.458232Z",
     "iopub.status.busy": "2021-11-21T18:25:00.457173Z",
     "iopub.status.idle": "2021-11-21T18:25:00.479406Z",
     "shell.execute_reply": "2021-11-21T18:25:00.479919Z",
     "shell.execute_reply.started": "2021-11-21T18:17:20.644871Z"
    },
    "id": "ekfFWs-CtK2I",
    "outputId": "ebc1feee-bae0-4c04-9118-776b8340c852",
    "papermill": {
     "duration": 0.0583,
     "end_time": "2021-11-21T18:25:00.480096",
     "exception": false,
     "start_time": "2021-11-21T18:25:00.421796",
     "status": "completed"
    },
    "tags": []
   },
   "outputs": [
    {
     "data": {
      "text/html": [
       "<div>\n",
       "<style scoped>\n",
       "    .dataframe tbody tr th:only-of-type {\n",
       "        vertical-align: middle;\n",
       "    }\n",
       "\n",
       "    .dataframe tbody tr th {\n",
       "        vertical-align: top;\n",
       "    }\n",
       "\n",
       "    .dataframe thead th {\n",
       "        text-align: right;\n",
       "    }\n",
       "</style>\n",
       "<table border=\"1\" class=\"dataframe\">\n",
       "  <thead>\n",
       "    <tr style=\"text-align: right;\">\n",
       "      <th></th>\n",
       "      <th>Store</th>\n",
       "      <th>Type</th>\n",
       "      <th>Size</th>\n",
       "    </tr>\n",
       "  </thead>\n",
       "  <tbody>\n",
       "    <tr>\n",
       "      <th>0</th>\n",
       "      <td>1</td>\n",
       "      <td>A</td>\n",
       "      <td>151315</td>\n",
       "    </tr>\n",
       "    <tr>\n",
       "      <th>1</th>\n",
       "      <td>2</td>\n",
       "      <td>A</td>\n",
       "      <td>202307</td>\n",
       "    </tr>\n",
       "    <tr>\n",
       "      <th>2</th>\n",
       "      <td>3</td>\n",
       "      <td>B</td>\n",
       "      <td>37392</td>\n",
       "    </tr>\n",
       "    <tr>\n",
       "      <th>3</th>\n",
       "      <td>4</td>\n",
       "      <td>A</td>\n",
       "      <td>205863</td>\n",
       "    </tr>\n",
       "    <tr>\n",
       "      <th>4</th>\n",
       "      <td>5</td>\n",
       "      <td>B</td>\n",
       "      <td>34875</td>\n",
       "    </tr>\n",
       "    <tr>\n",
       "      <th>5</th>\n",
       "      <td>6</td>\n",
       "      <td>A</td>\n",
       "      <td>202505</td>\n",
       "    </tr>\n",
       "    <tr>\n",
       "      <th>6</th>\n",
       "      <td>7</td>\n",
       "      <td>B</td>\n",
       "      <td>70713</td>\n",
       "    </tr>\n",
       "    <tr>\n",
       "      <th>7</th>\n",
       "      <td>8</td>\n",
       "      <td>A</td>\n",
       "      <td>155078</td>\n",
       "    </tr>\n",
       "    <tr>\n",
       "      <th>8</th>\n",
       "      <td>9</td>\n",
       "      <td>B</td>\n",
       "      <td>125833</td>\n",
       "    </tr>\n",
       "    <tr>\n",
       "      <th>9</th>\n",
       "      <td>10</td>\n",
       "      <td>B</td>\n",
       "      <td>126512</td>\n",
       "    </tr>\n",
       "    <tr>\n",
       "      <th>10</th>\n",
       "      <td>11</td>\n",
       "      <td>A</td>\n",
       "      <td>207499</td>\n",
       "    </tr>\n",
       "    <tr>\n",
       "      <th>11</th>\n",
       "      <td>12</td>\n",
       "      <td>B</td>\n",
       "      <td>112238</td>\n",
       "    </tr>\n",
       "    <tr>\n",
       "      <th>12</th>\n",
       "      <td>13</td>\n",
       "      <td>A</td>\n",
       "      <td>219622</td>\n",
       "    </tr>\n",
       "    <tr>\n",
       "      <th>13</th>\n",
       "      <td>14</td>\n",
       "      <td>A</td>\n",
       "      <td>200898</td>\n",
       "    </tr>\n",
       "    <tr>\n",
       "      <th>14</th>\n",
       "      <td>15</td>\n",
       "      <td>B</td>\n",
       "      <td>123737</td>\n",
       "    </tr>\n",
       "    <tr>\n",
       "      <th>15</th>\n",
       "      <td>16</td>\n",
       "      <td>B</td>\n",
       "      <td>57197</td>\n",
       "    </tr>\n",
       "    <tr>\n",
       "      <th>16</th>\n",
       "      <td>17</td>\n",
       "      <td>B</td>\n",
       "      <td>93188</td>\n",
       "    </tr>\n",
       "    <tr>\n",
       "      <th>17</th>\n",
       "      <td>18</td>\n",
       "      <td>B</td>\n",
       "      <td>120653</td>\n",
       "    </tr>\n",
       "    <tr>\n",
       "      <th>18</th>\n",
       "      <td>19</td>\n",
       "      <td>A</td>\n",
       "      <td>203819</td>\n",
       "    </tr>\n",
       "    <tr>\n",
       "      <th>19</th>\n",
       "      <td>20</td>\n",
       "      <td>A</td>\n",
       "      <td>203742</td>\n",
       "    </tr>\n",
       "    <tr>\n",
       "      <th>20</th>\n",
       "      <td>21</td>\n",
       "      <td>B</td>\n",
       "      <td>140167</td>\n",
       "    </tr>\n",
       "    <tr>\n",
       "      <th>21</th>\n",
       "      <td>22</td>\n",
       "      <td>B</td>\n",
       "      <td>119557</td>\n",
       "    </tr>\n",
       "    <tr>\n",
       "      <th>22</th>\n",
       "      <td>23</td>\n",
       "      <td>B</td>\n",
       "      <td>114533</td>\n",
       "    </tr>\n",
       "    <tr>\n",
       "      <th>23</th>\n",
       "      <td>24</td>\n",
       "      <td>A</td>\n",
       "      <td>203819</td>\n",
       "    </tr>\n",
       "    <tr>\n",
       "      <th>24</th>\n",
       "      <td>25</td>\n",
       "      <td>B</td>\n",
       "      <td>128107</td>\n",
       "    </tr>\n",
       "    <tr>\n",
       "      <th>25</th>\n",
       "      <td>26</td>\n",
       "      <td>A</td>\n",
       "      <td>152513</td>\n",
       "    </tr>\n",
       "    <tr>\n",
       "      <th>26</th>\n",
       "      <td>27</td>\n",
       "      <td>A</td>\n",
       "      <td>204184</td>\n",
       "    </tr>\n",
       "    <tr>\n",
       "      <th>27</th>\n",
       "      <td>28</td>\n",
       "      <td>A</td>\n",
       "      <td>206302</td>\n",
       "    </tr>\n",
       "    <tr>\n",
       "      <th>28</th>\n",
       "      <td>29</td>\n",
       "      <td>B</td>\n",
       "      <td>93638</td>\n",
       "    </tr>\n",
       "    <tr>\n",
       "      <th>29</th>\n",
       "      <td>30</td>\n",
       "      <td>C</td>\n",
       "      <td>42988</td>\n",
       "    </tr>\n",
       "    <tr>\n",
       "      <th>30</th>\n",
       "      <td>31</td>\n",
       "      <td>A</td>\n",
       "      <td>203750</td>\n",
       "    </tr>\n",
       "    <tr>\n",
       "      <th>31</th>\n",
       "      <td>32</td>\n",
       "      <td>A</td>\n",
       "      <td>203007</td>\n",
       "    </tr>\n",
       "    <tr>\n",
       "      <th>32</th>\n",
       "      <td>33</td>\n",
       "      <td>A</td>\n",
       "      <td>39690</td>\n",
       "    </tr>\n",
       "    <tr>\n",
       "      <th>33</th>\n",
       "      <td>34</td>\n",
       "      <td>A</td>\n",
       "      <td>158114</td>\n",
       "    </tr>\n",
       "    <tr>\n",
       "      <th>34</th>\n",
       "      <td>35</td>\n",
       "      <td>B</td>\n",
       "      <td>103681</td>\n",
       "    </tr>\n",
       "    <tr>\n",
       "      <th>35</th>\n",
       "      <td>36</td>\n",
       "      <td>A</td>\n",
       "      <td>39910</td>\n",
       "    </tr>\n",
       "    <tr>\n",
       "      <th>36</th>\n",
       "      <td>37</td>\n",
       "      <td>C</td>\n",
       "      <td>39910</td>\n",
       "    </tr>\n",
       "    <tr>\n",
       "      <th>37</th>\n",
       "      <td>38</td>\n",
       "      <td>C</td>\n",
       "      <td>39690</td>\n",
       "    </tr>\n",
       "    <tr>\n",
       "      <th>38</th>\n",
       "      <td>39</td>\n",
       "      <td>A</td>\n",
       "      <td>184109</td>\n",
       "    </tr>\n",
       "    <tr>\n",
       "      <th>39</th>\n",
       "      <td>40</td>\n",
       "      <td>A</td>\n",
       "      <td>155083</td>\n",
       "    </tr>\n",
       "    <tr>\n",
       "      <th>40</th>\n",
       "      <td>41</td>\n",
       "      <td>A</td>\n",
       "      <td>196321</td>\n",
       "    </tr>\n",
       "    <tr>\n",
       "      <th>41</th>\n",
       "      <td>42</td>\n",
       "      <td>C</td>\n",
       "      <td>39690</td>\n",
       "    </tr>\n",
       "    <tr>\n",
       "      <th>42</th>\n",
       "      <td>43</td>\n",
       "      <td>C</td>\n",
       "      <td>41062</td>\n",
       "    </tr>\n",
       "    <tr>\n",
       "      <th>43</th>\n",
       "      <td>44</td>\n",
       "      <td>C</td>\n",
       "      <td>39910</td>\n",
       "    </tr>\n",
       "    <tr>\n",
       "      <th>44</th>\n",
       "      <td>45</td>\n",
       "      <td>B</td>\n",
       "      <td>118221</td>\n",
       "    </tr>\n",
       "  </tbody>\n",
       "</table>\n",
       "</div>"
      ],
      "text/plain": [
       "    Store Type    Size\n",
       "0       1    A  151315\n",
       "1       2    A  202307\n",
       "2       3    B   37392\n",
       "3       4    A  205863\n",
       "4       5    B   34875\n",
       "5       6    A  202505\n",
       "6       7    B   70713\n",
       "7       8    A  155078\n",
       "8       9    B  125833\n",
       "9      10    B  126512\n",
       "10     11    A  207499\n",
       "11     12    B  112238\n",
       "12     13    A  219622\n",
       "13     14    A  200898\n",
       "14     15    B  123737\n",
       "15     16    B   57197\n",
       "16     17    B   93188\n",
       "17     18    B  120653\n",
       "18     19    A  203819\n",
       "19     20    A  203742\n",
       "20     21    B  140167\n",
       "21     22    B  119557\n",
       "22     23    B  114533\n",
       "23     24    A  203819\n",
       "24     25    B  128107\n",
       "25     26    A  152513\n",
       "26     27    A  204184\n",
       "27     28    A  206302\n",
       "28     29    B   93638\n",
       "29     30    C   42988\n",
       "30     31    A  203750\n",
       "31     32    A  203007\n",
       "32     33    A   39690\n",
       "33     34    A  158114\n",
       "34     35    B  103681\n",
       "35     36    A   39910\n",
       "36     37    C   39910\n",
       "37     38    C   39690\n",
       "38     39    A  184109\n",
       "39     40    A  155083\n",
       "40     41    A  196321\n",
       "41     42    C   39690\n",
       "42     43    C   41062\n",
       "43     44    C   39910\n",
       "44     45    B  118221"
      ]
     },
     "execution_count": 3,
     "metadata": {},
     "output_type": "execute_result"
    }
   ],
   "source": [
    "stores_dataset"
   ]
  },
  {
   "cell_type": "code",
   "execution_count": 4,
   "id": "279f5261",
   "metadata": {
    "execution": {
     "iopub.execute_input": "2021-11-21T18:25:00.550449Z",
     "iopub.status.busy": "2021-11-21T18:25:00.549483Z",
     "iopub.status.idle": "2021-11-21T18:25:00.565880Z",
     "shell.execute_reply": "2021-11-21T18:25:00.566437Z",
     "shell.execute_reply.started": "2021-11-21T18:17:25.658019Z"
    },
    "id": "mcsUZvHMJSok",
    "outputId": "2fdbc6e5-8080-4218-c241-4d05b7315503",
    "papermill": {
     "duration": 0.05322,
     "end_time": "2021-11-21T18:25:00.566606",
     "exception": false,
     "start_time": "2021-11-21T18:25:00.513386",
     "status": "completed"
    },
    "tags": []
   },
   "outputs": [
    {
     "data": {
      "text/plain": [
       "Type\n",
       "A    3899450\n",
       "B    1720242\n",
       "C     243250\n",
       "Name: Size, dtype: int64"
      ]
     },
     "execution_count": 4,
     "metadata": {},
     "output_type": "execute_result"
    }
   ],
   "source": [
    "size_type=stores_dataset.groupby(by=['Type'])['Size'].sum()\n",
    "size_type"
   ]
  },
  {
   "cell_type": "markdown",
   "id": "fa2d637e",
   "metadata": {
    "id": "WnQkdONP5s-1",
    "papermill": {
     "duration": 0.033335,
     "end_time": "2021-11-21T18:25:00.633675",
     "exception": false,
     "start_time": "2021-11-21T18:25:00.600340",
     "status": "completed"
    },
    "tags": []
   },
   "source": [
    "Stores with their respective Sizes"
   ]
  },
  {
   "cell_type": "code",
   "execution_count": 5,
   "id": "2111ec13",
   "metadata": {
    "execution": {
     "iopub.execute_input": "2021-11-21T18:25:00.709789Z",
     "iopub.status.busy": "2021-11-21T18:25:00.708749Z",
     "iopub.status.idle": "2021-11-21T18:25:00.924342Z",
     "shell.execute_reply": "2021-11-21T18:25:00.924860Z",
     "shell.execute_reply.started": "2021-11-21T18:17:28.460576Z"
    },
    "id": "pOdlBjizH-SM",
    "outputId": "f85226e8-d4a5-4ba9-d67b-2f0b3a094204",
    "papermill": {
     "duration": 0.257829,
     "end_time": "2021-11-21T18:25:00.925044",
     "exception": false,
     "start_time": "2021-11-21T18:25:00.667215",
     "status": "completed"
    },
    "tags": []
   },
   "outputs": [
    {
     "data": {
      "image/png": "[encoded data removed]",
      "text/plain": [
       "<Figure size 504x288 with 1 Axes>"
      ]
     },
     "metadata": {
      "needs_background": "light"
     },
     "output_type": "display_data"
    }
   ],
   "source": [
    "size_type=stores_dataset.groupby(by=['Type'])['Size'].sum()\n",
    "fig,ax=plt.subplots(figsize=(7,4))\n",
    "ax.bar(size_type.index,size_type.values,width=0.4,color=['#0000cd','#ff9100','#eaaa00','#6687d5'])\n",
    "plt.xlabel(\"Store\")\n",
    "plt.ylabel(\"Size\")\n",
    "plt.show()"
   ]
  },
  {
   "cell_type": "markdown",
   "id": "886f170c",
   "metadata": {
    "id": "axcgSd1B6n6G",
    "papermill": {
     "duration": 0.033884,
     "end_time": "2021-11-21T18:25:00.992853",
     "exception": false,
     "start_time": "2021-11-21T18:25:00.958969",
     "status": "completed"
    },
    "tags": []
   },
   "source": [
    "## **Features Dataset**"
   ]
  },
  {
   "cell_type": "code",
   "execution_count": 6,
   "id": "9c64b3f0",
   "metadata": {
    "execution": {
     "iopub.execute_input": "2021-11-21T18:25:01.065535Z",
     "iopub.status.busy": "2021-11-21T18:25:01.064544Z",
     "iopub.status.idle": "2021-11-21T18:25:01.089877Z",
     "shell.execute_reply": "2021-11-21T18:25:01.090410Z",
     "shell.execute_reply.started": "2021-11-21T18:17:31.477453Z"
    },
    "id": "U2YeehsRmKlT",
    "outputId": "ba19f7d0-4e85-411b-a093-0a76d20132b9",
    "papermill": {
     "duration": 0.063071,
     "end_time": "2021-11-21T18:25:01.090589",
     "exception": false,
     "start_time": "2021-11-21T18:25:01.027518",
     "status": "completed"
    },
    "tags": []
   },
   "outputs": [
    {
     "data": {
      "text/html": [
       "<div>\n",
       "<style scoped>\n",
       "    .dataframe tbody tr th:only-of-type {\n",
       "        vertical-align: middle;\n",
       "    }\n",
       "\n",
       "    .dataframe tbody tr th {\n",
       "        vertical-align: top;\n",
       "    }\n",
       "\n",
       "    .dataframe thead th {\n",
       "        text-align: right;\n",
       "    }\n",
       "</style>\n",
       "<table border=\"1\" class=\"dataframe\">\n",
       "  <thead>\n",
       "    <tr style=\"text-align: right;\">\n",
       "      <th></th>\n",
       "      <th>Store</th>\n",
       "      <th>Date</th>\n",
       "      <th>Temperature</th>\n",
       "      <th>Fuel_Price</th>\n",
       "      <th>MarkDown1</th>\n",
       "      <th>MarkDown2</th>\n",
       "      <th>MarkDown3</th>\n",
       "      <th>MarkDown4</th>\n",
       "      <th>MarkDown5</th>\n",
       "      <th>CPI</th>\n",
       "      <th>Unemployment</th>\n",
       "      <th>IsHoliday</th>\n",
       "    </tr>\n",
       "  </thead>\n",
       "  <tbody>\n",
       "    <tr>\n",
       "      <th>0</th>\n",
       "      <td>1</td>\n",
       "      <td>05/02/2010</td>\n",
       "      <td>42.31</td>\n",
       "      <td>2.572</td>\n",
       "      <td>NaN</td>\n",
       "      <td>NaN</td>\n",
       "      <td>NaN</td>\n",
       "      <td>NaN</td>\n",
       "      <td>NaN</td>\n",
       "      <td>211.096358</td>\n",
       "      <td>8.106</td>\n",
       "      <td>False</td>\n",
       "    </tr>\n",
       "    <tr>\n",
       "      <th>1</th>\n",
       "      <td>1</td>\n",
       "      <td>12/02/2010</td>\n",
       "      <td>38.51</td>\n",
       "      <td>2.548</td>\n",
       "      <td>NaN</td>\n",
       "      <td>NaN</td>\n",
       "      <td>NaN</td>\n",
       "      <td>NaN</td>\n",
       "      <td>NaN</td>\n",
       "      <td>211.242170</td>\n",
       "      <td>8.106</td>\n",
       "      <td>True</td>\n",
       "    </tr>\n",
       "    <tr>\n",
       "      <th>2</th>\n",
       "      <td>1</td>\n",
       "      <td>19/02/2010</td>\n",
       "      <td>39.93</td>\n",
       "      <td>2.514</td>\n",
       "      <td>NaN</td>\n",
       "      <td>NaN</td>\n",
       "      <td>NaN</td>\n",
       "      <td>NaN</td>\n",
       "      <td>NaN</td>\n",
       "      <td>211.289143</td>\n",
       "      <td>8.106</td>\n",
       "      <td>False</td>\n",
       "    </tr>\n",
       "    <tr>\n",
       "      <th>3</th>\n",
       "      <td>1</td>\n",
       "      <td>26/02/2010</td>\n",
       "      <td>46.63</td>\n",
       "      <td>2.561</td>\n",
       "      <td>NaN</td>\n",
       "      <td>NaN</td>\n",
       "      <td>NaN</td>\n",
       "      <td>NaN</td>\n",
       "      <td>NaN</td>\n",
       "      <td>211.319643</td>\n",
       "      <td>8.106</td>\n",
       "      <td>False</td>\n",
       "    </tr>\n",
       "    <tr>\n",
       "      <th>4</th>\n",
       "      <td>1</td>\n",
       "      <td>05/03/2010</td>\n",
       "      <td>46.50</td>\n",
       "      <td>2.625</td>\n",
       "      <td>NaN</td>\n",
       "      <td>NaN</td>\n",
       "      <td>NaN</td>\n",
       "      <td>NaN</td>\n",
       "      <td>NaN</td>\n",
       "      <td>211.350143</td>\n",
       "      <td>8.106</td>\n",
       "      <td>False</td>\n",
       "    </tr>\n",
       "    <tr>\n",
       "      <th>...</th>\n",
       "      <td>...</td>\n",
       "      <td>...</td>\n",
       "      <td>...</td>\n",
       "      <td>...</td>\n",
       "      <td>...</td>\n",
       "      <td>...</td>\n",
       "      <td>...</td>\n",
       "      <td>...</td>\n",
       "      <td>...</td>\n",
       "      <td>...</td>\n",
       "      <td>...</td>\n",
       "      <td>...</td>\n",
       "    </tr>\n",
       "    <tr>\n",
       "      <th>8185</th>\n",
       "      <td>45</td>\n",
       "      <td>28/06/2013</td>\n",
       "      <td>76.05</td>\n",
       "      <td>3.639</td>\n",
       "      <td>4842.29</td>\n",
       "      <td>975.03</td>\n",
       "      <td>3.00</td>\n",
       "      <td>2449.97</td>\n",
       "      <td>3169.69</td>\n",
       "      <td>NaN</td>\n",
       "      <td>NaN</td>\n",
       "      <td>False</td>\n",
       "    </tr>\n",
       "    <tr>\n",
       "      <th>8186</th>\n",
       "      <td>45</td>\n",
       "      <td>05/07/2013</td>\n",
       "      <td>77.50</td>\n",
       "      <td>3.614</td>\n",
       "      <td>9090.48</td>\n",
       "      <td>2268.58</td>\n",
       "      <td>582.74</td>\n",
       "      <td>5797.47</td>\n",
       "      <td>1514.93</td>\n",
       "      <td>NaN</td>\n",
       "      <td>NaN</td>\n",
       "      <td>False</td>\n",
       "    </tr>\n",
       "    <tr>\n",
       "      <th>8187</th>\n",
       "      <td>45</td>\n",
       "      <td>12/07/2013</td>\n",
       "      <td>79.37</td>\n",
       "      <td>3.614</td>\n",
       "      <td>3789.94</td>\n",
       "      <td>1827.31</td>\n",
       "      <td>85.72</td>\n",
       "      <td>744.84</td>\n",
       "      <td>2150.36</td>\n",
       "      <td>NaN</td>\n",
       "      <td>NaN</td>\n",
       "      <td>False</td>\n",
       "    </tr>\n",
       "    <tr>\n",
       "      <th>8188</th>\n",
       "      <td>45</td>\n",
       "      <td>19/07/2013</td>\n",
       "      <td>82.84</td>\n",
       "      <td>3.737</td>\n",
       "      <td>2961.49</td>\n",
       "      <td>1047.07</td>\n",
       "      <td>204.19</td>\n",
       "      <td>363.00</td>\n",
       "      <td>1059.46</td>\n",
       "      <td>NaN</td>\n",
       "      <td>NaN</td>\n",
       "      <td>False</td>\n",
       "    </tr>\n",
       "    <tr>\n",
       "      <th>8189</th>\n",
       "      <td>45</td>\n",
       "      <td>26/07/2013</td>\n",
       "      <td>76.06</td>\n",
       "      <td>3.804</td>\n",
       "      <td>212.02</td>\n",
       "      <td>851.73</td>\n",
       "      <td>2.06</td>\n",
       "      <td>10.88</td>\n",
       "      <td>1864.57</td>\n",
       "      <td>NaN</td>\n",
       "      <td>NaN</td>\n",
       "      <td>False</td>\n",
       "    </tr>\n",
       "  </tbody>\n",
       "</table>\n",
       "<p>8190 rows × 12 columns</p>\n",
       "</div>"
      ],
      "text/plain": [
       "      Store        Date  Temperature  Fuel_Price  MarkDown1  MarkDown2  \\\n",
       "0         1  05/02/2010        42.31       2.572        NaN        NaN   \n",
       "1         1  12/02/2010        38.51       2.548        NaN        NaN   \n",
       "2         1  19/02/2010        39.93       2.514        NaN        NaN   \n",
       "3         1  26/02/2010        46.63       2.561        NaN        NaN   \n",
       "4         1  05/03/2010        46.50       2.625        NaN        NaN   \n",
       "...     ...         ...          ...         ...        ...        ...   \n",
       "8185     45  28/06/2013        76.05       3.639    4842.29     975.03   \n",
       "8186     45  05/07/2013        77.50       3.614    9090.48    2268.58   \n",
       "8187     45  12/07/2013        79.37       3.614    3789.94    1827.31   \n",
       "8188     45  19/07/2013        82.84       3.737    2961.49    1047.07   \n",
       "8189     45  26/07/2013        76.06       3.804     212.02     851.73   \n",
       "\n",
       "      MarkDown3  MarkDown4  MarkDown5         CPI  Unemployment  IsHoliday  \n",
       "0           NaN        NaN        NaN  211.096358         8.106      False  \n",
       "1           NaN        NaN        NaN  211.242170         8.106       True  \n",
       "2           NaN        NaN        NaN  211.289143         8.106      False  \n",
       "3           NaN        NaN        NaN  211.319643         8.106      False  \n",
       "4           NaN        NaN        NaN  211.350143         8.106      False  \n",
       "...         ...        ...        ...         ...           ...        ...  \n",
       "8185       3.00    2449.97    3169.69         NaN           NaN      False  \n",
       "8186     582.74    5797.47    1514.93         NaN           NaN      False  \n",
       "8187      85.72     744.84    2150.36         NaN           NaN      False  \n",
       "8188     204.19     363.00    1059.46         NaN           NaN      False  \n",
       "8189       2.06      10.88    1864.57         NaN           NaN      False  \n",
       "\n",
       "[8190 rows x 12 columns]"
      ]
     },
     "execution_count": 6,
     "metadata": {},
     "output_type": "execute_result"
    }
   ],
   "source": [
    "feat_dataset"
   ]
  },
  {
   "cell_type": "markdown",
   "id": "3ae07311",
   "metadata": {
    "id": "aRUcD5VEMc9-",
    "papermill": {
     "duration": 0.034869,
     "end_time": "2021-11-21T18:25:01.161614",
     "exception": false,
     "start_time": "2021-11-21T18:25:01.126745",
     "status": "completed"
    },
    "tags": []
   },
   "source": [
    "### **Fuel Price**"
   ]
  },
  {
   "cell_type": "code",
   "execution_count": 7,
   "id": "5d27994c",
   "metadata": {
    "execution": {
     "iopub.execute_input": "2021-11-21T18:25:01.234916Z",
     "iopub.status.busy": "2021-11-21T18:25:01.233915Z",
     "iopub.status.idle": "2021-11-21T18:25:01.500303Z",
     "shell.execute_reply": "2021-11-21T18:25:01.500870Z",
     "shell.execute_reply.started": "2021-11-21T18:17:33.923986Z"
    },
    "id": "6s4oboUBqL1u",
    "outputId": "1dacaeea-ac1d-46dc-9115-8f1c9b97adf0",
    "papermill": {
     "duration": 0.304718,
     "end_time": "2021-11-21T18:25:01.501061",
     "exception": false,
     "start_time": "2021-11-21T18:25:01.196343",
     "status": "completed"
    },
    "tags": []
   },
   "outputs": [
    {
     "data": {
      "image/png": "[encoded data removed]",
      "text/plain": [
       "<Figure size 720x216 with 1 Axes>"
      ]
     },
     "metadata": {
      "needs_background": "light"
     },
     "output_type": "display_data"
    }
   ],
   "source": [
    "feat_dataset[['Date','Fuel_Price']].plot(x='Date',subplots=True,figsize=(10,3))\n",
    "plt.xlabel(\"Date\")\n",
    "plt.ylabel(\"Price\")\n",
    "plt.title(\"Fuel Prices from 2010-2013\")\n",
    "plt.show()"
   ]
  },
  {
   "cell_type": "markdown",
   "id": "8db60f55",
   "metadata": {
    "id": "C5j3ahHU7OVH",
    "papermill": {
     "duration": 0.036528,
     "end_time": "2021-11-21T18:25:01.577231",
     "exception": false,
     "start_time": "2021-11-21T18:25:01.540703",
     "status": "completed"
    },
    "tags": []
   },
   "source": [
    "Handling missing values in feat_dataset"
   ]
  },
  {
   "cell_type": "code",
   "execution_count": 8,
   "id": "e46d43d5",
   "metadata": {
    "execution": {
     "iopub.execute_input": "2021-11-21T18:25:01.654264Z",
     "iopub.status.busy": "2021-11-21T18:25:01.653312Z",
     "iopub.status.idle": "2021-11-21T18:25:01.667547Z",
     "shell.execute_reply": "2021-11-21T18:25:01.668263Z",
     "shell.execute_reply.started": "2021-11-21T18:17:36.526831Z"
    },
    "id": "yn569RrX7HwK",
    "outputId": "5d0e64b0-349c-4255-8c0f-c17ce5875195",
    "papermill": {
     "duration": 0.054744,
     "end_time": "2021-11-21T18:25:01.668493",
     "exception": false,
     "start_time": "2021-11-21T18:25:01.613749",
     "status": "completed"
    },
    "tags": []
   },
   "outputs": [
    {
     "name": "stdout",
     "output_type": "stream",
     "text": [
      "<class 'pandas.core.frame.DataFrame'>\n",
      "RangeIndex: 8190 entries, 0 to 8189\n",
      "Data columns (total 12 columns):\n",
      " #   Column        Non-Null Count  Dtype  \n",
      "---  ------        --------------  -----  \n",
      " 0   Store         8190 non-null   int64  \n",
      " 1   Date          8190 non-null   object \n",
      " 2   Temperature   8190 non-null   float64\n",
      " 3   Fuel_Price    8190 non-null   float64\n",
      " 4   MarkDown1     4032 non-null   float64\n",
      " 5   MarkDown2     2921 non-null   float64\n",
      " 6   MarkDown3     3613 non-null   float64\n",
      " 7   MarkDown4     3464 non-null   float64\n",
      " 8   MarkDown5     4050 non-null   float64\n",
      " 9   CPI           7605 non-null   float64\n",
      " 10  Unemployment  7605 non-null   float64\n",
      " 11  IsHoliday     8190 non-null   bool   \n",
      "dtypes: bool(1), float64(9), int64(1), object(1)\n",
      "memory usage: 712.0+ KB\n"
     ]
    }
   ],
   "source": [
    "feat_dataset.info()"
   ]
  },
  {
   "cell_type": "code",
   "execution_count": 9,
   "id": "d0a42151",
   "metadata": {
    "execution": {
     "iopub.execute_input": "2021-11-21T18:25:01.747451Z",
     "iopub.status.busy": "2021-11-21T18:25:01.746475Z",
     "iopub.status.idle": "2021-11-21T18:25:01.751900Z",
     "shell.execute_reply": "2021-11-21T18:25:01.752346Z",
     "shell.execute_reply.started": "2021-11-21T18:17:38.542868Z"
    },
    "id": "1HXJk3ghpqqS",
    "papermill": {
     "duration": 0.045777,
     "end_time": "2021-11-21T18:25:01.752527",
     "exception": false,
     "start_time": "2021-11-21T18:25:01.706750",
     "status": "completed"
    },
    "tags": []
   },
   "outputs": [],
   "source": [
    "feat_dataset.fillna(0.0,inplace=True)"
   ]
  },
  {
   "cell_type": "markdown",
   "id": "6ccd5079",
   "metadata": {
    "id": "FT1c06hlOOsG",
    "papermill": {
     "duration": 0.036527,
     "end_time": "2021-11-21T18:25:01.825758",
     "exception": false,
     "start_time": "2021-11-21T18:25:01.789231",
     "status": "completed"
    },
    "tags": []
   },
   "source": [
    "## **Sales Dataset**"
   ]
  },
  {
   "cell_type": "code",
   "execution_count": 10,
   "id": "7e93ae0d",
   "metadata": {
    "execution": {
     "iopub.execute_input": "2021-11-21T18:25:01.911577Z",
     "iopub.status.busy": "2021-11-21T18:25:01.910610Z",
     "iopub.status.idle": "2021-11-21T18:25:01.921839Z",
     "shell.execute_reply": "2021-11-21T18:25:01.921229Z",
     "shell.execute_reply.started": "2021-11-21T18:17:40.356125Z"
    },
    "id": "k0CPEG6FOTso",
    "outputId": "a7de567f-dff0-4a96-ad21-65ed6861450f",
    "papermill": {
     "duration": 0.058714,
     "end_time": "2021-11-21T18:25:01.922015",
     "exception": false,
     "start_time": "2021-11-21T18:25:01.863301",
     "status": "completed"
    },
    "tags": []
   },
   "outputs": [
    {
     "data": {
      "text/html": [
       "<div>\n",
       "<style scoped>\n",
       "    .dataframe tbody tr th:only-of-type {\n",
       "        vertical-align: middle;\n",
       "    }\n",
       "\n",
       "    .dataframe tbody tr th {\n",
       "        vertical-align: top;\n",
       "    }\n",
       "\n",
       "    .dataframe thead th {\n",
       "        text-align: right;\n",
       "    }\n",
       "</style>\n",
       "<table border=\"1\" class=\"dataframe\">\n",
       "  <thead>\n",
       "    <tr style=\"text-align: right;\">\n",
       "      <th></th>\n",
       "      <th>Store</th>\n",
       "      <th>Dept</th>\n",
       "      <th>Date</th>\n",
       "      <th>Weekly_Sales</th>\n",
       "      <th>IsHoliday</th>\n",
       "    </tr>\n",
       "  </thead>\n",
       "  <tbody>\n",
       "    <tr>\n",
       "      <th>0</th>\n",
       "      <td>1</td>\n",
       "      <td>1</td>\n",
       "      <td>05/02/2010</td>\n",
       "      <td>24924.50</td>\n",
       "      <td>False</td>\n",
       "    </tr>\n",
       "    <tr>\n",
       "      <th>1</th>\n",
       "      <td>1</td>\n",
       "      <td>1</td>\n",
       "      <td>12/02/2010</td>\n",
       "      <td>46039.49</td>\n",
       "      <td>True</td>\n",
       "    </tr>\n",
       "    <tr>\n",
       "      <th>2</th>\n",
       "      <td>1</td>\n",
       "      <td>1</td>\n",
       "      <td>19/02/2010</td>\n",
       "      <td>41595.55</td>\n",
       "      <td>False</td>\n",
       "    </tr>\n",
       "    <tr>\n",
       "      <th>3</th>\n",
       "      <td>1</td>\n",
       "      <td>1</td>\n",
       "      <td>26/02/2010</td>\n",
       "      <td>19403.54</td>\n",
       "      <td>False</td>\n",
       "    </tr>\n",
       "    <tr>\n",
       "      <th>4</th>\n",
       "      <td>1</td>\n",
       "      <td>1</td>\n",
       "      <td>05/03/2010</td>\n",
       "      <td>21827.90</td>\n",
       "      <td>False</td>\n",
       "    </tr>\n",
       "    <tr>\n",
       "      <th>...</th>\n",
       "      <td>...</td>\n",
       "      <td>...</td>\n",
       "      <td>...</td>\n",
       "      <td>...</td>\n",
       "      <td>...</td>\n",
       "    </tr>\n",
       "    <tr>\n",
       "      <th>421565</th>\n",
       "      <td>45</td>\n",
       "      <td>98</td>\n",
       "      <td>28/09/2012</td>\n",
       "      <td>508.37</td>\n",
       "      <td>False</td>\n",
       "    </tr>\n",
       "    <tr>\n",
       "      <th>421566</th>\n",
       "      <td>45</td>\n",
       "      <td>98</td>\n",
       "      <td>05/10/2012</td>\n",
       "      <td>628.10</td>\n",
       "      <td>False</td>\n",
       "    </tr>\n",
       "    <tr>\n",
       "      <th>421567</th>\n",
       "      <td>45</td>\n",
       "      <td>98</td>\n",
       "      <td>12/10/2012</td>\n",
       "      <td>1061.02</td>\n",
       "      <td>False</td>\n",
       "    </tr>\n",
       "    <tr>\n",
       "      <th>421568</th>\n",
       "      <td>45</td>\n",
       "      <td>98</td>\n",
       "      <td>19/10/2012</td>\n",
       "      <td>760.01</td>\n",
       "      <td>False</td>\n",
       "    </tr>\n",
       "    <tr>\n",
       "      <th>421569</th>\n",
       "      <td>45</td>\n",
       "      <td>98</td>\n",
       "      <td>26/10/2012</td>\n",
       "      <td>1076.80</td>\n",
       "      <td>False</td>\n",
       "    </tr>\n",
       "  </tbody>\n",
       "</table>\n",
       "<p>421570 rows × 5 columns</p>\n",
       "</div>"
      ],
      "text/plain": [
       "        Store  Dept        Date  Weekly_Sales  IsHoliday\n",
       "0           1     1  05/02/2010      24924.50      False\n",
       "1           1     1  12/02/2010      46039.49       True\n",
       "2           1     1  19/02/2010      41595.55      False\n",
       "3           1     1  26/02/2010      19403.54      False\n",
       "4           1     1  05/03/2010      21827.90      False\n",
       "...       ...   ...         ...           ...        ...\n",
       "421565     45    98  28/09/2012        508.37      False\n",
       "421566     45    98  05/10/2012        628.10      False\n",
       "421567     45    98  12/10/2012       1061.02      False\n",
       "421568     45    98  19/10/2012        760.01      False\n",
       "421569     45    98  26/10/2012       1076.80      False\n",
       "\n",
       "[421570 rows x 5 columns]"
      ]
     },
     "execution_count": 10,
     "metadata": {},
     "output_type": "execute_result"
    }
   ],
   "source": [
    "sales_dataset"
   ]
  },
  {
   "cell_type": "markdown",
   "id": "f1c1bc5f",
   "metadata": {
    "id": "KNYnS2bKFhQu",
    "papermill": {
     "duration": 0.039047,
     "end_time": "2021-11-21T18:25:01.999238",
     "exception": false,
     "start_time": "2021-11-21T18:25:01.960191",
     "status": "completed"
    },
    "tags": []
   },
   "source": [
    "## **Holidays**"
   ]
  },
  {
   "cell_type": "code",
   "execution_count": 11,
   "id": "cadd0dee",
   "metadata": {
    "execution": {
     "iopub.execute_input": "2021-11-21T18:25:02.080989Z",
     "iopub.status.busy": "2021-11-21T18:25:02.080274Z",
     "iopub.status.idle": "2021-11-21T18:25:02.212824Z",
     "shell.execute_reply": "2021-11-21T18:25:02.212121Z",
     "shell.execute_reply.started": "2021-11-21T18:17:42.997821Z"
    },
    "id": "FdYWm50K7Tji",
    "outputId": "0e5a10cc-1caf-4827-ae6c-4f7fd9c26868",
    "papermill": {
     "duration": 0.175127,
     "end_time": "2021-11-21T18:25:02.212985",
     "exception": false,
     "start_time": "2021-11-21T18:25:02.037858",
     "status": "completed"
    },
    "tags": []
   },
   "outputs": [
    {
     "data": {
      "image/png": "[encoded data removed]",
      "text/plain": [
       "<Figure size 864x432 with 1 Axes>"
      ]
     },
     "metadata": {},
     "output_type": "display_data"
    }
   ],
   "source": [
    "holidays=sales_dataset['IsHoliday'].value_counts()\n",
    "fig,ax=plt.subplots(figsize=(12,6))\n",
    "w,t,a=ax.pie(x=holidays.values, explode=[0,0.2], labels=holidays.index, autopct='%1.2f%%', pctdistance=0.6,)\n",
    "p=['NoHoliday','Holiday']\n",
    "ax.legend(w, p,\n",
    "          title=\"Status\",\n",
    "          loc=\"center left\",\n",
    "          bbox_to_anchor=(1, 0, 0.5, 1))\n",
    "plt.show()"
   ]
  },
  {
   "cell_type": "markdown",
   "id": "87578804",
   "metadata": {
    "id": "d48m6iHNyNDz",
    "papermill": {
     "duration": 0.038353,
     "end_time": "2021-11-21T18:25:02.290445",
     "exception": false,
     "start_time": "2021-11-21T18:25:02.252092",
     "status": "completed"
    },
    "tags": []
   },
   "source": [
    "## **Merging Datasets**"
   ]
  },
  {
   "cell_type": "code",
   "execution_count": 12,
   "id": "0688aaa2",
   "metadata": {
    "execution": {
     "iopub.execute_input": "2021-11-21T18:25:02.374929Z",
     "iopub.status.busy": "2021-11-21T18:25:02.374250Z",
     "iopub.status.idle": "2021-11-21T18:25:02.586044Z",
     "shell.execute_reply": "2021-11-21T18:25:02.585347Z",
     "shell.execute_reply.started": "2021-11-21T18:17:45.321645Z"
    },
    "id": "9M8fL4kdzP1w",
    "outputId": "2cc57446-1692-4e03-d848-b4f677df555f",
    "papermill": {
     "duration": 0.256146,
     "end_time": "2021-11-21T18:25:02.586205",
     "exception": false,
     "start_time": "2021-11-21T18:25:02.330059",
     "status": "completed"
    },
    "tags": []
   },
   "outputs": [
    {
     "data": {
      "text/html": [
       "<div>\n",
       "<style scoped>\n",
       "    .dataframe tbody tr th:only-of-type {\n",
       "        vertical-align: middle;\n",
       "    }\n",
       "\n",
       "    .dataframe tbody tr th {\n",
       "        vertical-align: top;\n",
       "    }\n",
       "\n",
       "    .dataframe thead th {\n",
       "        text-align: right;\n",
       "    }\n",
       "</style>\n",
       "<table border=\"1\" class=\"dataframe\">\n",
       "  <thead>\n",
       "    <tr style=\"text-align: right;\">\n",
       "      <th></th>\n",
       "      <th>Store</th>\n",
       "      <th>Date</th>\n",
       "      <th>Temperature</th>\n",
       "      <th>Fuel_Price</th>\n",
       "      <th>MarkDown1</th>\n",
       "      <th>MarkDown2</th>\n",
       "      <th>MarkDown3</th>\n",
       "      <th>MarkDown4</th>\n",
       "      <th>MarkDown5</th>\n",
       "      <th>CPI</th>\n",
       "      <th>Unemployment</th>\n",
       "      <th>IsHoliday</th>\n",
       "      <th>Dept</th>\n",
       "      <th>Weekly_Sales</th>\n",
       "    </tr>\n",
       "  </thead>\n",
       "  <tbody>\n",
       "    <tr>\n",
       "      <th>0</th>\n",
       "      <td>1</td>\n",
       "      <td>05/02/2010</td>\n",
       "      <td>42.31</td>\n",
       "      <td>2.572</td>\n",
       "      <td>0.00</td>\n",
       "      <td>0.00</td>\n",
       "      <td>0.0</td>\n",
       "      <td>0.00</td>\n",
       "      <td>0.00</td>\n",
       "      <td>211.096358</td>\n",
       "      <td>8.106</td>\n",
       "      <td>False</td>\n",
       "      <td>1</td>\n",
       "      <td>24924.50</td>\n",
       "    </tr>\n",
       "    <tr>\n",
       "      <th>1</th>\n",
       "      <td>1</td>\n",
       "      <td>05/02/2010</td>\n",
       "      <td>42.31</td>\n",
       "      <td>2.572</td>\n",
       "      <td>0.00</td>\n",
       "      <td>0.00</td>\n",
       "      <td>0.0</td>\n",
       "      <td>0.00</td>\n",
       "      <td>0.00</td>\n",
       "      <td>211.096358</td>\n",
       "      <td>8.106</td>\n",
       "      <td>False</td>\n",
       "      <td>2</td>\n",
       "      <td>50605.27</td>\n",
       "    </tr>\n",
       "    <tr>\n",
       "      <th>2</th>\n",
       "      <td>1</td>\n",
       "      <td>05/02/2010</td>\n",
       "      <td>42.31</td>\n",
       "      <td>2.572</td>\n",
       "      <td>0.00</td>\n",
       "      <td>0.00</td>\n",
       "      <td>0.0</td>\n",
       "      <td>0.00</td>\n",
       "      <td>0.00</td>\n",
       "      <td>211.096358</td>\n",
       "      <td>8.106</td>\n",
       "      <td>False</td>\n",
       "      <td>3</td>\n",
       "      <td>13740.12</td>\n",
       "    </tr>\n",
       "    <tr>\n",
       "      <th>3</th>\n",
       "      <td>1</td>\n",
       "      <td>05/02/2010</td>\n",
       "      <td>42.31</td>\n",
       "      <td>2.572</td>\n",
       "      <td>0.00</td>\n",
       "      <td>0.00</td>\n",
       "      <td>0.0</td>\n",
       "      <td>0.00</td>\n",
       "      <td>0.00</td>\n",
       "      <td>211.096358</td>\n",
       "      <td>8.106</td>\n",
       "      <td>False</td>\n",
       "      <td>4</td>\n",
       "      <td>39954.04</td>\n",
       "    </tr>\n",
       "    <tr>\n",
       "      <th>4</th>\n",
       "      <td>1</td>\n",
       "      <td>05/02/2010</td>\n",
       "      <td>42.31</td>\n",
       "      <td>2.572</td>\n",
       "      <td>0.00</td>\n",
       "      <td>0.00</td>\n",
       "      <td>0.0</td>\n",
       "      <td>0.00</td>\n",
       "      <td>0.00</td>\n",
       "      <td>211.096358</td>\n",
       "      <td>8.106</td>\n",
       "      <td>False</td>\n",
       "      <td>5</td>\n",
       "      <td>32229.38</td>\n",
       "    </tr>\n",
       "    <tr>\n",
       "      <th>...</th>\n",
       "      <td>...</td>\n",
       "      <td>...</td>\n",
       "      <td>...</td>\n",
       "      <td>...</td>\n",
       "      <td>...</td>\n",
       "      <td>...</td>\n",
       "      <td>...</td>\n",
       "      <td>...</td>\n",
       "      <td>...</td>\n",
       "      <td>...</td>\n",
       "      <td>...</td>\n",
       "      <td>...</td>\n",
       "      <td>...</td>\n",
       "      <td>...</td>\n",
       "    </tr>\n",
       "    <tr>\n",
       "      <th>421565</th>\n",
       "      <td>45</td>\n",
       "      <td>26/10/2012</td>\n",
       "      <td>58.85</td>\n",
       "      <td>3.882</td>\n",
       "      <td>4018.91</td>\n",
       "      <td>58.08</td>\n",
       "      <td>100.0</td>\n",
       "      <td>211.94</td>\n",
       "      <td>858.33</td>\n",
       "      <td>192.308899</td>\n",
       "      <td>8.667</td>\n",
       "      <td>False</td>\n",
       "      <td>93</td>\n",
       "      <td>2487.80</td>\n",
       "    </tr>\n",
       "    <tr>\n",
       "      <th>421566</th>\n",
       "      <td>45</td>\n",
       "      <td>26/10/2012</td>\n",
       "      <td>58.85</td>\n",
       "      <td>3.882</td>\n",
       "      <td>4018.91</td>\n",
       "      <td>58.08</td>\n",
       "      <td>100.0</td>\n",
       "      <td>211.94</td>\n",
       "      <td>858.33</td>\n",
       "      <td>192.308899</td>\n",
       "      <td>8.667</td>\n",
       "      <td>False</td>\n",
       "      <td>94</td>\n",
       "      <td>5203.31</td>\n",
       "    </tr>\n",
       "    <tr>\n",
       "      <th>421567</th>\n",
       "      <td>45</td>\n",
       "      <td>26/10/2012</td>\n",
       "      <td>58.85</td>\n",
       "      <td>3.882</td>\n",
       "      <td>4018.91</td>\n",
       "      <td>58.08</td>\n",
       "      <td>100.0</td>\n",
       "      <td>211.94</td>\n",
       "      <td>858.33</td>\n",
       "      <td>192.308899</td>\n",
       "      <td>8.667</td>\n",
       "      <td>False</td>\n",
       "      <td>95</td>\n",
       "      <td>56017.47</td>\n",
       "    </tr>\n",
       "    <tr>\n",
       "      <th>421568</th>\n",
       "      <td>45</td>\n",
       "      <td>26/10/2012</td>\n",
       "      <td>58.85</td>\n",
       "      <td>3.882</td>\n",
       "      <td>4018.91</td>\n",
       "      <td>58.08</td>\n",
       "      <td>100.0</td>\n",
       "      <td>211.94</td>\n",
       "      <td>858.33</td>\n",
       "      <td>192.308899</td>\n",
       "      <td>8.667</td>\n",
       "      <td>False</td>\n",
       "      <td>97</td>\n",
       "      <td>6817.48</td>\n",
       "    </tr>\n",
       "    <tr>\n",
       "      <th>421569</th>\n",
       "      <td>45</td>\n",
       "      <td>26/10/2012</td>\n",
       "      <td>58.85</td>\n",
       "      <td>3.882</td>\n",
       "      <td>4018.91</td>\n",
       "      <td>58.08</td>\n",
       "      <td>100.0</td>\n",
       "      <td>211.94</td>\n",
       "      <td>858.33</td>\n",
       "      <td>192.308899</td>\n",
       "      <td>8.667</td>\n",
       "      <td>False</td>\n",
       "      <td>98</td>\n",
       "      <td>1076.80</td>\n",
       "    </tr>\n",
       "  </tbody>\n",
       "</table>\n",
       "<p>421570 rows × 14 columns</p>\n",
       "</div>"
      ],
      "text/plain": [
       "        Store        Date  Temperature  Fuel_Price  MarkDown1  MarkDown2  \\\n",
       "0           1  05/02/2010        42.31       2.572       0.00       0.00   \n",
       "1           1  05/02/2010        42.31       2.572       0.00       0.00   \n",
       "2           1  05/02/2010        42.31       2.572       0.00       0.00   \n",
       "3           1  05/02/2010        42.31       2.572       0.00       0.00   \n",
       "4           1  05/02/2010        42.31       2.572       0.00       0.00   \n",
       "...       ...         ...          ...         ...        ...        ...   \n",
       "421565     45  26/10/2012        58.85       3.882    4018.91      58.08   \n",
       "421566     45  26/10/2012        58.85       3.882    4018.91      58.08   \n",
       "421567     45  26/10/2012        58.85       3.882    4018.91      58.08   \n",
       "421568     45  26/10/2012        58.85       3.882    4018.91      58.08   \n",
       "421569     45  26/10/2012        58.85       3.882    4018.91      58.08   \n",
       "\n",
       "        MarkDown3  MarkDown4  MarkDown5         CPI  Unemployment  IsHoliday  \\\n",
       "0             0.0       0.00       0.00  211.096358         8.106      False   \n",
       "1             0.0       0.00       0.00  211.096358         8.106      False   \n",
       "2             0.0       0.00       0.00  211.096358         8.106      False   \n",
       "3             0.0       0.00       0.00  211.096358         8.106      False   \n",
       "4             0.0       0.00       0.00  211.096358         8.106      False   \n",
       "...           ...        ...        ...         ...           ...        ...   \n",
       "421565      100.0     211.94     858.33  192.308899         8.667      False   \n",
       "421566      100.0     211.94     858.33  192.308899         8.667      False   \n",
       "421567      100.0     211.94     858.33  192.308899         8.667      False   \n",
       "421568      100.0     211.94     858.33  192.308899         8.667      False   \n",
       "421569      100.0     211.94     858.33  192.308899         8.667      False   \n",
       "\n",
       "        Dept  Weekly_Sales  \n",
       "0          1      24924.50  \n",
       "1          2      50605.27  \n",
       "2          3      13740.12  \n",
       "3          4      39954.04  \n",
       "4          5      32229.38  \n",
       "...      ...           ...  \n",
       "421565    93       2487.80  \n",
       "421566    94       5203.31  \n",
       "421567    95      56017.47  \n",
       "421568    97       6817.48  \n",
       "421569    98       1076.80  \n",
       "\n",
       "[421570 rows x 14 columns]"
      ]
     },
     "execution_count": 12,
     "metadata": {},
     "output_type": "execute_result"
    }
   ],
   "source": [
    "df=pd.merge(feat_dataset,sales_dataset,on=['Store','Date','IsHoliday'])\n",
    "df"
   ]
  },
  {
   "cell_type": "markdown",
   "id": "ec9e189c",
   "metadata": {
    "id": "4kF02MxxsU3_",
    "papermill": {
     "duration": 0.038995,
     "end_time": "2021-11-21T18:25:02.666322",
     "exception": false,
     "start_time": "2021-11-21T18:25:02.627327",
     "status": "completed"
    },
    "tags": []
   },
   "source": [
    "### Maximum value of each feature"
   ]
  },
  {
   "cell_type": "code",
   "execution_count": 13,
   "id": "6dfb08f3",
   "metadata": {
    "execution": {
     "iopub.execute_input": "2021-11-21T18:25:02.752058Z",
     "iopub.status.busy": "2021-11-21T18:25:02.751314Z",
     "iopub.status.idle": "2021-11-21T18:25:02.831794Z",
     "shell.execute_reply": "2021-11-21T18:25:02.831105Z",
     "shell.execute_reply.started": "2021-11-21T18:17:47.399007Z"
    },
    "id": "I9NhEnFZsRXs",
    "outputId": "a55e7b56-11f4-472e-ebe7-41b225042ccc",
    "papermill": {
     "duration": 0.125189,
     "end_time": "2021-11-21T18:25:02.831955",
     "exception": false,
     "start_time": "2021-11-21T18:25:02.706766",
     "status": "completed"
    },
    "tags": []
   },
   "outputs": [
    {
     "data": {
      "text/plain": [
       "Store                   45\n",
       "Date            31/12/2010\n",
       "Temperature         100.14\n",
       "Fuel_Price           4.468\n",
       "MarkDown1         88646.76\n",
       "MarkDown2        104519.54\n",
       "MarkDown3        141630.61\n",
       "MarkDown4         67474.85\n",
       "MarkDown5        108519.28\n",
       "CPI             227.232807\n",
       "Unemployment        14.313\n",
       "IsHoliday             True\n",
       "Dept                    99\n",
       "Weekly_Sales     693099.36\n",
       "dtype: object"
      ]
     },
     "execution_count": 13,
     "metadata": {},
     "output_type": "execute_result"
    }
   ],
   "source": [
    "df.max()"
   ]
  },
  {
   "cell_type": "markdown",
   "id": "e5c8b376",
   "metadata": {
    "id": "JxemT_Bt0--U",
    "papermill": {
     "duration": 0.039967,
     "end_time": "2021-11-21T18:25:02.911742",
     "exception": false,
     "start_time": "2021-11-21T18:25:02.871775",
     "status": "completed"
    },
    "tags": []
   },
   "source": [
    "#### Sum of Weekly_Sales of Store no **10 - 20** are much higher than other Store"
   ]
  },
  {
   "cell_type": "code",
   "execution_count": 14,
   "id": "4ac19119",
   "metadata": {
    "execution": {
     "iopub.execute_input": "2021-11-21T18:25:02.996329Z",
     "iopub.status.busy": "2021-11-21T18:25:02.995661Z",
     "iopub.status.idle": "2021-11-21T18:25:03.233350Z",
     "shell.execute_reply": "2021-11-21T18:25:03.233905Z",
     "shell.execute_reply.started": "2021-11-21T18:17:49.352246Z"
    },
    "id": "sXZ1rMTIw2J9",
    "outputId": "5133586c-6193-493b-df19-0593b9a3055c",
    "papermill": {
     "duration": 0.282264,
     "end_time": "2021-11-21T18:25:03.234112",
     "exception": false,
     "start_time": "2021-11-21T18:25:02.951848",
     "status": "completed"
    },
    "tags": []
   },
   "outputs": [
    {
     "data": {
      "image/png": "[encoded data removed]",
      "text/plain": [
       "<Figure size 720x288 with 1 Axes>"
      ]
     },
     "metadata": {
      "needs_background": "light"
     },
     "output_type": "display_data"
    }
   ],
   "source": [
    "df_week_store_sales=df.groupby(by=['Store'],as_index=False)['Weekly_Sales'].sum()\n",
    "plt.figure(figsize=(10,4))\n",
    "plt.plot(df_week_store_sales.Store,df_week_store_sales.Weekly_Sales)\n",
    "plt.show()"
   ]
  },
  {
   "cell_type": "code",
   "execution_count": 15,
   "id": "d9920bd0",
   "metadata": {
    "execution": {
     "iopub.execute_input": "2021-11-21T18:25:03.320614Z",
     "iopub.status.busy": "2021-11-21T18:25:03.319961Z",
     "iopub.status.idle": "2021-11-21T18:25:14.820161Z",
     "shell.execute_reply": "2021-11-21T18:25:14.820716Z",
     "shell.execute_reply.started": "2021-11-21T18:17:51.630261Z"
    },
    "id": "nx1JiW86vbd5",
    "outputId": "6d91175a-f728-4a78-d4a2-9174e3cfd939",
    "papermill": {
     "duration": 11.544669,
     "end_time": "2021-11-21T18:25:14.820908",
     "exception": false,
     "start_time": "2021-11-21T18:25:03.276239",
     "status": "completed"
    },
    "tags": []
   },
   "outputs": [
    {
     "data": {
      "image/png": "[encoded data removed]",
      "text/plain": [
       "<Figure size 864x576 with 9 Axes>"
      ]
     },
     "metadata": {
      "needs_background": "light"
     },
     "output_type": "display_data"
    }
   ],
   "source": [
    "df[['Date', 'Temperature', 'Fuel_Price', 'CPI', 'Unemployment', \n",
    "    'MarkDown1', 'MarkDown2', 'MarkDown3', 'MarkDown4', 'MarkDown5']].plot(x='Date', subplots=True, figsize=(12,8))\n",
    "plt.show()"
   ]
  },
  {
   "cell_type": "markdown",
   "id": "6ac01f92",
   "metadata": {
    "id": "lV33rORGEsWd",
    "papermill": {
     "duration": 0.04475,
     "end_time": "2021-11-21T18:25:14.973815",
     "exception": false,
     "start_time": "2021-11-21T18:25:14.929065",
     "status": "completed"
    },
    "tags": []
   },
   "source": [
    "The highest Sale was made on December 2010 "
   ]
  },
  {
   "cell_type": "markdown",
   "id": "b48b4f88",
   "metadata": {
    "id": "Cqegs5uvGcpu",
    "papermill": {
     "duration": 0.045383,
     "end_time": "2021-11-21T18:25:15.063968",
     "exception": false,
     "start_time": "2021-11-21T18:25:15.018585",
     "status": "completed"
    },
    "tags": []
   },
   "source": [
    "Correlation between the features"
   ]
  },
  {
   "cell_type": "code",
   "execution_count": 16,
   "id": "0e2fb44f",
   "metadata": {
    "execution": {
     "iopub.execute_input": "2021-11-21T18:25:15.158187Z",
     "iopub.status.busy": "2021-11-21T18:25:15.157535Z",
     "iopub.status.idle": "2021-11-21T18:25:17.471814Z",
     "shell.execute_reply": "2021-11-21T18:25:17.472347Z",
     "shell.execute_reply.started": "2021-11-21T18:18:02.740538Z"
    },
    "id": "6mdyCO3-8tFV",
    "outputId": "805483e5-18f8-4474-9351-22b2fc657b2c",
    "papermill": {
     "duration": 2.36285,
     "end_time": "2021-11-21T18:25:17.472519",
     "exception": false,
     "start_time": "2021-11-21T18:25:15.109669",
     "status": "completed"
    },
    "tags": []
   },
   "outputs": [
    {
     "data": {
      "image/png": "[encoded data removed]",
      "text/plain": [
       "<Figure size 1440x720 with 2 Axes>"
      ]
     },
     "metadata": {
      "needs_background": "light"
     },
     "output_type": "display_data"
    }
   ],
   "source": [
    "corr_mat_f=df.corr(method='pearson')\n",
    "import seaborn as sb\n",
    "plt.figure(figsize=(20,10))\n",
    "sb.heatmap(corr_mat_f,cmap='RdBu_r',annot=True)\n",
    "plt.show()"
   ]
  },
  {
   "cell_type": "code",
   "execution_count": 17,
   "id": "256bdd3c",
   "metadata": {
    "execution": {
     "iopub.execute_input": "2021-11-21T18:25:17.578400Z",
     "iopub.status.busy": "2021-11-21T18:25:17.577693Z",
     "iopub.status.idle": "2021-11-21T18:25:17.795792Z",
     "shell.execute_reply": "2021-11-21T18:25:17.796313Z",
     "shell.execute_reply.started": "2021-11-21T18:18:07.930007Z"
    },
    "id": "sI296zWE5pYn",
    "outputId": "a326081e-2b6e-46a6-e02e-8b3a528e2045",
    "papermill": {
     "duration": 0.274672,
     "end_time": "2021-11-21T18:25:17.796568",
     "exception": false,
     "start_time": "2021-11-21T18:25:17.521896",
     "status": "completed"
    },
    "tags": []
   },
   "outputs": [
    {
     "data": {
      "image/png": "[encoded data removed]",
      "text/plain": [
       "<Figure size 576x288 with 1 Axes>"
      ]
     },
     "metadata": {
      "needs_background": "light"
     },
     "output_type": "display_data"
    }
   ],
   "source": [
    "unemp_rate=feat_dataset.groupby(by=['Store'],as_index=False)['CPI'].sum()\n",
    "plt.figure(figsize=(8,4))\n",
    "plt.plot(unemp_rate.Store,unemp_rate.CPI)\n",
    "plt.xlabel(\"Store\")\n",
    "plt.ylabel(\"CPI\")\n",
    "plt.title(\"Stores CPI\")\n",
    "plt.show()"
   ]
  },
  {
   "cell_type": "code",
   "execution_count": 18,
   "id": "1c39f038",
   "metadata": {
    "execution": {
     "iopub.execute_input": "2021-11-21T18:25:17.901088Z",
     "iopub.status.busy": "2021-11-21T18:25:17.900408Z",
     "iopub.status.idle": "2021-11-21T18:25:18.122811Z",
     "shell.execute_reply": "2021-11-21T18:25:18.122191Z",
     "shell.execute_reply.started": "2021-11-21T18:18:10.436440Z"
    },
    "id": "IkBadiyy_6ez",
    "outputId": "5598b7c5-6562-4b80-a7d0-d50eb2bdbb6e",
    "papermill": {
     "duration": 0.276408,
     "end_time": "2021-11-21T18:25:18.122973",
     "exception": false,
     "start_time": "2021-11-21T18:25:17.846565",
     "status": "completed"
    },
    "tags": []
   },
   "outputs": [
    {
     "data": {
      "image/png": "[encoded data removed]",
      "text/plain": [
       "<Figure size 576x432 with 1 Axes>"
      ]
     },
     "metadata": {
      "needs_background": "light"
     },
     "output_type": "display_data"
    }
   ],
   "source": [
    "unemp_rate=feat_dataset.groupby(by=['Store'],as_index=False)['Unemployment'].sum()\n",
    "plt.figure(figsize=(8,6))\n",
    "plt.plot(unemp_rate.Store,unemp_rate.Unemployment)\n",
    "plt.title('Unemployment Rate vs Store no')\n",
    "plt.xlabel('Store no')\n",
    "plt.ylabel('Unemployment Rate')\n",
    "plt.show()"
   ]
  },
  {
   "cell_type": "markdown",
   "id": "eb272aa4",
   "metadata": {
    "id": "oHbuwOLRqI98",
    "papermill": {
     "duration": 0.05254,
     "end_time": "2021-11-21T18:25:18.228322",
     "exception": false,
     "start_time": "2021-11-21T18:25:18.175782",
     "status": "completed"
    },
    "tags": []
   },
   "source": [
    "### **Markdowns**"
   ]
  },
  {
   "cell_type": "code",
   "execution_count": 19,
   "id": "e6f61538",
   "metadata": {
    "execution": {
     "iopub.execute_input": "2021-11-21T18:25:18.340566Z",
     "iopub.status.busy": "2021-11-21T18:25:18.339852Z",
     "iopub.status.idle": "2021-11-21T18:25:24.636687Z",
     "shell.execute_reply": "2021-11-21T18:25:24.636014Z",
     "shell.execute_reply.started": "2021-11-21T18:18:13.554233Z"
    },
    "id": "UqXap-ZqCFtc",
    "outputId": "b98be51e-a084-4845-f412-78b73d50e719",
    "papermill": {
     "duration": 6.356294,
     "end_time": "2021-11-21T18:25:24.636829",
     "exception": false,
     "start_time": "2021-11-21T18:25:18.280535",
     "status": "completed"
    },
    "tags": []
   },
   "outputs": [
    {
     "data": {
      "image/png": "[encoded data removed]",
      "text/plain": [
       "<Figure size 576x360 with 5 Axes>"
      ]
     },
     "metadata": {
      "needs_background": "light"
     },
     "output_type": "display_data"
    }
   ],
   "source": [
    "df[['Date','MarkDown1','MarkDown2','MarkDown3','MarkDown4','MarkDown5']].plot(x='Date',subplots=True,figsize=(8,5))\n",
    "plt.show()"
   ]
  },
  {
   "cell_type": "markdown",
   "id": "a1d66e1a",
   "metadata": {
    "id": "CEl6VO1QIe3I",
    "papermill": {
     "duration": 0.052323,
     "end_time": "2021-11-21T18:25:24.742380",
     "exception": false,
     "start_time": "2021-11-21T18:25:24.690057",
     "status": "completed"
    },
    "tags": []
   },
   "source": [
    "## **Predictions (Weakly Sales)**"
   ]
  },
  {
   "cell_type": "code",
   "execution_count": 20,
   "id": "76a42fd2",
   "metadata": {
    "execution": {
     "iopub.execute_input": "2021-11-21T18:25:24.890792Z",
     "iopub.status.busy": "2021-11-21T18:25:24.868529Z",
     "iopub.status.idle": "2021-11-21T18:25:24.899062Z",
     "shell.execute_reply": "2021-11-21T18:25:24.898462Z",
     "shell.execute_reply.started": "2021-11-21T18:18:24.243613Z"
    },
    "id": "W0comzpj1_kx",
    "outputId": "c0ab90f6-af36-4923-ed16-410f8ca72f12",
    "papermill": {
     "duration": 0.104738,
     "end_time": "2021-11-21T18:25:24.899199",
     "exception": false,
     "start_time": "2021-11-21T18:25:24.794461",
     "status": "completed"
    },
    "tags": []
   },
   "outputs": [
    {
     "data": {
      "text/html": [
       "<div>\n",
       "<style scoped>\n",
       "    .dataframe tbody tr th:only-of-type {\n",
       "        vertical-align: middle;\n",
       "    }\n",
       "\n",
       "    .dataframe tbody tr th {\n",
       "        vertical-align: top;\n",
       "    }\n",
       "\n",
       "    .dataframe thead th {\n",
       "        text-align: right;\n",
       "    }\n",
       "</style>\n",
       "<table border=\"1\" class=\"dataframe\">\n",
       "  <thead>\n",
       "    <tr style=\"text-align: right;\">\n",
       "      <th></th>\n",
       "      <th>Store</th>\n",
       "      <th>Temperature</th>\n",
       "      <th>Fuel_Price</th>\n",
       "      <th>MarkDown1</th>\n",
       "      <th>MarkDown2</th>\n",
       "      <th>MarkDown3</th>\n",
       "      <th>MarkDown4</th>\n",
       "      <th>MarkDown5</th>\n",
       "      <th>CPI</th>\n",
       "      <th>Unemployment</th>\n",
       "      <th>IsHoliday</th>\n",
       "      <th>Dept</th>\n",
       "      <th>Weekly_Sales</th>\n",
       "    </tr>\n",
       "  </thead>\n",
       "  <tbody>\n",
       "    <tr>\n",
       "      <th>0</th>\n",
       "      <td>1</td>\n",
       "      <td>42.31</td>\n",
       "      <td>2.572</td>\n",
       "      <td>0.00</td>\n",
       "      <td>0.00</td>\n",
       "      <td>0.0</td>\n",
       "      <td>0.00</td>\n",
       "      <td>0.00</td>\n",
       "      <td>211.096358</td>\n",
       "      <td>8.106</td>\n",
       "      <td>False</td>\n",
       "      <td>1</td>\n",
       "      <td>24924.50</td>\n",
       "    </tr>\n",
       "    <tr>\n",
       "      <th>1</th>\n",
       "      <td>1</td>\n",
       "      <td>42.31</td>\n",
       "      <td>2.572</td>\n",
       "      <td>0.00</td>\n",
       "      <td>0.00</td>\n",
       "      <td>0.0</td>\n",
       "      <td>0.00</td>\n",
       "      <td>0.00</td>\n",
       "      <td>211.096358</td>\n",
       "      <td>8.106</td>\n",
       "      <td>False</td>\n",
       "      <td>2</td>\n",
       "      <td>50605.27</td>\n",
       "    </tr>\n",
       "    <tr>\n",
       "      <th>2</th>\n",
       "      <td>1</td>\n",
       "      <td>42.31</td>\n",
       "      <td>2.572</td>\n",
       "      <td>0.00</td>\n",
       "      <td>0.00</td>\n",
       "      <td>0.0</td>\n",
       "      <td>0.00</td>\n",
       "      <td>0.00</td>\n",
       "      <td>211.096358</td>\n",
       "      <td>8.106</td>\n",
       "      <td>False</td>\n",
       "      <td>3</td>\n",
       "      <td>13740.12</td>\n",
       "    </tr>\n",
       "    <tr>\n",
       "      <th>3</th>\n",
       "      <td>1</td>\n",
       "      <td>42.31</td>\n",
       "      <td>2.572</td>\n",
       "      <td>0.00</td>\n",
       "      <td>0.00</td>\n",
       "      <td>0.0</td>\n",
       "      <td>0.00</td>\n",
       "      <td>0.00</td>\n",
       "      <td>211.096358</td>\n",
       "      <td>8.106</td>\n",
       "      <td>False</td>\n",
       "      <td>4</td>\n",
       "      <td>39954.04</td>\n",
       "    </tr>\n",
       "    <tr>\n",
       "      <th>4</th>\n",
       "      <td>1</td>\n",
       "      <td>42.31</td>\n",
       "      <td>2.572</td>\n",
       "      <td>0.00</td>\n",
       "      <td>0.00</td>\n",
       "      <td>0.0</td>\n",
       "      <td>0.00</td>\n",
       "      <td>0.00</td>\n",
       "      <td>211.096358</td>\n",
       "      <td>8.106</td>\n",
       "      <td>False</td>\n",
       "      <td>5</td>\n",
       "      <td>32229.38</td>\n",
       "    </tr>\n",
       "    <tr>\n",
       "      <th>...</th>\n",
       "      <td>...</td>\n",
       "      <td>...</td>\n",
       "      <td>...</td>\n",
       "      <td>...</td>\n",
       "      <td>...</td>\n",
       "      <td>...</td>\n",
       "      <td>...</td>\n",
       "      <td>...</td>\n",
       "      <td>...</td>\n",
       "      <td>...</td>\n",
       "      <td>...</td>\n",
       "      <td>...</td>\n",
       "      <td>...</td>\n",
       "    </tr>\n",
       "    <tr>\n",
       "      <th>421565</th>\n",
       "      <td>45</td>\n",
       "      <td>58.85</td>\n",
       "      <td>3.882</td>\n",
       "      <td>4018.91</td>\n",
       "      <td>58.08</td>\n",
       "      <td>100.0</td>\n",
       "      <td>211.94</td>\n",
       "      <td>858.33</td>\n",
       "      <td>192.308899</td>\n",
       "      <td>8.667</td>\n",
       "      <td>False</td>\n",
       "      <td>93</td>\n",
       "      <td>2487.80</td>\n",
       "    </tr>\n",
       "    <tr>\n",
       "      <th>421566</th>\n",
       "      <td>45</td>\n",
       "      <td>58.85</td>\n",
       "      <td>3.882</td>\n",
       "      <td>4018.91</td>\n",
       "      <td>58.08</td>\n",
       "      <td>100.0</td>\n",
       "      <td>211.94</td>\n",
       "      <td>858.33</td>\n",
       "      <td>192.308899</td>\n",
       "      <td>8.667</td>\n",
       "      <td>False</td>\n",
       "      <td>94</td>\n",
       "      <td>5203.31</td>\n",
       "    </tr>\n",
       "    <tr>\n",
       "      <th>421567</th>\n",
       "      <td>45</td>\n",
       "      <td>58.85</td>\n",
       "      <td>3.882</td>\n",
       "      <td>4018.91</td>\n",
       "      <td>58.08</td>\n",
       "      <td>100.0</td>\n",
       "      <td>211.94</td>\n",
       "      <td>858.33</td>\n",
       "      <td>192.308899</td>\n",
       "      <td>8.667</td>\n",
       "      <td>False</td>\n",
       "      <td>95</td>\n",
       "      <td>56017.47</td>\n",
       "    </tr>\n",
       "    <tr>\n",
       "      <th>421568</th>\n",
       "      <td>45</td>\n",
       "      <td>58.85</td>\n",
       "      <td>3.882</td>\n",
       "      <td>4018.91</td>\n",
       "      <td>58.08</td>\n",
       "      <td>100.0</td>\n",
       "      <td>211.94</td>\n",
       "      <td>858.33</td>\n",
       "      <td>192.308899</td>\n",
       "      <td>8.667</td>\n",
       "      <td>False</td>\n",
       "      <td>97</td>\n",
       "      <td>6817.48</td>\n",
       "    </tr>\n",
       "    <tr>\n",
       "      <th>421569</th>\n",
       "      <td>45</td>\n",
       "      <td>58.85</td>\n",
       "      <td>3.882</td>\n",
       "      <td>4018.91</td>\n",
       "      <td>58.08</td>\n",
       "      <td>100.0</td>\n",
       "      <td>211.94</td>\n",
       "      <td>858.33</td>\n",
       "      <td>192.308899</td>\n",
       "      <td>8.667</td>\n",
       "      <td>False</td>\n",
       "      <td>98</td>\n",
       "      <td>1076.80</td>\n",
       "    </tr>\n",
       "  </tbody>\n",
       "</table>\n",
       "<p>421570 rows × 13 columns</p>\n",
       "</div>"
      ],
      "text/plain": [
       "        Store  Temperature  Fuel_Price  MarkDown1  MarkDown2  MarkDown3  \\\n",
       "0           1        42.31       2.572       0.00       0.00        0.0   \n",
       "1           1        42.31       2.572       0.00       0.00        0.0   \n",
       "2           1        42.31       2.572       0.00       0.00        0.0   \n",
       "3           1        42.31       2.572       0.00       0.00        0.0   \n",
       "4           1        42.31       2.572       0.00       0.00        0.0   \n",
       "...       ...          ...         ...        ...        ...        ...   \n",
       "421565     45        58.85       3.882    4018.91      58.08      100.0   \n",
       "421566     45        58.85       3.882    4018.91      58.08      100.0   \n",
       "421567     45        58.85       3.882    4018.91      58.08      100.0   \n",
       "421568     45        58.85       3.882    4018.91      58.08      100.0   \n",
       "421569     45        58.85       3.882    4018.91      58.08      100.0   \n",
       "\n",
       "        MarkDown4  MarkDown5         CPI  Unemployment  IsHoliday  Dept  \\\n",
       "0            0.00       0.00  211.096358         8.106      False     1   \n",
       "1            0.00       0.00  211.096358         8.106      False     2   \n",
       "2            0.00       0.00  211.096358         8.106      False     3   \n",
       "3            0.00       0.00  211.096358         8.106      False     4   \n",
       "4            0.00       0.00  211.096358         8.106      False     5   \n",
       "...           ...        ...         ...           ...        ...   ...   \n",
       "421565     211.94     858.33  192.308899         8.667      False    93   \n",
       "421566     211.94     858.33  192.308899         8.667      False    94   \n",
       "421567     211.94     858.33  192.308899         8.667      False    95   \n",
       "421568     211.94     858.33  192.308899         8.667      False    97   \n",
       "421569     211.94     858.33  192.308899         8.667      False    98   \n",
       "\n",
       "        Weekly_Sales  \n",
       "0           24924.50  \n",
       "1           50605.27  \n",
       "2           13740.12  \n",
       "3           39954.04  \n",
       "4           32229.38  \n",
       "...              ...  \n",
       "421565       2487.80  \n",
       "421566       5203.31  \n",
       "421567      56017.47  \n",
       "421568       6817.48  \n",
       "421569       1076.80  \n",
       "\n",
       "[421570 rows x 13 columns]"
      ]
     },
     "execution_count": 20,
     "metadata": {},
     "output_type": "execute_result"
    }
   ],
   "source": [
    "df=df.drop('Date',axis=1)\n",
    "df"
   ]
  },
  {
   "cell_type": "markdown",
   "id": "8dbe712f",
   "metadata": {
    "id": "YPRvBWzzq1An",
    "papermill": {
     "duration": 0.052855,
     "end_time": "2021-11-21T18:25:25.005177",
     "exception": false,
     "start_time": "2021-11-21T18:25:24.952322",
     "status": "completed"
    },
    "tags": []
   },
   "source": [
    "Encoding the categorical column \"IsHoliday\""
   ]
  },
  {
   "cell_type": "code",
   "execution_count": 21,
   "id": "17dde1d6",
   "metadata": {
    "execution": {
     "iopub.execute_input": "2021-11-21T18:25:25.117798Z",
     "iopub.status.busy": "2021-11-21T18:25:25.117087Z",
     "iopub.status.idle": "2021-11-21T18:25:25.435278Z",
     "shell.execute_reply": "2021-11-21T18:25:25.435819Z",
     "shell.execute_reply.started": "2021-11-21T18:18:26.776322Z"
    },
    "id": "XOxlteU31dJR",
    "outputId": "c9fd432f-e992-4943-d3a4-21f83aebd17e",
    "papermill": {
     "duration": 0.37679,
     "end_time": "2021-11-21T18:25:25.435993",
     "exception": false,
     "start_time": "2021-11-21T18:25:25.059203",
     "status": "completed"
    },
    "tags": []
   },
   "outputs": [
    {
     "data": {
      "text/html": [
       "<div>\n",
       "<style scoped>\n",
       "    .dataframe tbody tr th:only-of-type {\n",
       "        vertical-align: middle;\n",
       "    }\n",
       "\n",
       "    .dataframe tbody tr th {\n",
       "        vertical-align: top;\n",
       "    }\n",
       "\n",
       "    .dataframe thead th {\n",
       "        text-align: right;\n",
       "    }\n",
       "</style>\n",
       "<table border=\"1\" class=\"dataframe\">\n",
       "  <thead>\n",
       "    <tr style=\"text-align: right;\">\n",
       "      <th></th>\n",
       "      <th>Store</th>\n",
       "      <th>Temperature</th>\n",
       "      <th>Fuel_Price</th>\n",
       "      <th>MarkDown1</th>\n",
       "      <th>MarkDown2</th>\n",
       "      <th>MarkDown3</th>\n",
       "      <th>MarkDown4</th>\n",
       "      <th>MarkDown5</th>\n",
       "      <th>CPI</th>\n",
       "      <th>Unemployment</th>\n",
       "      <th>IsHoliday</th>\n",
       "      <th>Dept</th>\n",
       "      <th>Weekly_Sales</th>\n",
       "    </tr>\n",
       "  </thead>\n",
       "  <tbody>\n",
       "    <tr>\n",
       "      <th>0</th>\n",
       "      <td>1</td>\n",
       "      <td>42.31</td>\n",
       "      <td>2.572</td>\n",
       "      <td>0.00</td>\n",
       "      <td>0.00</td>\n",
       "      <td>0.0</td>\n",
       "      <td>0.00</td>\n",
       "      <td>0.00</td>\n",
       "      <td>211.096358</td>\n",
       "      <td>8.106</td>\n",
       "      <td>0</td>\n",
       "      <td>1</td>\n",
       "      <td>24924.50</td>\n",
       "    </tr>\n",
       "    <tr>\n",
       "      <th>1</th>\n",
       "      <td>1</td>\n",
       "      <td>42.31</td>\n",
       "      <td>2.572</td>\n",
       "      <td>0.00</td>\n",
       "      <td>0.00</td>\n",
       "      <td>0.0</td>\n",
       "      <td>0.00</td>\n",
       "      <td>0.00</td>\n",
       "      <td>211.096358</td>\n",
       "      <td>8.106</td>\n",
       "      <td>0</td>\n",
       "      <td>2</td>\n",
       "      <td>50605.27</td>\n",
       "    </tr>\n",
       "    <tr>\n",
       "      <th>2</th>\n",
       "      <td>1</td>\n",
       "      <td>42.31</td>\n",
       "      <td>2.572</td>\n",
       "      <td>0.00</td>\n",
       "      <td>0.00</td>\n",
       "      <td>0.0</td>\n",
       "      <td>0.00</td>\n",
       "      <td>0.00</td>\n",
       "      <td>211.096358</td>\n",
       "      <td>8.106</td>\n",
       "      <td>0</td>\n",
       "      <td>3</td>\n",
       "      <td>13740.12</td>\n",
       "    </tr>\n",
       "    <tr>\n",
       "      <th>3</th>\n",
       "      <td>1</td>\n",
       "      <td>42.31</td>\n",
       "      <td>2.572</td>\n",
       "      <td>0.00</td>\n",
       "      <td>0.00</td>\n",
       "      <td>0.0</td>\n",
       "      <td>0.00</td>\n",
       "      <td>0.00</td>\n",
       "      <td>211.096358</td>\n",
       "      <td>8.106</td>\n",
       "      <td>0</td>\n",
       "      <td>4</td>\n",
       "      <td>39954.04</td>\n",
       "    </tr>\n",
       "    <tr>\n",
       "      <th>4</th>\n",
       "      <td>1</td>\n",
       "      <td>42.31</td>\n",
       "      <td>2.572</td>\n",
       "      <td>0.00</td>\n",
       "      <td>0.00</td>\n",
       "      <td>0.0</td>\n",
       "      <td>0.00</td>\n",
       "      <td>0.00</td>\n",
       "      <td>211.096358</td>\n",
       "      <td>8.106</td>\n",
       "      <td>0</td>\n",
       "      <td>5</td>\n",
       "      <td>32229.38</td>\n",
       "    </tr>\n",
       "    <tr>\n",
       "      <th>...</th>\n",
       "      <td>...</td>\n",
       "      <td>...</td>\n",
       "      <td>...</td>\n",
       "      <td>...</td>\n",
       "      <td>...</td>\n",
       "      <td>...</td>\n",
       "      <td>...</td>\n",
       "      <td>...</td>\n",
       "      <td>...</td>\n",
       "      <td>...</td>\n",
       "      <td>...</td>\n",
       "      <td>...</td>\n",
       "      <td>...</td>\n",
       "    </tr>\n",
       "    <tr>\n",
       "      <th>421565</th>\n",
       "      <td>45</td>\n",
       "      <td>58.85</td>\n",
       "      <td>3.882</td>\n",
       "      <td>4018.91</td>\n",
       "      <td>58.08</td>\n",
       "      <td>100.0</td>\n",
       "      <td>211.94</td>\n",
       "      <td>858.33</td>\n",
       "      <td>192.308899</td>\n",
       "      <td>8.667</td>\n",
       "      <td>0</td>\n",
       "      <td>93</td>\n",
       "      <td>2487.80</td>\n",
       "    </tr>\n",
       "    <tr>\n",
       "      <th>421566</th>\n",
       "      <td>45</td>\n",
       "      <td>58.85</td>\n",
       "      <td>3.882</td>\n",
       "      <td>4018.91</td>\n",
       "      <td>58.08</td>\n",
       "      <td>100.0</td>\n",
       "      <td>211.94</td>\n",
       "      <td>858.33</td>\n",
       "      <td>192.308899</td>\n",
       "      <td>8.667</td>\n",
       "      <td>0</td>\n",
       "      <td>94</td>\n",
       "      <td>5203.31</td>\n",
       "    </tr>\n",
       "    <tr>\n",
       "      <th>421567</th>\n",
       "      <td>45</td>\n",
       "      <td>58.85</td>\n",
       "      <td>3.882</td>\n",
       "      <td>4018.91</td>\n",
       "      <td>58.08</td>\n",
       "      <td>100.0</td>\n",
       "      <td>211.94</td>\n",
       "      <td>858.33</td>\n",
       "      <td>192.308899</td>\n",
       "      <td>8.667</td>\n",
       "      <td>0</td>\n",
       "      <td>95</td>\n",
       "      <td>56017.47</td>\n",
       "    </tr>\n",
       "    <tr>\n",
       "      <th>421568</th>\n",
       "      <td>45</td>\n",
       "      <td>58.85</td>\n",
       "      <td>3.882</td>\n",
       "      <td>4018.91</td>\n",
       "      <td>58.08</td>\n",
       "      <td>100.0</td>\n",
       "      <td>211.94</td>\n",
       "      <td>858.33</td>\n",
       "      <td>192.308899</td>\n",
       "      <td>8.667</td>\n",
       "      <td>0</td>\n",
       "      <td>97</td>\n",
       "      <td>6817.48</td>\n",
       "    </tr>\n",
       "    <tr>\n",
       "      <th>421569</th>\n",
       "      <td>45</td>\n",
       "      <td>58.85</td>\n",
       "      <td>3.882</td>\n",
       "      <td>4018.91</td>\n",
       "      <td>58.08</td>\n",
       "      <td>100.0</td>\n",
       "      <td>211.94</td>\n",
       "      <td>858.33</td>\n",
       "      <td>192.308899</td>\n",
       "      <td>8.667</td>\n",
       "      <td>0</td>\n",
       "      <td>98</td>\n",
       "      <td>1076.80</td>\n",
       "    </tr>\n",
       "  </tbody>\n",
       "</table>\n",
       "<p>421570 rows × 13 columns</p>\n",
       "</div>"
      ],
      "text/plain": [
       "        Store  Temperature  Fuel_Price  MarkDown1  MarkDown2  MarkDown3  \\\n",
       "0           1        42.31       2.572       0.00       0.00        0.0   \n",
       "1           1        42.31       2.572       0.00       0.00        0.0   \n",
       "2           1        42.31       2.572       0.00       0.00        0.0   \n",
       "3           1        42.31       2.572       0.00       0.00        0.0   \n",
       "4           1        42.31       2.572       0.00       0.00        0.0   \n",
       "...       ...          ...         ...        ...        ...        ...   \n",
       "421565     45        58.85       3.882    4018.91      58.08      100.0   \n",
       "421566     45        58.85       3.882    4018.91      58.08      100.0   \n",
       "421567     45        58.85       3.882    4018.91      58.08      100.0   \n",
       "421568     45        58.85       3.882    4018.91      58.08      100.0   \n",
       "421569     45        58.85       3.882    4018.91      58.08      100.0   \n",
       "\n",
       "        MarkDown4  MarkDown5         CPI  Unemployment  IsHoliday  Dept  \\\n",
       "0            0.00       0.00  211.096358         8.106          0     1   \n",
       "1            0.00       0.00  211.096358         8.106          0     2   \n",
       "2            0.00       0.00  211.096358         8.106          0     3   \n",
       "3            0.00       0.00  211.096358         8.106          0     4   \n",
       "4            0.00       0.00  211.096358         8.106          0     5   \n",
       "...           ...        ...         ...           ...        ...   ...   \n",
       "421565     211.94     858.33  192.308899         8.667          0    93   \n",
       "421566     211.94     858.33  192.308899         8.667          0    94   \n",
       "421567     211.94     858.33  192.308899         8.667          0    95   \n",
       "421568     211.94     858.33  192.308899         8.667          0    97   \n",
       "421569     211.94     858.33  192.308899         8.667          0    98   \n",
       "\n",
       "        Weekly_Sales  \n",
       "0           24924.50  \n",
       "1           50605.27  \n",
       "2           13740.12  \n",
       "3           39954.04  \n",
       "4           32229.38  \n",
       "...              ...  \n",
       "421565       2487.80  \n",
       "421566       5203.31  \n",
       "421567      56017.47  \n",
       "421568       6817.48  \n",
       "421569       1076.80  \n",
       "\n",
       "[421570 rows x 13 columns]"
      ]
     },
     "execution_count": 21,
     "metadata": {},
     "output_type": "execute_result"
    }
   ],
   "source": [
    "from sklearn.preprocessing import LabelEncoder\n",
    "enc=LabelEncoder()\n",
    "df['IsHoliday']=enc.fit_transform(df['IsHoliday'])\n",
    "df"
   ]
  },
  {
   "cell_type": "code",
   "execution_count": 22,
   "id": "f9bfbe20",
   "metadata": {
    "execution": {
     "iopub.execute_input": "2021-11-21T18:25:25.558435Z",
     "iopub.status.busy": "2021-11-21T18:25:25.557751Z",
     "iopub.status.idle": "2021-11-21T18:25:25.574461Z",
     "shell.execute_reply": "2021-11-21T18:25:25.573832Z",
     "shell.execute_reply.started": "2021-11-21T18:18:29.923658Z"
    },
    "id": "6QCppM2v3gTK",
    "papermill": {
     "duration": 0.085198,
     "end_time": "2021-11-21T18:25:25.574614",
     "exception": false,
     "start_time": "2021-11-21T18:25:25.489416",
     "status": "completed"
    },
    "tags": []
   },
   "outputs": [],
   "source": [
    "X=df.iloc[:,:-1].values #Independent Variable\n",
    "Y=df.iloc[:,-1].values #Dependent Variable"
   ]
  },
  {
   "cell_type": "code",
   "execution_count": 23,
   "id": "48587a3c",
   "metadata": {
    "execution": {
     "iopub.execute_input": "2021-11-21T18:25:25.687768Z",
     "iopub.status.busy": "2021-11-21T18:25:25.686835Z",
     "iopub.status.idle": "2021-11-21T18:25:25.829939Z",
     "shell.execute_reply": "2021-11-21T18:25:25.829338Z",
     "shell.execute_reply.started": "2021-11-21T18:18:32.007155Z"
    },
    "id": "_9yK9G5o37du",
    "papermill": {
     "duration": 0.201794,
     "end_time": "2021-11-21T18:25:25.830095",
     "exception": false,
     "start_time": "2021-11-21T18:25:25.628301",
     "status": "completed"
    },
    "tags": []
   },
   "outputs": [],
   "source": [
    "from sklearn.model_selection import train_test_split\n",
    "x_train,x_test,y_train,y_test=train_test_split(X,Y,test_size=0.25,random_state=0)"
   ]
  },
  {
   "cell_type": "code",
   "execution_count": 24,
   "id": "2254d4d5",
   "metadata": {
    "execution": {
     "iopub.execute_input": "2021-11-21T18:25:25.943817Z",
     "iopub.status.busy": "2021-11-21T18:25:25.943101Z",
     "iopub.status.idle": "2021-11-21T18:25:25.946336Z",
     "shell.execute_reply": "2021-11-21T18:25:25.945786Z",
     "shell.execute_reply.started": "2021-11-21T18:18:33.947298Z"
    },
    "id": "1eyOOsi2DcON",
    "outputId": "9c23beb3-1f55-4dc3-e9cf-28b95c8e4b53",
    "papermill": {
     "duration": 0.063009,
     "end_time": "2021-11-21T18:25:25.946477",
     "exception": false,
     "start_time": "2021-11-21T18:25:25.883468",
     "status": "completed"
    },
    "tags": []
   },
   "outputs": [
    {
     "data": {
      "text/plain": [
       "array([[15.   , 57.94 ,  2.846, ...,  8.099,  0.   , 80.   ],\n",
       "       [11.   , 67.16 ,  3.787, ...,  6.833,  0.   , 20.   ],\n",
       "       [ 8.   , 73.14 ,  3.786, ...,  6.297,  0.   , 31.   ],\n",
       "       ...,\n",
       "       [16.   , 43.29 ,  3.767, ...,  6.339,  0.   , 34.   ],\n",
       "       [13.   , 40.65 ,  2.681, ...,  8.316,  0.   , 51.   ],\n",
       "       [32.   , 72.95 ,  2.69 , ...,  9.017,  0.   ,  3.   ]])"
      ]
     },
     "execution_count": 24,
     "metadata": {},
     "output_type": "execute_result"
    }
   ],
   "source": [
    "x_train"
   ]
  },
  {
   "cell_type": "markdown",
   "id": "6f89adea",
   "metadata": {
    "id": "HgMenvgNJGDH",
    "papermill": {
     "duration": 0.054475,
     "end_time": "2021-11-21T18:25:26.056242",
     "exception": false,
     "start_time": "2021-11-21T18:25:26.001767",
     "status": "completed"
    },
    "tags": []
   },
   "source": [
    "# RandomForestRegressor"
   ]
  },
  {
   "cell_type": "code",
   "execution_count": 25,
   "id": "93b24888",
   "metadata": {
    "execution": {
     "iopub.execute_input": "2021-11-21T18:25:26.168453Z",
     "iopub.status.busy": "2021-11-21T18:25:26.167742Z",
     "iopub.status.idle": "2021-11-21T18:30:00.923663Z",
     "shell.execute_reply": "2021-11-21T18:30:00.923034Z",
     "shell.execute_reply.started": "2021-11-21T18:18:36.291900Z"
    },
    "id": "vL0KnYKCBncr",
    "papermill": {
     "duration": 274.812746,
     "end_time": "2021-11-21T18:30:00.923822",
     "exception": false,
     "start_time": "2021-11-21T18:25:26.111076",
     "status": "completed"
    },
    "tags": []
   },
   "outputs": [],
   "source": [
    "from sklearn.ensemble import RandomForestRegressor as RFG\n",
    "lin=RFG()\n",
    "lin.fit(x_train,y_train)\n",
    "y_pred=lin.predict(x_test)"
   ]
  },
  {
   "cell_type": "code",
   "execution_count": 26,
   "id": "eb1f49d9",
   "metadata": {
    "execution": {
     "iopub.execute_input": "2021-11-21T18:30:01.038939Z",
     "iopub.status.busy": "2021-11-21T18:30:01.037605Z",
     "iopub.status.idle": "2021-11-21T18:30:01.042534Z",
     "shell.execute_reply": "2021-11-21T18:30:01.041996Z",
     "shell.execute_reply.started": "2021-11-21T18:23:34.380741Z"
    },
    "id": "b4w_dccyCDTc",
    "papermill": {
     "duration": 0.063731,
     "end_time": "2021-11-21T18:30:01.042698",
     "exception": false,
     "start_time": "2021-11-21T18:30:00.978967",
     "status": "completed"
    },
    "tags": []
   },
   "outputs": [],
   "source": [
    "from sklearn.metrics import r2_score\n",
    "score=r2_score(y_pred,y_test)"
   ]
  },
  {
   "cell_type": "markdown",
   "id": "5b655992",
   "metadata": {
    "id": "CdyMbsGiJOsC",
    "papermill": {
     "duration": 0.054089,
     "end_time": "2021-11-21T18:30:01.151877",
     "exception": false,
     "start_time": "2021-11-21T18:30:01.097788",
     "status": "completed"
    },
    "tags": []
   },
   "source": [
    "r2_score (Test Set)"
   ]
  },
  {
   "cell_type": "code",
   "execution_count": 27,
   "id": "45786153",
   "metadata": {
    "execution": {
     "iopub.execute_input": "2021-11-21T18:30:01.266532Z",
     "iopub.status.busy": "2021-11-21T18:30:01.265538Z",
     "iopub.status.idle": "2021-11-21T18:30:01.271028Z",
     "shell.execute_reply": "2021-11-21T18:30:01.271668Z",
     "shell.execute_reply.started": "2021-11-21T18:23:49.165617Z"
    },
    "id": "t0j4e0HwCcWJ",
    "outputId": "036afe11-b163-4289-b35e-93657862469d",
    "papermill": {
     "duration": 0.065225,
     "end_time": "2021-11-21T18:30:01.271847",
     "exception": false,
     "start_time": "2021-11-21T18:30:01.206622",
     "status": "completed"
    },
    "tags": []
   },
   "outputs": [
    {
     "data": {
      "text/plain": [
       "0.9401251548125964"
      ]
     },
     "execution_count": 27,
     "metadata": {},
     "output_type": "execute_result"
    }
   ],
   "source": [
    "score"
   ]
  },
  {
   "cell_type": "markdown",
   "id": "5e11d9a7",
   "metadata": {
    "id": "0kKvGE4SJTn5",
    "papermill": {
     "duration": 0.053878,
     "end_time": "2021-11-21T18:30:01.380160",
     "exception": false,
     "start_time": "2021-11-21T18:30:01.326282",
     "status": "completed"
    },
    "tags": []
   },
   "source": [
    "r2_score (Train Set)"
   ]
  },
  {
   "cell_type": "code",
   "execution_count": 28,
   "id": "1e622f87",
   "metadata": {
    "execution": {
     "iopub.execute_input": "2021-11-21T18:30:01.492240Z",
     "iopub.status.busy": "2021-11-21T18:30:01.491268Z",
     "iopub.status.idle": "2021-11-21T18:30:25.186908Z",
     "shell.execute_reply": "2021-11-21T18:30:25.187438Z",
     "shell.execute_reply.started": "2021-11-21T18:23:55.807007Z"
    },
    "id": "nV5kYH0FLPHZ",
    "outputId": "31cfd626-7ee2-44af-ba4c-0835b41d46d3",
    "papermill": {
     "duration": 23.753228,
     "end_time": "2021-11-21T18:30:25.187620",
     "exception": false,
     "start_time": "2021-11-21T18:30:01.434392",
     "status": "completed"
    },
    "tags": []
   },
   "outputs": [
    {
     "data": {
      "text/plain": [
       "0.9922167698355043"
      ]
     },
     "execution_count": 28,
     "metadata": {},
     "output_type": "execute_result"
    }
   ],
   "source": [
    "x_pred=lin.predict(x_train)\n",
    "score_1=r2_score(x_pred,y_train)\n",
    "score_1"
   ]
  }
 ],
 "metadata": {
  "kernelspec": {
   "display_name": "Python 3",
   "language": "python",
   "name": "python3"
  },
  "language_info": {
   "codemirror_mode": {
    "name": "ipython",
    "version": 3
   },
   "file_extension": ".py",
   "mimetype": "text/x-python",
   "name": "python",
   "nbconvert_exporter": "python",
   "pygments_lexer": "ipython3",
   "version": "3.7.10"
  },
  "papermill": {
   "default_parameters": {},
   "duration": 336.555772,
   "end_time": "2021-11-21T18:30:26.154893",
   "environment_variables": {},
   "exception": null,
   "input_path": "__notebook__.ipynb",
   "output_path": "__notebook__.ipynb",
   "parameters": {},
   "start_time": "2021-11-21T18:24:49.599121",
   "version": "2.3.3"
  }
 },
 "nbformat": 4,
 "nbformat_minor": 5
}
