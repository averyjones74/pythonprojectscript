{
  "nbformat": 4,
  "nbformat_minor": 0,
  "metadata": {
    "colab": {
      "name": "Google Brain.ipynb",
      "provenance": [],
      "collapsed_sections": [],
      "authorship_tag": "ABX9TyOJsiSCgJ0up42rbFuU/XWM",
      "include_colab_link": true
    },
    "kernelspec": {
      "name": "python3",
      "display_name": "Python 3"
    },
    "language_info": {
      "name": "python"
    }
  },
  "cells": [
    {
      "cell_type": "markdown",
      "metadata": {
        "id": "view-in-github",
        "colab_type": "text"
      },
      "source": [
        "<a href=\"https://colab.research.google.com/github/DeependraParichha1004/Codes/blob/main/Google_Brain.ipynb\" target=\"_parent\"><img src=\"https://colab.research.google.com/assets/colab-badge.svg\" alt=\"Open In Colab\"/></a>"
      ]
    },
    {
      "cell_type": "markdown",
      "metadata": {
        "id": "aCVw9QpAZ9Mk"
      },
      "source": [
        "<img title=\"\" alt=\"ventilator diagram\" src=\"https://raw.githubusercontent.com/google/deluca-lung/main/assets/2020-10-02%20Ventilator%20diagram.svg\" style=\"user-select: auto;\">\n",
        "\n",
        "\n",
        "\n"
      ]
    },
    {
      "cell_type": "code",
      "metadata": {
        "id": "UgDBmmxJWNcT"
      },
      "source": [
        "import pandas as pd\n",
        "import numpy as np"
      ],
      "execution_count": 1,
      "outputs": []
    },
    {
      "cell_type": "code",
      "metadata": {
        "id": "1aYwMJepWT9i"
      },
      "source": [
        "train_set=pd.read_csv('train.csv')\n",
        "test_set=pd.read_csv('test.csv')\n"
      ],
      "execution_count": 2,
      "outputs": []
    },
    {
      "cell_type": "code",
      "metadata": {
        "colab": {
          "base_uri": "https://localhost:8080/"
        },
        "id": "f5ZGUf9EaZGp",
        "outputId": "02756c14-8087-49ac-d056-54923b606dce"
      },
      "source": [
        "train_set.isna().sum()"
      ],
      "execution_count": 92,
      "outputs": [
        {
          "output_type": "execute_result",
          "data": {
            "text/plain": [
              "id           0\n",
              "breath_id    0\n",
              "R            0\n",
              "C            0\n",
              "time_step    0\n",
              "u_in         0\n",
              "u_out        0\n",
              "pressure     0\n",
              "dtype: int64"
            ]
          },
          "metadata": {},
          "execution_count": 92
        }
      ]
    },
    {
      "cell_type": "code",
      "metadata": {
        "colab": {
          "base_uri": "https://localhost:8080/",
          "height": 423
        },
        "id": "zOSa-DZO9SJ9",
        "outputId": "09444492-7e20-42fa-c1fa-6b9b15244d46"
      },
      "source": [
        "df_sel=train_set[(train_set['pressure']>2.638) & (train_set['pressure']<24.78)]\n",
        "df_sel"
      ],
      "execution_count": 4,
      "outputs": [
        {
          "output_type": "execute_result",
          "data": {
            "text/html": [
              "<div>\n",
              "<style scoped>\n",
              "    .dataframe tbody tr th:only-of-type {\n",
              "        vertical-align: middle;\n",
              "    }\n",
              "\n",
              "    .dataframe tbody tr th {\n",
              "        vertical-align: top;\n",
              "    }\n",
              "\n",
              "    .dataframe thead th {\n",
              "        text-align: right;\n",
              "    }\n",
              "</style>\n",
              "<table border=\"1\" class=\"dataframe\">\n",
              "  <thead>\n",
              "    <tr style=\"text-align: right;\">\n",
              "      <th></th>\n",
              "      <th>id</th>\n",
              "      <th>breath_id</th>\n",
              "      <th>R</th>\n",
              "      <th>C</th>\n",
              "      <th>time_step</th>\n",
              "      <th>u_in</th>\n",
              "      <th>u_out</th>\n",
              "      <th>pressure</th>\n",
              "    </tr>\n",
              "  </thead>\n",
              "  <tbody>\n",
              "    <tr>\n",
              "      <th>0</th>\n",
              "      <td>1</td>\n",
              "      <td>1</td>\n",
              "      <td>20</td>\n",
              "      <td>50</td>\n",
              "      <td>0.000000</td>\n",
              "      <td>0.083334</td>\n",
              "      <td>0</td>\n",
              "      <td>5.837492</td>\n",
              "    </tr>\n",
              "    <tr>\n",
              "      <th>1</th>\n",
              "      <td>2</td>\n",
              "      <td>1</td>\n",
              "      <td>20</td>\n",
              "      <td>50</td>\n",
              "      <td>0.033652</td>\n",
              "      <td>18.383041</td>\n",
              "      <td>0</td>\n",
              "      <td>5.907794</td>\n",
              "    </tr>\n",
              "    <tr>\n",
              "      <th>2</th>\n",
              "      <td>3</td>\n",
              "      <td>1</td>\n",
              "      <td>20</td>\n",
              "      <td>50</td>\n",
              "      <td>0.067514</td>\n",
              "      <td>22.509278</td>\n",
              "      <td>0</td>\n",
              "      <td>7.876254</td>\n",
              "    </tr>\n",
              "    <tr>\n",
              "      <th>3</th>\n",
              "      <td>4</td>\n",
              "      <td>1</td>\n",
              "      <td>20</td>\n",
              "      <td>50</td>\n",
              "      <td>0.101542</td>\n",
              "      <td>22.808822</td>\n",
              "      <td>0</td>\n",
              "      <td>11.742872</td>\n",
              "    </tr>\n",
              "    <tr>\n",
              "      <th>4</th>\n",
              "      <td>5</td>\n",
              "      <td>1</td>\n",
              "      <td>20</td>\n",
              "      <td>50</td>\n",
              "      <td>0.135756</td>\n",
              "      <td>25.355850</td>\n",
              "      <td>0</td>\n",
              "      <td>12.234987</td>\n",
              "    </tr>\n",
              "    <tr>\n",
              "      <th>...</th>\n",
              "      <td>...</td>\n",
              "      <td>...</td>\n",
              "      <td>...</td>\n",
              "      <td>...</td>\n",
              "      <td>...</td>\n",
              "      <td>...</td>\n",
              "      <td>...</td>\n",
              "      <td>...</td>\n",
              "    </tr>\n",
              "    <tr>\n",
              "      <th>460034</th>\n",
              "      <td>460035</td>\n",
              "      <td>9531</td>\n",
              "      <td>50</td>\n",
              "      <td>10</td>\n",
              "      <td>1.075398</td>\n",
              "      <td>0.000000</td>\n",
              "      <td>1</td>\n",
              "      <td>7.735650</td>\n",
              "    </tr>\n",
              "    <tr>\n",
              "      <th>460035</th>\n",
              "      <td>460036</td>\n",
              "      <td>9531</td>\n",
              "      <td>50</td>\n",
              "      <td>10</td>\n",
              "      <td>1.107040</td>\n",
              "      <td>0.000000</td>\n",
              "      <td>1</td>\n",
              "      <td>6.399909</td>\n",
              "    </tr>\n",
              "    <tr>\n",
              "      <th>460036</th>\n",
              "      <td>460037</td>\n",
              "      <td>9531</td>\n",
              "      <td>50</td>\n",
              "      <td>10</td>\n",
              "      <td>1.138719</td>\n",
              "      <td>0.000000</td>\n",
              "      <td>1</td>\n",
              "      <td>6.540513</td>\n",
              "    </tr>\n",
              "    <tr>\n",
              "      <th>460037</th>\n",
              "      <td>460038</td>\n",
              "      <td>9531</td>\n",
              "      <td>50</td>\n",
              "      <td>10</td>\n",
              "      <td>1.170342</td>\n",
              "      <td>0.000000</td>\n",
              "      <td>1</td>\n",
              "      <td>6.470211</td>\n",
              "    </tr>\n",
              "    <tr>\n",
              "      <th>460038</th>\n",
              "      <td>460039</td>\n",
              "      <td>9531</td>\n",
              "      <td>50</td>\n",
              "      <td>10</td>\n",
              "      <td>1.202019</td>\n",
              "      <td>0.000000</td>\n",
              "      <td>1</td>\n",
              "      <td>6.329600</td>\n",
              "    </tr>\n",
              "  </tbody>\n",
              "</table>\n",
              "<p>414554 rows × 8 columns</p>\n",
              "</div>"
            ],
            "text/plain": [
              "            id  breath_id   R   C  time_step       u_in  u_out   pressure\n",
              "0            1          1  20  50   0.000000   0.083334      0   5.837492\n",
              "1            2          1  20  50   0.033652  18.383041      0   5.907794\n",
              "2            3          1  20  50   0.067514  22.509278      0   7.876254\n",
              "3            4          1  20  50   0.101542  22.808822      0  11.742872\n",
              "4            5          1  20  50   0.135756  25.355850      0  12.234987\n",
              "...        ...        ...  ..  ..        ...        ...    ...        ...\n",
              "460034  460035       9531  50  10   1.075398   0.000000      1   7.735650\n",
              "460035  460036       9531  50  10   1.107040   0.000000      1   6.399909\n",
              "460036  460037       9531  50  10   1.138719   0.000000      1   6.540513\n",
              "460037  460038       9531  50  10   1.170342   0.000000      1   6.470211\n",
              "460038  460039       9531  50  10   1.202019   0.000000      1   6.329600\n",
              "\n",
              "[414554 rows x 8 columns]"
            ]
          },
          "metadata": {},
          "execution_count": 4
        }
      ]
    },
    {
      "cell_type": "code",
      "metadata": {
        "id": "4h2XqNZeW8Fh"
      },
      "source": [
        "train=train_set.fillna(0)\n",
        "test=test_set.fillna(0)"
      ],
      "execution_count": 5,
      "outputs": []
    },
    {
      "cell_type": "code",
      "metadata": {
        "colab": {
          "base_uri": "https://localhost:8080/",
          "height": 423
        },
        "id": "dLV66NypZzwV",
        "outputId": "35410a89-a068-4099-bb4b-6dee9ca61eb1"
      },
      "source": [
        "train"
      ],
      "execution_count": 93,
      "outputs": [
        {
          "output_type": "execute_result",
          "data": {
            "text/html": [
              "<div>\n",
              "<style scoped>\n",
              "    .dataframe tbody tr th:only-of-type {\n",
              "        vertical-align: middle;\n",
              "    }\n",
              "\n",
              "    .dataframe tbody tr th {\n",
              "        vertical-align: top;\n",
              "    }\n",
              "\n",
              "    .dataframe thead th {\n",
              "        text-align: right;\n",
              "    }\n",
              "</style>\n",
              "<table border=\"1\" class=\"dataframe\">\n",
              "  <thead>\n",
              "    <tr style=\"text-align: right;\">\n",
              "      <th></th>\n",
              "      <th>id</th>\n",
              "      <th>breath_id</th>\n",
              "      <th>R</th>\n",
              "      <th>C</th>\n",
              "      <th>time_step</th>\n",
              "      <th>u_in</th>\n",
              "      <th>u_out</th>\n",
              "      <th>pressure</th>\n",
              "    </tr>\n",
              "  </thead>\n",
              "  <tbody>\n",
              "    <tr>\n",
              "      <th>0</th>\n",
              "      <td>1</td>\n",
              "      <td>1</td>\n",
              "      <td>20</td>\n",
              "      <td>50</td>\n",
              "      <td>0.000000</td>\n",
              "      <td>0.083334</td>\n",
              "      <td>0</td>\n",
              "      <td>5.837492</td>\n",
              "    </tr>\n",
              "    <tr>\n",
              "      <th>1</th>\n",
              "      <td>2</td>\n",
              "      <td>1</td>\n",
              "      <td>20</td>\n",
              "      <td>50</td>\n",
              "      <td>0.033652</td>\n",
              "      <td>18.383041</td>\n",
              "      <td>0</td>\n",
              "      <td>5.907794</td>\n",
              "    </tr>\n",
              "    <tr>\n",
              "      <th>2</th>\n",
              "      <td>3</td>\n",
              "      <td>1</td>\n",
              "      <td>20</td>\n",
              "      <td>50</td>\n",
              "      <td>0.067514</td>\n",
              "      <td>22.509278</td>\n",
              "      <td>0</td>\n",
              "      <td>7.876254</td>\n",
              "    </tr>\n",
              "    <tr>\n",
              "      <th>3</th>\n",
              "      <td>4</td>\n",
              "      <td>1</td>\n",
              "      <td>20</td>\n",
              "      <td>50</td>\n",
              "      <td>0.101542</td>\n",
              "      <td>22.808822</td>\n",
              "      <td>0</td>\n",
              "      <td>11.742872</td>\n",
              "    </tr>\n",
              "    <tr>\n",
              "      <th>4</th>\n",
              "      <td>5</td>\n",
              "      <td>1</td>\n",
              "      <td>20</td>\n",
              "      <td>50</td>\n",
              "      <td>0.135756</td>\n",
              "      <td>25.355850</td>\n",
              "      <td>0</td>\n",
              "      <td>12.234987</td>\n",
              "    </tr>\n",
              "    <tr>\n",
              "      <th>...</th>\n",
              "      <td>...</td>\n",
              "      <td>...</td>\n",
              "      <td>...</td>\n",
              "      <td>...</td>\n",
              "      <td>...</td>\n",
              "      <td>...</td>\n",
              "      <td>...</td>\n",
              "      <td>...</td>\n",
              "    </tr>\n",
              "    <tr>\n",
              "      <th>460034</th>\n",
              "      <td>460035</td>\n",
              "      <td>9531</td>\n",
              "      <td>50</td>\n",
              "      <td>10</td>\n",
              "      <td>1.075398</td>\n",
              "      <td>0.000000</td>\n",
              "      <td>1</td>\n",
              "      <td>7.735650</td>\n",
              "    </tr>\n",
              "    <tr>\n",
              "      <th>460035</th>\n",
              "      <td>460036</td>\n",
              "      <td>9531</td>\n",
              "      <td>50</td>\n",
              "      <td>10</td>\n",
              "      <td>1.107040</td>\n",
              "      <td>0.000000</td>\n",
              "      <td>1</td>\n",
              "      <td>6.399909</td>\n",
              "    </tr>\n",
              "    <tr>\n",
              "      <th>460036</th>\n",
              "      <td>460037</td>\n",
              "      <td>9531</td>\n",
              "      <td>50</td>\n",
              "      <td>10</td>\n",
              "      <td>1.138719</td>\n",
              "      <td>0.000000</td>\n",
              "      <td>1</td>\n",
              "      <td>6.540513</td>\n",
              "    </tr>\n",
              "    <tr>\n",
              "      <th>460037</th>\n",
              "      <td>460038</td>\n",
              "      <td>9531</td>\n",
              "      <td>50</td>\n",
              "      <td>10</td>\n",
              "      <td>1.170342</td>\n",
              "      <td>0.000000</td>\n",
              "      <td>1</td>\n",
              "      <td>6.470211</td>\n",
              "    </tr>\n",
              "    <tr>\n",
              "      <th>460038</th>\n",
              "      <td>460039</td>\n",
              "      <td>9531</td>\n",
              "      <td>50</td>\n",
              "      <td>10</td>\n",
              "      <td>1.202019</td>\n",
              "      <td>0.000000</td>\n",
              "      <td>1</td>\n",
              "      <td>6.329600</td>\n",
              "    </tr>\n",
              "  </tbody>\n",
              "</table>\n",
              "<p>460039 rows × 8 columns</p>\n",
              "</div>"
            ],
            "text/plain": [
              "            id  breath_id   R   C  time_step       u_in  u_out   pressure\n",
              "0            1          1  20  50   0.000000   0.083334      0   5.837492\n",
              "1            2          1  20  50   0.033652  18.383041      0   5.907794\n",
              "2            3          1  20  50   0.067514  22.509278      0   7.876254\n",
              "3            4          1  20  50   0.101542  22.808822      0  11.742872\n",
              "4            5          1  20  50   0.135756  25.355850      0  12.234987\n",
              "...        ...        ...  ..  ..        ...        ...    ...        ...\n",
              "460034  460035       9531  50  10   1.075398   0.000000      1   7.735650\n",
              "460035  460036       9531  50  10   1.107040   0.000000      1   6.399909\n",
              "460036  460037       9531  50  10   1.138719   0.000000      1   6.540513\n",
              "460037  460038       9531  50  10   1.170342   0.000000      1   6.470211\n",
              "460038  460039       9531  50  10   1.202019   0.000000      1   6.329600\n",
              "\n",
              "[460039 rows x 8 columns]"
            ]
          },
          "metadata": {},
          "execution_count": 93
        }
      ]
    },
    {
      "cell_type": "code",
      "metadata": {
        "id": "Jy9C9FCpacGY"
      },
      "source": [
        "Q3=train['pressure'].quantile(0.25)\n",
        "Q1=train['pressure'].quantile(0.75)\n",
        "IQR=Q3-Q1\n",
        "lower_limit=Q1-(1.5*(IQR))\n",
        "upper_limit=Q1+(1.5*(IQR))"
      ],
      "execution_count": 7,
      "outputs": []
    },
    {
      "cell_type": "code",
      "metadata": {
        "colab": {
          "base_uri": "https://localhost:8080/"
        },
        "id": "szAKNZ2Idz6Q",
        "outputId": "91b044aa-1149-493a-f0f7-98b2f793e4cf"
      },
      "source": [
        "lower_limit,upper_limit"
      ],
      "execution_count": 8,
      "outputs": [
        {
          "output_type": "execute_result",
          "data": {
            "text/plain": [
              "(24.78391990417188, 2.6387440870387895)"
            ]
          },
          "metadata": {},
          "execution_count": 8
        }
      ]
    },
    {
      "cell_type": "code",
      "metadata": {
        "id": "3jNC1NpwiCU9"
      },
      "source": [
        "import matplotlib.pyplot as plt\n",
        "import seaborn as sb"
      ],
      "execution_count": 9,
      "outputs": []
    },
    {
      "cell_type": "code",
      "metadata": {
        "colab": {
          "base_uri": "https://localhost:8080/",
          "height": 279
        },
        "id": "mUZpfEnoiRGe",
        "outputId": "026541ce-34f0-470b-c111-9d0b83ac6771"
      },
      "source": [
        "ax=sb.boxplot(x=train['pressure'])"
      ],
      "execution_count": 10,
      "outputs": [
        {
          "output_type": "display_data",
          "data": {
            "image/png": "[encoded data removed]",
            "text/plain": [
              "<Figure size 432x288 with 1 Axes>"
            ]
          },
          "metadata": {
            "needs_background": "light"
          }
        }
      ]
    },
    {
      "cell_type": "code",
      "metadata": {
        "colab": {
          "base_uri": "https://localhost:8080/"
        },
        "id": "rQNUeVjhlMxA",
        "outputId": "3189b696-c3e0-4302-b0d3-5c902ecf4bfc"
      },
      "source": [
        "train['C'].value_counts()"
      ],
      "execution_count": 11,
      "outputs": [
        {
          "output_type": "execute_result",
          "data": {
            "text/plain": [
              "10    171879\n",
              "50    152240\n",
              "20    135920\n",
              "Name: C, dtype: int64"
            ]
          },
          "metadata": {},
          "execution_count": 11
        }
      ]
    },
    {
      "cell_type": "code",
      "metadata": {
        "colab": {
          "base_uri": "https://localhost:8080/"
        },
        "id": "ydUSqpFhYvdl",
        "outputId": "2d9bdb78-4842-468e-f81c-6cda3b38553c"
      },
      "source": [
        "test['u_out'].value_counts()"
      ],
      "execution_count": 49,
      "outputs": [
        {
          "output_type": "execute_result",
          "data": {
            "text/plain": [
              "1.0    283726\n",
              "0.0    173450\n",
              "Name: u_out, dtype: int64"
            ]
          },
          "metadata": {},
          "execution_count": 49
        }
      ]
    },
    {
      "cell_type": "code",
      "metadata": {
        "id": "_M6UkCFRQJLF"
      },
      "source": [
        "from palettable.scientific.sequential import Acton_14,Bamako_12"
      ],
      "execution_count": 13,
      "outputs": []
    },
    {
      "cell_type": "code",
      "metadata": {
        "colab": {
          "base_uri": "https://localhost:8080/"
        },
        "id": "xcv7touRi81t",
        "outputId": "776b0969-fff7-49f8-a929-f4fb171c1fcb"
      },
      "source": [
        "train['R'].unique()"
      ],
      "execution_count": 14,
      "outputs": [
        {
          "output_type": "execute_result",
          "data": {
            "text/plain": [
              "array([20, 50,  5])"
            ]
          },
          "metadata": {},
          "execution_count": 14
        }
      ]
    },
    {
      "cell_type": "code",
      "metadata": {
        "id": "QhbCuvHBlPxt"
      },
      "source": [
        "# def count_plot(col):\n",
        "#   cat_tr=train[col].value_counts().index.astype(str)\n",
        "#   val_tr=train[col].value_counts().values\n",
        "#   cat_te=test[col].value_counts().index.astype(str)\n",
        "#   val_te=test[col].value_counts().values\n",
        "#   #fig,(ax1,ax2)=plt.subplots(figsize=(8,6),ncols=2)\n",
        "#   # sb.axes_style(\"whitegrid\")\n",
        "#   # ax1=sb.barplot(x=cat_tr, y=val_tr,capsize=0.1,palette=pal)\n",
        "#   # sb.axes_style(\"whitegrid\")\n",
        "#   # ax2=sb.barplot(x=cat_te, y=val_te,capsize=0.1,palette=pal)\n",
        "#   # #ax.bar(cat,val,width=0.3)\n",
        "#   plt.subplot(1,2,1)\n",
        "#   plt.bar(cat_tr,val_tr,color=['yellowgreen', 'Purple', 'wheat'],width=0.6)\n",
        "#   plt.subplot(1,2,2)\n",
        "#   plt.bar(cat_te,val_te,color=['turquoise','skyblue','crimson'],width=0.8)\n",
        "#   plt.tight_layout()\n",
        "#   plt.show()"
      ],
      "execution_count": 15,
      "outputs": []
    },
    {
      "cell_type": "code",
      "metadata": {
        "id": "_DSz3yCL6gCP"
      },
      "source": [
        "# def count_plot(col):\n",
        "#   cat_tr=train[col].value_counts().index.astype(str)\n",
        "#   val_tr=train[col].value_counts().values\n",
        "#   cat_te=test[col].value_counts().index.astype(str)\n",
        "#   val_te=test[col].value_counts().values\n",
        "#   fig_1,(ax_1,ax_2)=plt.subplots(figsize=(10,6),ncols=2,nrows=1)\n",
        "\n",
        "#   ax_1.bar(cat_tr,val_tr,color=['yellowgreen', 'Purple', 'wheat'],align='center',width=0.6)\n",
        "\n",
        "#   ax_2.bar(cat_te,val_te,color=['turquoise','skyblue','crimson'],width=0.8)\n",
        "\n",
        "import seaborn as sb\n",
        "def count_plot(col1,col2):\n",
        "  \n",
        "  fig=plt.figure(figsize=(8,6))\n",
        "  ax=sb.countplot(x=col1,hue=col2,linewidth=2,ec='k',data=train_set)\n"
      ],
      "execution_count": 42,
      "outputs": []
    },
    {
      "cell_type": "code",
      "metadata": {
        "colab": {
          "base_uri": "https://localhost:8080/",
          "height": 394
        },
        "id": "cHYtrVicJLmz",
        "outputId": "e2cf7590-6a79-4017-8f1e-659e26d8a3f2"
      },
      "source": [
        "count_plot('R','C')"
      ],
      "execution_count": 44,
      "outputs": [
        {
          "output_type": "display_data",
          "data": {
            "image/png": "[encoded data removed]",
            "text/plain": [
              "<Figure size 576x432 with 1 Axes>"
            ]
          },
          "metadata": {}
        }
      ]
    },
    {
      "cell_type": "code",
      "metadata": {
        "colab": {
          "base_uri": "https://localhost:8080/"
        },
        "id": "1q-UuBI8JRKh",
        "outputId": "46a5107e-36e0-4c39-b14f-6c1510a42247"
      },
      "source": [
        "train.isna().sum()"
      ],
      "execution_count": 18,
      "outputs": [
        {
          "output_type": "execute_result",
          "data": {
            "text/plain": [
              "id           0\n",
              "breath_id    0\n",
              "R            0\n",
              "C            0\n",
              "time_step    0\n",
              "u_in         0\n",
              "u_out        0\n",
              "pressure     0\n",
              "dtype: int64"
            ]
          },
          "metadata": {},
          "execution_count": 18
        }
      ]
    },
    {
      "cell_type": "code",
      "metadata": {
        "colab": {
          "base_uri": "https://localhost:8080/",
          "height": 445
        },
        "id": "I89nq0PmKgiJ",
        "outputId": "10691820-b3d8-440e-e2e6-b9bf4576c83e"
      },
      "source": [
        "cat_c=train['C'].value_counts().index.astype(int)\n",
        "val_c=train['C'].value_counts().values\n",
        "cat_c1=test['C'].value_counts().index\n",
        "val_c1=test['C'].value_counts().values\n",
        "fig_1,(ax_1,ax_2)=plt.subplots(figsize=(15,8),ncols=2,nrows=1)\n",
        "\n",
        "explode = (0.1, 0.1, 0) \n",
        "ax_1.pie(x=val_c,explode=explode,colors=['yellowgreen','lightskyblue','gold'],startangle=90,labels=cat_c,autopct='%1.2f%%',textprops={'fontweight':'bold','fontsize':12},wedgeprops={'linewidth':1,'edgecolor':'k'},shadow=True,pctdistance=0.6)\n",
        "ax_1.add_artist(plt.Circle((0,0),0.4,fc=\"white\"))\n",
        "\n",
        "ax_1.legend(loc=3)\n",
        "\n",
        "explode = (0, 0.1, 0) \n",
        "ax_2.pie(x=val_c1,explode=explode,colors=['magenta','wheat','salmon'],labels=cat_c1,autopct='%1.2f%%',textprops={'fontweight':'bold','fontsize':12},wedgeprops={'linewidth':1,'edgecolor':'k'},shadow=True,pctdistance=0.6)\n",
        "ax_2.add_artist(plt.Circle((0,0),0.4,fc=\"white\"))\n",
        "\n",
        "ax_2.legend(loc=3)\n",
        "\n",
        "ax_1.plot()"
      ],
      "execution_count": 129,
      "outputs": [
        {
          "output_type": "execute_result",
          "data": {
            "text/plain": [
              "[]"
            ]
          },
          "metadata": {},
          "execution_count": 129
        },
        {
          "output_type": "display_data",
          "data": {
            "image/png": "[encoded data removed]",
            "text/plain": [
              "<Figure size 1080x576 with 2 Axes>"
            ]
          },
          "metadata": {}
        }
      ]
    },
    {
      "cell_type": "code",
      "metadata": {
        "id": "jKRZAgfwz7GY",
        "colab": {
          "base_uri": "https://localhost:8080/"
        },
        "outputId": "7226e41b-43d0-4eef-9232-43ea64229bf5"
      },
      "source": [
        "train_set.max()"
      ],
      "execution_count": 21,
      "outputs": [
        {
          "output_type": "execute_result",
          "data": {
            "text/plain": [
              "id           460039.000000\n",
              "breath_id      9531.000000\n",
              "R                50.000000\n",
              "C                50.000000\n",
              "time_step         2.745190\n",
              "u_in            100.000000\n",
              "u_out             1.000000\n",
              "pressure         64.820992\n",
              "dtype: float64"
            ]
          },
          "metadata": {},
          "execution_count": 21
        }
      ]
    },
    {
      "cell_type": "code",
      "metadata": {
        "colab": {
          "base_uri": "https://localhost:8080/",
          "height": 423
        },
        "id": "whbN1T5GyttN",
        "outputId": "8ff5ddf2-ecd6-4337-f4a9-656d2f988034"
      },
      "source": [
        "train_set"
      ],
      "execution_count": 32,
      "outputs": [
        {
          "output_type": "execute_result",
          "data": {
            "text/html": [
              "<div>\n",
              "<style scoped>\n",
              "    .dataframe tbody tr th:only-of-type {\n",
              "        vertical-align: middle;\n",
              "    }\n",
              "\n",
              "    .dataframe tbody tr th {\n",
              "        vertical-align: top;\n",
              "    }\n",
              "\n",
              "    .dataframe thead th {\n",
              "        text-align: right;\n",
              "    }\n",
              "</style>\n",
              "<table border=\"1\" class=\"dataframe\">\n",
              "  <thead>\n",
              "    <tr style=\"text-align: right;\">\n",
              "      <th></th>\n",
              "      <th>id</th>\n",
              "      <th>breath_id</th>\n",
              "      <th>R</th>\n",
              "      <th>C</th>\n",
              "      <th>time_step</th>\n",
              "      <th>u_in</th>\n",
              "      <th>u_out</th>\n",
              "      <th>pressure</th>\n",
              "    </tr>\n",
              "  </thead>\n",
              "  <tbody>\n",
              "    <tr>\n",
              "      <th>0</th>\n",
              "      <td>1</td>\n",
              "      <td>1</td>\n",
              "      <td>20</td>\n",
              "      <td>50</td>\n",
              "      <td>0.000000</td>\n",
              "      <td>0.083334</td>\n",
              "      <td>0</td>\n",
              "      <td>5.837492</td>\n",
              "    </tr>\n",
              "    <tr>\n",
              "      <th>1</th>\n",
              "      <td>2</td>\n",
              "      <td>1</td>\n",
              "      <td>20</td>\n",
              "      <td>50</td>\n",
              "      <td>0.033652</td>\n",
              "      <td>18.383041</td>\n",
              "      <td>0</td>\n",
              "      <td>5.907794</td>\n",
              "    </tr>\n",
              "    <tr>\n",
              "      <th>2</th>\n",
              "      <td>3</td>\n",
              "      <td>1</td>\n",
              "      <td>20</td>\n",
              "      <td>50</td>\n",
              "      <td>0.067514</td>\n",
              "      <td>22.509278</td>\n",
              "      <td>0</td>\n",
              "      <td>7.876254</td>\n",
              "    </tr>\n",
              "    <tr>\n",
              "      <th>3</th>\n",
              "      <td>4</td>\n",
              "      <td>1</td>\n",
              "      <td>20</td>\n",
              "      <td>50</td>\n",
              "      <td>0.101542</td>\n",
              "      <td>22.808822</td>\n",
              "      <td>0</td>\n",
              "      <td>11.742872</td>\n",
              "    </tr>\n",
              "    <tr>\n",
              "      <th>4</th>\n",
              "      <td>5</td>\n",
              "      <td>1</td>\n",
              "      <td>20</td>\n",
              "      <td>50</td>\n",
              "      <td>0.135756</td>\n",
              "      <td>25.355850</td>\n",
              "      <td>0</td>\n",
              "      <td>12.234987</td>\n",
              "    </tr>\n",
              "    <tr>\n",
              "      <th>...</th>\n",
              "      <td>...</td>\n",
              "      <td>...</td>\n",
              "      <td>...</td>\n",
              "      <td>...</td>\n",
              "      <td>...</td>\n",
              "      <td>...</td>\n",
              "      <td>...</td>\n",
              "      <td>...</td>\n",
              "    </tr>\n",
              "    <tr>\n",
              "      <th>460034</th>\n",
              "      <td>460035</td>\n",
              "      <td>9531</td>\n",
              "      <td>50</td>\n",
              "      <td>10</td>\n",
              "      <td>1.075398</td>\n",
              "      <td>0.000000</td>\n",
              "      <td>1</td>\n",
              "      <td>7.735650</td>\n",
              "    </tr>\n",
              "    <tr>\n",
              "      <th>460035</th>\n",
              "      <td>460036</td>\n",
              "      <td>9531</td>\n",
              "      <td>50</td>\n",
              "      <td>10</td>\n",
              "      <td>1.107040</td>\n",
              "      <td>0.000000</td>\n",
              "      <td>1</td>\n",
              "      <td>6.399909</td>\n",
              "    </tr>\n",
              "    <tr>\n",
              "      <th>460036</th>\n",
              "      <td>460037</td>\n",
              "      <td>9531</td>\n",
              "      <td>50</td>\n",
              "      <td>10</td>\n",
              "      <td>1.138719</td>\n",
              "      <td>0.000000</td>\n",
              "      <td>1</td>\n",
              "      <td>6.540513</td>\n",
              "    </tr>\n",
              "    <tr>\n",
              "      <th>460037</th>\n",
              "      <td>460038</td>\n",
              "      <td>9531</td>\n",
              "      <td>50</td>\n",
              "      <td>10</td>\n",
              "      <td>1.170342</td>\n",
              "      <td>0.000000</td>\n",
              "      <td>1</td>\n",
              "      <td>6.470211</td>\n",
              "    </tr>\n",
              "    <tr>\n",
              "      <th>460038</th>\n",
              "      <td>460039</td>\n",
              "      <td>9531</td>\n",
              "      <td>50</td>\n",
              "      <td>10</td>\n",
              "      <td>1.202019</td>\n",
              "      <td>0.000000</td>\n",
              "      <td>1</td>\n",
              "      <td>6.329600</td>\n",
              "    </tr>\n",
              "  </tbody>\n",
              "</table>\n",
              "<p>460039 rows × 8 columns</p>\n",
              "</div>"
            ],
            "text/plain": [
              "            id  breath_id   R   C  time_step       u_in  u_out   pressure\n",
              "0            1          1  20  50   0.000000   0.083334      0   5.837492\n",
              "1            2          1  20  50   0.033652  18.383041      0   5.907794\n",
              "2            3          1  20  50   0.067514  22.509278      0   7.876254\n",
              "3            4          1  20  50   0.101542  22.808822      0  11.742872\n",
              "4            5          1  20  50   0.135756  25.355850      0  12.234987\n",
              "...        ...        ...  ..  ..        ...        ...    ...        ...\n",
              "460034  460035       9531  50  10   1.075398   0.000000      1   7.735650\n",
              "460035  460036       9531  50  10   1.107040   0.000000      1   6.399909\n",
              "460036  460037       9531  50  10   1.138719   0.000000      1   6.540513\n",
              "460037  460038       9531  50  10   1.170342   0.000000      1   6.470211\n",
              "460038  460039       9531  50  10   1.202019   0.000000      1   6.329600\n",
              "\n",
              "[460039 rows x 8 columns]"
            ]
          },
          "metadata": {},
          "execution_count": 32
        }
      ]
    },
    {
      "cell_type": "code",
      "metadata": {
        "id": "_jDwdrTFeNl2",
        "colab": {
          "base_uri": "https://localhost:8080/",
          "height": 394
        },
        "outputId": "fe395c01-9a5f-4ad8-c5b1-de51e4f00ea2"
      },
      "source": [
        ""
      ],
      "execution_count": 41,
      "outputs": [
        {
          "output_type": "display_data",
          "data": {
            "image/png": "[encoded data removed]",
            "text/plain": [
              "<Figure size 576x432 with 1 Axes>"
            ]
          },
          "metadata": {}
        }
      ]
    },
    {
      "cell_type": "code",
      "metadata": {
        "colab": {
          "base_uri": "https://localhost:8080/",
          "height": 381
        },
        "id": "WQc2pTPcxDfw",
        "outputId": "04e48be8-f35f-485c-c239-8b4fbbb712cd"
      },
      "source": [
        "corr=train_set.corr('pearson')\n",
        "fig=plt.figure(figsize=(10,6))\n",
        "ax=sb.heatmap(corr,cmap='RdBu_r',annot=True)\n"
      ],
      "execution_count": 47,
      "outputs": [
        {
          "output_type": "display_data",
          "data": {
            "image/png": "[encoded data removed]",
            "text/plain": [
              "<Figure size 720x432 with 2 Axes>"
            ]
          },
          "metadata": {}
        }
      ]
    },
    {
      "cell_type": "code",
      "metadata": {
        "colab": {
          "base_uri": "https://localhost:8080/",
          "height": 35
        },
        "id": "AOzoenQCBY-i",
        "outputId": "da5ee8e3-950d-484b-9e60-7b5442c51aa2"
      },
      "source": [
        "import tensorflow as tf\n",
        "tf.__version__"
      ],
      "execution_count": 70,
      "outputs": [
        {
          "output_type": "execute_result",
          "data": {
            "application/vnd.google.colaboratory.intrinsic+json": {
              "type": "string"
            },
            "text/plain": [
              "'2.7.0'"
            ]
          },
          "metadata": {},
          "execution_count": 70
        }
      ]
    },
    {
      "cell_type": "code",
      "metadata": {
        "colab": {
          "base_uri": "https://localhost:8080/",
          "height": 423
        },
        "id": "4QQg9FsmMrZV",
        "outputId": "74d50531-c699-4869-8404-40f13cecb553"
      },
      "source": [
        "df_sel"
      ],
      "execution_count": 86,
      "outputs": [
        {
          "output_type": "execute_result",
          "data": {
            "text/html": [
              "<div>\n",
              "<style scoped>\n",
              "    .dataframe tbody tr th:only-of-type {\n",
              "        vertical-align: middle;\n",
              "    }\n",
              "\n",
              "    .dataframe tbody tr th {\n",
              "        vertical-align: top;\n",
              "    }\n",
              "\n",
              "    .dataframe thead th {\n",
              "        text-align: right;\n",
              "    }\n",
              "</style>\n",
              "<table border=\"1\" class=\"dataframe\">\n",
              "  <thead>\n",
              "    <tr style=\"text-align: right;\">\n",
              "      <th></th>\n",
              "      <th>id</th>\n",
              "      <th>breath_id</th>\n",
              "      <th>R</th>\n",
              "      <th>C</th>\n",
              "      <th>time_step</th>\n",
              "      <th>u_in</th>\n",
              "      <th>u_out</th>\n",
              "      <th>pressure</th>\n",
              "    </tr>\n",
              "  </thead>\n",
              "  <tbody>\n",
              "    <tr>\n",
              "      <th>0</th>\n",
              "      <td>1</td>\n",
              "      <td>1</td>\n",
              "      <td>20</td>\n",
              "      <td>50</td>\n",
              "      <td>0.000000</td>\n",
              "      <td>0.083334</td>\n",
              "      <td>0</td>\n",
              "      <td>5.837492</td>\n",
              "    </tr>\n",
              "    <tr>\n",
              "      <th>1</th>\n",
              "      <td>2</td>\n",
              "      <td>1</td>\n",
              "      <td>20</td>\n",
              "      <td>50</td>\n",
              "      <td>0.033652</td>\n",
              "      <td>18.383041</td>\n",
              "      <td>0</td>\n",
              "      <td>5.907794</td>\n",
              "    </tr>\n",
              "    <tr>\n",
              "      <th>2</th>\n",
              "      <td>3</td>\n",
              "      <td>1</td>\n",
              "      <td>20</td>\n",
              "      <td>50</td>\n",
              "      <td>0.067514</td>\n",
              "      <td>22.509278</td>\n",
              "      <td>0</td>\n",
              "      <td>7.876254</td>\n",
              "    </tr>\n",
              "    <tr>\n",
              "      <th>3</th>\n",
              "      <td>4</td>\n",
              "      <td>1</td>\n",
              "      <td>20</td>\n",
              "      <td>50</td>\n",
              "      <td>0.101542</td>\n",
              "      <td>22.808822</td>\n",
              "      <td>0</td>\n",
              "      <td>11.742872</td>\n",
              "    </tr>\n",
              "    <tr>\n",
              "      <th>4</th>\n",
              "      <td>5</td>\n",
              "      <td>1</td>\n",
              "      <td>20</td>\n",
              "      <td>50</td>\n",
              "      <td>0.135756</td>\n",
              "      <td>25.355850</td>\n",
              "      <td>0</td>\n",
              "      <td>12.234987</td>\n",
              "    </tr>\n",
              "    <tr>\n",
              "      <th>...</th>\n",
              "      <td>...</td>\n",
              "      <td>...</td>\n",
              "      <td>...</td>\n",
              "      <td>...</td>\n",
              "      <td>...</td>\n",
              "      <td>...</td>\n",
              "      <td>...</td>\n",
              "      <td>...</td>\n",
              "    </tr>\n",
              "    <tr>\n",
              "      <th>460034</th>\n",
              "      <td>460035</td>\n",
              "      <td>9531</td>\n",
              "      <td>50</td>\n",
              "      <td>10</td>\n",
              "      <td>1.075398</td>\n",
              "      <td>0.000000</td>\n",
              "      <td>1</td>\n",
              "      <td>7.735650</td>\n",
              "    </tr>\n",
              "    <tr>\n",
              "      <th>460035</th>\n",
              "      <td>460036</td>\n",
              "      <td>9531</td>\n",
              "      <td>50</td>\n",
              "      <td>10</td>\n",
              "      <td>1.107040</td>\n",
              "      <td>0.000000</td>\n",
              "      <td>1</td>\n",
              "      <td>6.399909</td>\n",
              "    </tr>\n",
              "    <tr>\n",
              "      <th>460036</th>\n",
              "      <td>460037</td>\n",
              "      <td>9531</td>\n",
              "      <td>50</td>\n",
              "      <td>10</td>\n",
              "      <td>1.138719</td>\n",
              "      <td>0.000000</td>\n",
              "      <td>1</td>\n",
              "      <td>6.540513</td>\n",
              "    </tr>\n",
              "    <tr>\n",
              "      <th>460037</th>\n",
              "      <td>460038</td>\n",
              "      <td>9531</td>\n",
              "      <td>50</td>\n",
              "      <td>10</td>\n",
              "      <td>1.170342</td>\n",
              "      <td>0.000000</td>\n",
              "      <td>1</td>\n",
              "      <td>6.470211</td>\n",
              "    </tr>\n",
              "    <tr>\n",
              "      <th>460038</th>\n",
              "      <td>460039</td>\n",
              "      <td>9531</td>\n",
              "      <td>50</td>\n",
              "      <td>10</td>\n",
              "      <td>1.202019</td>\n",
              "      <td>0.000000</td>\n",
              "      <td>1</td>\n",
              "      <td>6.329600</td>\n",
              "    </tr>\n",
              "  </tbody>\n",
              "</table>\n",
              "<p>414554 rows × 8 columns</p>\n",
              "</div>"
            ],
            "text/plain": [
              "            id  breath_id   R   C  time_step       u_in  u_out   pressure\n",
              "0            1          1  20  50   0.000000   0.083334      0   5.837492\n",
              "1            2          1  20  50   0.033652  18.383041      0   5.907794\n",
              "2            3          1  20  50   0.067514  22.509278      0   7.876254\n",
              "3            4          1  20  50   0.101542  22.808822      0  11.742872\n",
              "4            5          1  20  50   0.135756  25.355850      0  12.234987\n",
              "...        ...        ...  ..  ..        ...        ...    ...        ...\n",
              "460034  460035       9531  50  10   1.075398   0.000000      1   7.735650\n",
              "460035  460036       9531  50  10   1.107040   0.000000      1   6.399909\n",
              "460036  460037       9531  50  10   1.138719   0.000000      1   6.540513\n",
              "460037  460038       9531  50  10   1.170342   0.000000      1   6.470211\n",
              "460038  460039       9531  50  10   1.202019   0.000000      1   6.329600\n",
              "\n",
              "[414554 rows x 8 columns]"
            ]
          },
          "metadata": {},
          "execution_count": 86
        }
      ]
    },
    {
      "cell_type": "code",
      "metadata": {
        "id": "Q5cbrQKcMtda"
      },
      "source": [
        "X=train.iloc[:,:-1].values\n",
        "Y=train.iloc[:,-1].values"
      ],
      "execution_count": 94,
      "outputs": []
    },
    {
      "cell_type": "code",
      "metadata": {
        "id": "qtUEDCpZM5eK"
      },
      "source": [
        "from sklearn.model_selection import train_test_split\n",
        "x_train,x_test,y_train,y_test=train_test_split(X,Y,test_size=0.2,random_state=0)"
      ],
      "execution_count": 95,
      "outputs": []
    },
    {
      "cell_type": "code",
      "metadata": {
        "colab": {
          "base_uri": "https://localhost:8080/",
          "height": 423
        },
        "id": "8mZU1gN6ZWIa",
        "outputId": "a3853e19-a250-423c-bd63-fe14b462aaab"
      },
      "source": [
        "test"
      ],
      "execution_count": 121,
      "outputs": [
        {
          "output_type": "execute_result",
          "data": {
            "text/html": [
              "<div>\n",
              "<style scoped>\n",
              "    .dataframe tbody tr th:only-of-type {\n",
              "        vertical-align: middle;\n",
              "    }\n",
              "\n",
              "    .dataframe tbody tr th {\n",
              "        vertical-align: top;\n",
              "    }\n",
              "\n",
              "    .dataframe thead th {\n",
              "        text-align: right;\n",
              "    }\n",
              "</style>\n",
              "<table border=\"1\" class=\"dataframe\">\n",
              "  <thead>\n",
              "    <tr style=\"text-align: right;\">\n",
              "      <th></th>\n",
              "      <th>id</th>\n",
              "      <th>breath_id</th>\n",
              "      <th>R</th>\n",
              "      <th>C</th>\n",
              "      <th>time_step</th>\n",
              "      <th>u_in</th>\n",
              "      <th>u_out</th>\n",
              "    </tr>\n",
              "  </thead>\n",
              "  <tbody>\n",
              "    <tr>\n",
              "      <th>0</th>\n",
              "      <td>1</td>\n",
              "      <td>0</td>\n",
              "      <td>5</td>\n",
              "      <td>20</td>\n",
              "      <td>0.000000</td>\n",
              "      <td>0.000000</td>\n",
              "      <td>0.0</td>\n",
              "    </tr>\n",
              "    <tr>\n",
              "      <th>1</th>\n",
              "      <td>2</td>\n",
              "      <td>0</td>\n",
              "      <td>5</td>\n",
              "      <td>20</td>\n",
              "      <td>0.031904</td>\n",
              "      <td>7.515046</td>\n",
              "      <td>0.0</td>\n",
              "    </tr>\n",
              "    <tr>\n",
              "      <th>2</th>\n",
              "      <td>3</td>\n",
              "      <td>0</td>\n",
              "      <td>5</td>\n",
              "      <td>20</td>\n",
              "      <td>0.063827</td>\n",
              "      <td>14.651675</td>\n",
              "      <td>0.0</td>\n",
              "    </tr>\n",
              "    <tr>\n",
              "      <th>3</th>\n",
              "      <td>4</td>\n",
              "      <td>0</td>\n",
              "      <td>5</td>\n",
              "      <td>20</td>\n",
              "      <td>0.095751</td>\n",
              "      <td>21.230610</td>\n",
              "      <td>0.0</td>\n",
              "    </tr>\n",
              "    <tr>\n",
              "      <th>4</th>\n",
              "      <td>5</td>\n",
              "      <td>0</td>\n",
              "      <td>5</td>\n",
              "      <td>20</td>\n",
              "      <td>0.127644</td>\n",
              "      <td>26.320956</td>\n",
              "      <td>0.0</td>\n",
              "    </tr>\n",
              "    <tr>\n",
              "      <th>...</th>\n",
              "      <td>...</td>\n",
              "      <td>...</td>\n",
              "      <td>...</td>\n",
              "      <td>...</td>\n",
              "      <td>...</td>\n",
              "      <td>...</td>\n",
              "      <td>...</td>\n",
              "    </tr>\n",
              "    <tr>\n",
              "      <th>457171</th>\n",
              "      <td>457172</td>\n",
              "      <td>14394</td>\n",
              "      <td>50</td>\n",
              "      <td>50</td>\n",
              "      <td>1.631394</td>\n",
              "      <td>2.526626</td>\n",
              "      <td>1.0</td>\n",
              "    </tr>\n",
              "    <tr>\n",
              "      <th>457172</th>\n",
              "      <td>457173</td>\n",
              "      <td>14394</td>\n",
              "      <td>50</td>\n",
              "      <td>50</td>\n",
              "      <td>1.663202</td>\n",
              "      <td>2.890301</td>\n",
              "      <td>1.0</td>\n",
              "    </tr>\n",
              "    <tr>\n",
              "      <th>457173</th>\n",
              "      <td>457174</td>\n",
              "      <td>14394</td>\n",
              "      <td>50</td>\n",
              "      <td>50</td>\n",
              "      <td>1.696038</td>\n",
              "      <td>3.209741</td>\n",
              "      <td>1.0</td>\n",
              "    </tr>\n",
              "    <tr>\n",
              "      <th>457174</th>\n",
              "      <td>457175</td>\n",
              "      <td>14394</td>\n",
              "      <td>50</td>\n",
              "      <td>50</td>\n",
              "      <td>1.727811</td>\n",
              "      <td>3.472706</td>\n",
              "      <td>1.0</td>\n",
              "    </tr>\n",
              "    <tr>\n",
              "      <th>457175</th>\n",
              "      <td>457176</td>\n",
              "      <td>14394</td>\n",
              "      <td>50</td>\n",
              "      <td>50</td>\n",
              "      <td>1.759665</td>\n",
              "      <td>3.697572</td>\n",
              "      <td>0.0</td>\n",
              "    </tr>\n",
              "  </tbody>\n",
              "</table>\n",
              "<p>457176 rows × 7 columns</p>\n",
              "</div>"
            ],
            "text/plain": [
              "            id  breath_id   R   C  time_step       u_in  u_out\n",
              "0            1          0   5  20   0.000000   0.000000    0.0\n",
              "1            2          0   5  20   0.031904   7.515046    0.0\n",
              "2            3          0   5  20   0.063827  14.651675    0.0\n",
              "3            4          0   5  20   0.095751  21.230610    0.0\n",
              "4            5          0   5  20   0.127644  26.320956    0.0\n",
              "...        ...        ...  ..  ..        ...        ...    ...\n",
              "457171  457172      14394  50  50   1.631394   2.526626    1.0\n",
              "457172  457173      14394  50  50   1.663202   2.890301    1.0\n",
              "457173  457174      14394  50  50   1.696038   3.209741    1.0\n",
              "457174  457175      14394  50  50   1.727811   3.472706    1.0\n",
              "457175  457176      14394  50  50   1.759665   3.697572    0.0\n",
              "\n",
              "[457176 rows x 7 columns]"
            ]
          },
          "metadata": {},
          "execution_count": 121
        }
      ]
    },
    {
      "cell_type": "code",
      "metadata": {
        "colab": {
          "base_uri": "https://localhost:8080/"
        },
        "id": "8YVaZqI1VQa8",
        "outputId": "a8cdab87-82b3-4502-c33c-c19a3badaae3"
      },
      "source": [
        "from sklearn.ensemble import RandomForestRegressor\n",
        "rfr=RandomForestRegressor(n_estimators=64,criterion='squared_error')\n",
        "rfr.fit(x_train,y_train)\n"
      ],
      "execution_count": 110,
      "outputs": [
        {
          "output_type": "execute_result",
          "data": {
            "text/plain": [
              "RandomForestRegressor(n_estimators=64)"
            ]
          },
          "metadata": {},
          "execution_count": 110
        }
      ]
    },
    {
      "cell_type": "code",
      "metadata": {
        "id": "fCwIhKQNXaul"
      },
      "source": [
        "y_pred=rfr.predict(x_test)"
      ],
      "execution_count": 111,
      "outputs": []
    },
    {
      "cell_type": "code",
      "metadata": {
        "colab": {
          "base_uri": "https://localhost:8080/"
        },
        "id": "v65X6g4sXNjm",
        "outputId": "fd1b5ca1-0b2f-43cd-9cb4-4f2be6be43c1"
      },
      "source": [
        "from sklearn.metrics import r2_score\n",
        "score=r2_score(y_pred,y_test)\n",
        "score"
      ],
      "execution_count": 112,
      "outputs": [
        {
          "output_type": "execute_result",
          "data": {
            "text/plain": [
              "0.7981788251303706"
            ]
          },
          "metadata": {},
          "execution_count": 112
        }
      ]
    },
    {
      "cell_type": "code",
      "metadata": {
        "id": "sWNAQ9j4bVdT"
      },
      "source": [
        "sample=pd.read_csv('sample_submission.csv')\n",
        "ids=test_set['id']"
      ],
      "execution_count": 137,
      "outputs": []
    },
    {
      "cell_type": "code",
      "metadata": {
        "colab": {
          "base_uri": "https://localhost:8080/"
        },
        "id": "BO6TVPmqZCBw",
        "outputId": "21946385-c304-44ff-cf12-1c7207b47dac"
      },
      "source": [
        "pred=rfr.predict(test_set)"
      ],
      "execution_count": 134,
      "outputs": [
        {
          "output_type": "stream",
          "name": "stderr",
          "text": [
            "/usr/local/lib/python3.7/dist-packages/sklearn/base.py:439: UserWarning: X has feature names, but RandomForestRegressor was fitted without feature names\n",
            "  f\"X has feature names, but {self.__class__.__name__} was fitted without\"\n"
          ]
        }
      ]
    },
    {
      "cell_type": "code",
      "metadata": {
        "colab": {
          "base_uri": "https://localhost:8080/"
        },
        "id": "m_dByr30bqb9",
        "outputId": "a12d2ed3-5632-49c2-d91b-fd50a8009579"
      },
      "source": [
        "ids"
      ],
      "execution_count": 132,
      "outputs": [
        {
          "output_type": "execute_result",
          "data": {
            "text/plain": [
              "0              1\n",
              "1              2\n",
              "2              3\n",
              "3              4\n",
              "4              5\n",
              "           ...  \n",
              "711390    711391\n",
              "711391    711392\n",
              "711392    711393\n",
              "711393    711394\n",
              "711394       711\n",
              "Name: id, Length: 711395, dtype: int64"
            ]
          },
          "metadata": {},
          "execution_count": 132
        }
      ]
    },
    {
      "cell_type": "code",
      "metadata": {
        "colab": {
          "base_uri": "https://localhost:8080/"
        },
        "id": "MvttqnZfZShG",
        "outputId": "aab09abc-961d-4938-8146-1bd4921f3690"
      },
      "source": [
        "pred.shape"
      ],
      "execution_count": 135,
      "outputs": [
        {
          "output_type": "execute_result",
          "data": {
            "text/plain": [
              "(4024000,)"
            ]
          },
          "metadata": {},
          "execution_count": 135
        }
      ]
    },
    {
      "cell_type": "code",
      "metadata": {
        "colab": {
          "base_uri": "https://localhost:8080/",
          "height": 423
        },
        "id": "fgMUjDb6Yufo",
        "outputId": "50c11299-eb53-47dc-fcdc-1e365b6d7658"
      },
      "source": [
        "output=pd.DataFrame({'id':ids,'pressure':pred})\n",
        "output.to_csv('submission_1.csv')\n",
        "output"
      ],
      "execution_count": 144,
      "outputs": [
        {
          "output_type": "execute_result",
          "data": {
            "text/html": [
              "<div>\n",
              "<style scoped>\n",
              "    .dataframe tbody tr th:only-of-type {\n",
              "        vertical-align: middle;\n",
              "    }\n",
              "\n",
              "    .dataframe tbody tr th {\n",
              "        vertical-align: top;\n",
              "    }\n",
              "\n",
              "    .dataframe thead th {\n",
              "        text-align: right;\n",
              "    }\n",
              "</style>\n",
              "<table border=\"1\" class=\"dataframe\">\n",
              "  <thead>\n",
              "    <tr style=\"text-align: right;\">\n",
              "      <th></th>\n",
              "      <th>id</th>\n",
              "      <th>pressure</th>\n",
              "    </tr>\n",
              "  </thead>\n",
              "  <tbody>\n",
              "    <tr>\n",
              "      <th>0</th>\n",
              "      <td>1</td>\n",
              "      <td>5.797947</td>\n",
              "    </tr>\n",
              "    <tr>\n",
              "      <th>1</th>\n",
              "      <td>2</td>\n",
              "      <td>5.892415</td>\n",
              "    </tr>\n",
              "    <tr>\n",
              "      <th>2</th>\n",
              "      <td>3</td>\n",
              "      <td>7.279784</td>\n",
              "    </tr>\n",
              "    <tr>\n",
              "      <th>3</th>\n",
              "      <td>4</td>\n",
              "      <td>7.968525</td>\n",
              "    </tr>\n",
              "    <tr>\n",
              "      <th>4</th>\n",
              "      <td>5</td>\n",
              "      <td>9.651383</td>\n",
              "    </tr>\n",
              "    <tr>\n",
              "      <th>...</th>\n",
              "      <td>...</td>\n",
              "      <td>...</td>\n",
              "    </tr>\n",
              "    <tr>\n",
              "      <th>4023995</th>\n",
              "      <td>4023996</td>\n",
              "      <td>6.118700</td>\n",
              "    </tr>\n",
              "    <tr>\n",
              "      <th>4023996</th>\n",
              "      <td>4023997</td>\n",
              "      <td>6.069269</td>\n",
              "    </tr>\n",
              "    <tr>\n",
              "      <th>4023997</th>\n",
              "      <td>4023998</td>\n",
              "      <td>6.056087</td>\n",
              "    </tr>\n",
              "    <tr>\n",
              "      <th>4023998</th>\n",
              "      <td>4023999</td>\n",
              "      <td>6.014346</td>\n",
              "    </tr>\n",
              "    <tr>\n",
              "      <th>4023999</th>\n",
              "      <td>4024000</td>\n",
              "      <td>6.070368</td>\n",
              "    </tr>\n",
              "  </tbody>\n",
              "</table>\n",
              "<p>4024000 rows × 2 columns</p>\n",
              "</div>"
            ],
            "text/plain": [
              "              id  pressure\n",
              "0              1  5.797947\n",
              "1              2  5.892415\n",
              "2              3  7.279784\n",
              "3              4  7.968525\n",
              "4              5  9.651383\n",
              "...          ...       ...\n",
              "4023995  4023996  6.118700\n",
              "4023996  4023997  6.069269\n",
              "4023997  4023998  6.056087\n",
              "4023998  4023999  6.014346\n",
              "4023999  4024000  6.070368\n",
              "\n",
              "[4024000 rows x 2 columns]"
            ]
          },
          "metadata": {},
          "execution_count": 144
        }
      ]
    },
    {
      "cell_type": "code",
      "metadata": {
        "colab": {
          "base_uri": "https://localhost:8080/",
          "height": 423
        },
        "id": "mvg7Gt6Gb6fL",
        "outputId": "c8030747-76c5-4f34-adaf-7f1ddc8d9f2c"
      },
      "source": [
        "test_set=pd.read_csv('test.csv')\n",
        "test_set"
      ],
      "execution_count": 133,
      "outputs": [
        {
          "output_type": "execute_result",
          "data": {
            "text/html": [
              "<div>\n",
              "<style scoped>\n",
              "    .dataframe tbody tr th:only-of-type {\n",
              "        vertical-align: middle;\n",
              "    }\n",
              "\n",
              "    .dataframe tbody tr th {\n",
              "        vertical-align: top;\n",
              "    }\n",
              "\n",
              "    .dataframe thead th {\n",
              "        text-align: right;\n",
              "    }\n",
              "</style>\n",
              "<table border=\"1\" class=\"dataframe\">\n",
              "  <thead>\n",
              "    <tr style=\"text-align: right;\">\n",
              "      <th></th>\n",
              "      <th>id</th>\n",
              "      <th>breath_id</th>\n",
              "      <th>R</th>\n",
              "      <th>C</th>\n",
              "      <th>time_step</th>\n",
              "      <th>u_in</th>\n",
              "      <th>u_out</th>\n",
              "    </tr>\n",
              "  </thead>\n",
              "  <tbody>\n",
              "    <tr>\n",
              "      <th>0</th>\n",
              "      <td>1</td>\n",
              "      <td>0</td>\n",
              "      <td>5</td>\n",
              "      <td>20</td>\n",
              "      <td>0.000000</td>\n",
              "      <td>0.000000</td>\n",
              "      <td>0</td>\n",
              "    </tr>\n",
              "    <tr>\n",
              "      <th>1</th>\n",
              "      <td>2</td>\n",
              "      <td>0</td>\n",
              "      <td>5</td>\n",
              "      <td>20</td>\n",
              "      <td>0.031904</td>\n",
              "      <td>7.515046</td>\n",
              "      <td>0</td>\n",
              "    </tr>\n",
              "    <tr>\n",
              "      <th>2</th>\n",
              "      <td>3</td>\n",
              "      <td>0</td>\n",
              "      <td>5</td>\n",
              "      <td>20</td>\n",
              "      <td>0.063827</td>\n",
              "      <td>14.651675</td>\n",
              "      <td>0</td>\n",
              "    </tr>\n",
              "    <tr>\n",
              "      <th>3</th>\n",
              "      <td>4</td>\n",
              "      <td>0</td>\n",
              "      <td>5</td>\n",
              "      <td>20</td>\n",
              "      <td>0.095751</td>\n",
              "      <td>21.230610</td>\n",
              "      <td>0</td>\n",
              "    </tr>\n",
              "    <tr>\n",
              "      <th>4</th>\n",
              "      <td>5</td>\n",
              "      <td>0</td>\n",
              "      <td>5</td>\n",
              "      <td>20</td>\n",
              "      <td>0.127644</td>\n",
              "      <td>26.320956</td>\n",
              "      <td>0</td>\n",
              "    </tr>\n",
              "    <tr>\n",
              "      <th>...</th>\n",
              "      <td>...</td>\n",
              "      <td>...</td>\n",
              "      <td>...</td>\n",
              "      <td>...</td>\n",
              "      <td>...</td>\n",
              "      <td>...</td>\n",
              "      <td>...</td>\n",
              "    </tr>\n",
              "    <tr>\n",
              "      <th>4023995</th>\n",
              "      <td>4023996</td>\n",
              "      <td>125748</td>\n",
              "      <td>20</td>\n",
              "      <td>10</td>\n",
              "      <td>2.530117</td>\n",
              "      <td>4.971245</td>\n",
              "      <td>1</td>\n",
              "    </tr>\n",
              "    <tr>\n",
              "      <th>4023996</th>\n",
              "      <td>4023997</td>\n",
              "      <td>125748</td>\n",
              "      <td>20</td>\n",
              "      <td>10</td>\n",
              "      <td>2.563853</td>\n",
              "      <td>4.975709</td>\n",
              "      <td>1</td>\n",
              "    </tr>\n",
              "    <tr>\n",
              "      <th>4023997</th>\n",
              "      <td>4023998</td>\n",
              "      <td>125748</td>\n",
              "      <td>20</td>\n",
              "      <td>10</td>\n",
              "      <td>2.597475</td>\n",
              "      <td>4.979468</td>\n",
              "      <td>1</td>\n",
              "    </tr>\n",
              "    <tr>\n",
              "      <th>4023998</th>\n",
              "      <td>4023999</td>\n",
              "      <td>125748</td>\n",
              "      <td>20</td>\n",
              "      <td>10</td>\n",
              "      <td>2.631134</td>\n",
              "      <td>4.982648</td>\n",
              "      <td>1</td>\n",
              "    </tr>\n",
              "    <tr>\n",
              "      <th>4023999</th>\n",
              "      <td>4024000</td>\n",
              "      <td>125748</td>\n",
              "      <td>20</td>\n",
              "      <td>10</td>\n",
              "      <td>2.665301</td>\n",
              "      <td>4.985373</td>\n",
              "      <td>1</td>\n",
              "    </tr>\n",
              "  </tbody>\n",
              "</table>\n",
              "<p>4024000 rows × 7 columns</p>\n",
              "</div>"
            ],
            "text/plain": [
              "              id  breath_id   R   C  time_step       u_in  u_out\n",
              "0              1          0   5  20   0.000000   0.000000      0\n",
              "1              2          0   5  20   0.031904   7.515046      0\n",
              "2              3          0   5  20   0.063827  14.651675      0\n",
              "3              4          0   5  20   0.095751  21.230610      0\n",
              "4              5          0   5  20   0.127644  26.320956      0\n",
              "...          ...        ...  ..  ..        ...        ...    ...\n",
              "4023995  4023996     125748  20  10   2.530117   4.971245      1\n",
              "4023996  4023997     125748  20  10   2.563853   4.975709      1\n",
              "4023997  4023998     125748  20  10   2.597475   4.979468      1\n",
              "4023998  4023999     125748  20  10   2.631134   4.982648      1\n",
              "4023999  4024000     125748  20  10   2.665301   4.985373      1\n",
              "\n",
              "[4024000 rows x 7 columns]"
            ]
          },
          "metadata": {},
          "execution_count": 133
        }
      ]
    },
    {
      "cell_type": "code",
      "metadata": {
        "id": "fIjdcFYtcAGm"
      },
      "source": [
        ""
      ],
      "execution_count": null,
      "outputs": []
    }
  ]
}