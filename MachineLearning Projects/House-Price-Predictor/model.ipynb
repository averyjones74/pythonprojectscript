{
 "cells": [
  {
   "cell_type": "code",
   "execution_count": 1,
   "id": "alone-spirit",
   "metadata": {},
   "outputs": [],
   "source": [
    "import numpy as np\n",
    "import pandas as pd"
   ]
  },
  {
   "cell_type": "code",
   "execution_count": 2,
   "id": "partial-portland",
   "metadata": {},
   "outputs": [],
   "source": [
    "df = pd.read_csv('data.csv')"
   ]
  },
  {
   "cell_type": "code",
   "execution_count": 3,
   "id": "adjustable-albany",
   "metadata": {},
   "outputs": [
    {
     "data": {
      "text/html": [
       "<div>\n",
       "<style scoped>\n",
       "    .dataframe tbody tr th:only-of-type {\n",
       "        vertical-align: middle;\n",
       "    }\n",
       "\n",
       "    .dataframe tbody tr th {\n",
       "        vertical-align: top;\n",
       "    }\n",
       "\n",
       "    .dataframe thead th {\n",
       "        text-align: right;\n",
       "    }\n",
       "</style>\n",
       "<table border=\"1\" class=\"dataframe\">\n",
       "  <thead>\n",
       "    <tr style=\"text-align: right;\">\n",
       "      <th></th>\n",
       "      <th>swimming_pool</th>\n",
       "      <th>train_station</th>\n",
       "      <th>bus_station</th>\n",
       "      <th>school_dist</th>\n",
       "      <th>near_park_dist</th>\n",
       "      <th>parking_on_street</th>\n",
       "      <th>dist_local_market</th>\n",
       "      <th>dist_health_center</th>\n",
       "      <th>dist_bank</th>\n",
       "      <th>NRM</th>\n",
       "      <th>Tax</th>\n",
       "      <th>age_of_house</th>\n",
       "      <th>area_type</th>\n",
       "      <th>dist_police_station</th>\n",
       "      <th>dist_mall</th>\n",
       "      <th>floor_no</th>\n",
       "      <th>dist_worship</th>\n",
       "      <th>Price</th>\n",
       "    </tr>\n",
       "  </thead>\n",
       "  <tbody>\n",
       "    <tr>\n",
       "      <th>count</th>\n",
       "      <td>568.000000</td>\n",
       "      <td>568.000000</td>\n",
       "      <td>568.000000</td>\n",
       "      <td>568.000000</td>\n",
       "      <td>568.000000</td>\n",
       "      <td>568.000000</td>\n",
       "      <td>568.000000</td>\n",
       "      <td>568.000000</td>\n",
       "      <td>568.000000</td>\n",
       "      <td>568.000000</td>\n",
       "      <td>568.000000</td>\n",
       "      <td>568.000000</td>\n",
       "      <td>568.000000</td>\n",
       "      <td>568.000000</td>\n",
       "      <td>568.000000</td>\n",
       "      <td>568.000000</td>\n",
       "      <td>568.000000</td>\n",
       "      <td>568.000000</td>\n",
       "    </tr>\n",
       "    <tr>\n",
       "      <th>mean</th>\n",
       "      <td>0.501761</td>\n",
       "      <td>2.943662</td>\n",
       "      <td>3.049296</td>\n",
       "      <td>2.496479</td>\n",
       "      <td>2.945423</td>\n",
       "      <td>0.505282</td>\n",
       "      <td>3.100352</td>\n",
       "      <td>2.957746</td>\n",
       "      <td>3.975352</td>\n",
       "      <td>2.051056</td>\n",
       "      <td>3444.794014</td>\n",
       "      <td>10.343310</td>\n",
       "      <td>0.494718</td>\n",
       "      <td>1.968310</td>\n",
       "      <td>1.948944</td>\n",
       "      <td>7.501761</td>\n",
       "      <td>6.711268</td>\n",
       "      <td>1.753028</td>\n",
       "    </tr>\n",
       "    <tr>\n",
       "      <th>std</th>\n",
       "      <td>0.500438</td>\n",
       "      <td>1.454905</td>\n",
       "      <td>1.427013</td>\n",
       "      <td>1.098334</td>\n",
       "      <td>1.387338</td>\n",
       "      <td>0.500413</td>\n",
       "      <td>1.424948</td>\n",
       "      <td>1.438318</td>\n",
       "      <td>0.813960</td>\n",
       "      <td>0.805098</td>\n",
       "      <td>857.855249</td>\n",
       "      <td>5.823394</td>\n",
       "      <td>0.500413</td>\n",
       "      <td>0.820192</td>\n",
       "      <td>0.830970</td>\n",
       "      <td>1.673530</td>\n",
       "      <td>3.451515</td>\n",
       "      <td>1.623710</td>\n",
       "    </tr>\n",
       "    <tr>\n",
       "      <th>min</th>\n",
       "      <td>0.000000</td>\n",
       "      <td>1.000000</td>\n",
       "      <td>1.000000</td>\n",
       "      <td>1.000000</td>\n",
       "      <td>1.000000</td>\n",
       "      <td>0.000000</td>\n",
       "      <td>1.000000</td>\n",
       "      <td>1.000000</td>\n",
       "      <td>3.000000</td>\n",
       "      <td>1.000000</td>\n",
       "      <td>2006.000000</td>\n",
       "      <td>1.000000</td>\n",
       "      <td>0.000000</td>\n",
       "      <td>1.000000</td>\n",
       "      <td>1.000000</td>\n",
       "      <td>5.000000</td>\n",
       "      <td>1.000000</td>\n",
       "      <td>0.000000</td>\n",
       "    </tr>\n",
       "    <tr>\n",
       "      <th>25%</th>\n",
       "      <td>0.000000</td>\n",
       "      <td>2.000000</td>\n",
       "      <td>2.000000</td>\n",
       "      <td>2.000000</td>\n",
       "      <td>2.000000</td>\n",
       "      <td>0.000000</td>\n",
       "      <td>2.000000</td>\n",
       "      <td>2.000000</td>\n",
       "      <td>3.000000</td>\n",
       "      <td>1.000000</td>\n",
       "      <td>2729.250000</td>\n",
       "      <td>5.000000</td>\n",
       "      <td>0.000000</td>\n",
       "      <td>1.000000</td>\n",
       "      <td>1.000000</td>\n",
       "      <td>6.000000</td>\n",
       "      <td>4.000000</td>\n",
       "      <td>0.490000</td>\n",
       "    </tr>\n",
       "    <tr>\n",
       "      <th>50%</th>\n",
       "      <td>1.000000</td>\n",
       "      <td>3.000000</td>\n",
       "      <td>3.000000</td>\n",
       "      <td>2.000000</td>\n",
       "      <td>3.000000</td>\n",
       "      <td>1.000000</td>\n",
       "      <td>3.000000</td>\n",
       "      <td>3.000000</td>\n",
       "      <td>4.000000</td>\n",
       "      <td>2.000000</td>\n",
       "      <td>3385.000000</td>\n",
       "      <td>10.000000</td>\n",
       "      <td>0.000000</td>\n",
       "      <td>2.000000</td>\n",
       "      <td>2.000000</td>\n",
       "      <td>7.000000</td>\n",
       "      <td>7.000000</td>\n",
       "      <td>0.985000</td>\n",
       "    </tr>\n",
       "    <tr>\n",
       "      <th>75%</th>\n",
       "      <td>1.000000</td>\n",
       "      <td>4.000000</td>\n",
       "      <td>4.000000</td>\n",
       "      <td>3.000000</td>\n",
       "      <td>4.000000</td>\n",
       "      <td>1.000000</td>\n",
       "      <td>4.000000</td>\n",
       "      <td>4.000000</td>\n",
       "      <td>5.000000</td>\n",
       "      <td>3.000000</td>\n",
       "      <td>4121.500000</td>\n",
       "      <td>15.250000</td>\n",
       "      <td>1.000000</td>\n",
       "      <td>3.000000</td>\n",
       "      <td>3.000000</td>\n",
       "      <td>9.000000</td>\n",
       "      <td>10.000000</td>\n",
       "      <td>3.000000</td>\n",
       "    </tr>\n",
       "    <tr>\n",
       "      <th>max</th>\n",
       "      <td>1.000000</td>\n",
       "      <td>5.000000</td>\n",
       "      <td>5.000000</td>\n",
       "      <td>4.000000</td>\n",
       "      <td>5.000000</td>\n",
       "      <td>1.000000</td>\n",
       "      <td>5.000000</td>\n",
       "      <td>5.000000</td>\n",
       "      <td>5.000000</td>\n",
       "      <td>3.000000</td>\n",
       "      <td>4996.000000</td>\n",
       "      <td>20.000000</td>\n",
       "      <td>1.000000</td>\n",
       "      <td>3.000000</td>\n",
       "      <td>3.000000</td>\n",
       "      <td>10.000000</td>\n",
       "      <td>12.000000</td>\n",
       "      <td>5.000000</td>\n",
       "    </tr>\n",
       "  </tbody>\n",
       "</table>\n",
       "</div>"
      ],
      "text/plain": [
       "       swimming_pool  train_station  bus_station  school_dist  near_park_dist  \\\n",
       "count     568.000000     568.000000   568.000000   568.000000      568.000000   \n",
       "mean        0.501761       2.943662     3.049296     2.496479        2.945423   \n",
       "std         0.500438       1.454905     1.427013     1.098334        1.387338   \n",
       "min         0.000000       1.000000     1.000000     1.000000        1.000000   \n",
       "25%         0.000000       2.000000     2.000000     2.000000        2.000000   \n",
       "50%         1.000000       3.000000     3.000000     2.000000        3.000000   \n",
       "75%         1.000000       4.000000     4.000000     3.000000        4.000000   \n",
       "max         1.000000       5.000000     5.000000     4.000000        5.000000   \n",
       "\n",
       "       parking_on_street  dist_local_market  dist_health_center   dist_bank  \\\n",
       "count         568.000000         568.000000          568.000000  568.000000   \n",
       "mean            0.505282           3.100352            2.957746    3.975352   \n",
       "std             0.500413           1.424948            1.438318    0.813960   \n",
       "min             0.000000           1.000000            1.000000    3.000000   \n",
       "25%             0.000000           2.000000            2.000000    3.000000   \n",
       "50%             1.000000           3.000000            3.000000    4.000000   \n",
       "75%             1.000000           4.000000            4.000000    5.000000   \n",
       "max             1.000000           5.000000            5.000000    5.000000   \n",
       "\n",
       "              NRM          Tax  age_of_house   area_type  dist_police_station  \\\n",
       "count  568.000000   568.000000    568.000000  568.000000           568.000000   \n",
       "mean     2.051056  3444.794014     10.343310    0.494718             1.968310   \n",
       "std      0.805098   857.855249      5.823394    0.500413             0.820192   \n",
       "min      1.000000  2006.000000      1.000000    0.000000             1.000000   \n",
       "25%      1.000000  2729.250000      5.000000    0.000000             1.000000   \n",
       "50%      2.000000  3385.000000     10.000000    0.000000             2.000000   \n",
       "75%      3.000000  4121.500000     15.250000    1.000000             3.000000   \n",
       "max      3.000000  4996.000000     20.000000    1.000000             3.000000   \n",
       "\n",
       "        dist_mall    floor_no  dist_worship       Price  \n",
       "count  568.000000  568.000000    568.000000  568.000000  \n",
       "mean     1.948944    7.501761      6.711268    1.753028  \n",
       "std      0.830970    1.673530      3.451515    1.623710  \n",
       "min      1.000000    5.000000      1.000000    0.000000  \n",
       "25%      1.000000    6.000000      4.000000    0.490000  \n",
       "50%      2.000000    7.000000      7.000000    0.985000  \n",
       "75%      3.000000    9.000000     10.000000    3.000000  \n",
       "max      3.000000   10.000000     12.000000    5.000000  "
      ]
     },
     "execution_count": 3,
     "metadata": {},
     "output_type": "execute_result"
    }
   ],
   "source": [
    "df.describe()"
   ]
  },
  {
   "cell_type": "code",
   "execution_count": 4,
   "id": "underlying-voltage",
   "metadata": {},
   "outputs": [
    {
     "name": "stdout",
     "output_type": "stream",
     "text": [
      "<class 'pandas.core.frame.DataFrame'>\n",
      "RangeIndex: 568 entries, 0 to 567\n",
      "Data columns (total 18 columns):\n",
      " #   Column               Non-Null Count  Dtype  \n",
      "---  ------               --------------  -----  \n",
      " 0   swimming_pool        568 non-null    int64  \n",
      " 1   train_station        568 non-null    int64  \n",
      " 2   bus_station          568 non-null    int64  \n",
      " 3   school_dist          568 non-null    int64  \n",
      " 4   near_park_dist       568 non-null    int64  \n",
      " 5   parking_on_street    568 non-null    int64  \n",
      " 6   dist_local_market    568 non-null    int64  \n",
      " 7   dist_health_center   568 non-null    int64  \n",
      " 8   dist_bank            568 non-null    int64  \n",
      " 9   NRM                  568 non-null    int64  \n",
      " 10  Tax                  568 non-null    int64  \n",
      " 11  age_of_house         568 non-null    int64  \n",
      " 12  area_type            568 non-null    int64  \n",
      " 13  dist_police_station  568 non-null    int64  \n",
      " 14  dist_mall            568 non-null    int64  \n",
      " 15  floor_no             568 non-null    int64  \n",
      " 16  dist_worship         568 non-null    int64  \n",
      " 17  Price                568 non-null    float64\n",
      "dtypes: float64(1), int64(17)\n",
      "memory usage: 80.0 KB\n"
     ]
    }
   ],
   "source": [
    "df.info()"
   ]
  },
  {
   "cell_type": "code",
   "execution_count": 5,
   "id": "cheap-forest",
   "metadata": {},
   "outputs": [],
   "source": [
    "df_copy = df.copy(deep=True)"
   ]
  },
  {
   "cell_type": "code",
   "execution_count": 6,
   "id": "organic-melbourne",
   "metadata": {},
   "outputs": [
    {
     "data": {
      "text/plain": [
       "<bound method NDFrame.head of      swimming_pool  train_station  bus_station  school_dist  near_park_dist  \\\n",
       "0                0              4            2            2               1   \n",
       "1                0              5            5            2               3   \n",
       "2                1              1            3            1               2   \n",
       "3                1              5            3            1               3   \n",
       "4                0              4            1            4               5   \n",
       "..             ...            ...          ...          ...             ...   \n",
       "563              0              1            5            4               5   \n",
       "564              1              2            3            2               5   \n",
       "565              1              3            3            1               5   \n",
       "566              0              3            3            1               3   \n",
       "567              1              4            3            2               4   \n",
       "\n",
       "     parking_on_street  dist_local_market  dist_health_center  dist_bank  NRM  \\\n",
       "0                    1                  2                   3          4    3   \n",
       "1                    1                  3                   3          3    3   \n",
       "2                    1                  3                   2          3    2   \n",
       "3                    0                  3                   2          5    2   \n",
       "4                    1                  4                   5          5    2   \n",
       "..                 ...                ...                 ...        ...  ...   \n",
       "563                  0                  4                   5          3    2   \n",
       "564                  1                  4                   4          3    1   \n",
       "565                  0                  5                   3          5    2   \n",
       "566                  0                  5                   1          5    2   \n",
       "567                  1                  4                   3          4    1   \n",
       "\n",
       "      Tax  age_of_house  area_type  dist_police_station  dist_mall  floor_no  \\\n",
       "0    2512             6          1                    3          2         6   \n",
       "1    4281            18          1                    3          3         5   \n",
       "2    4504             2          0                    2          1         9   \n",
       "3    4063            20          1                    1          2         9   \n",
       "4    4718             7          0                    1          2         9   \n",
       "..    ...           ...        ...                  ...        ...       ...   \n",
       "563  3241             4          1                    1          1         8   \n",
       "564  2849            17          0                    1          2         9   \n",
       "565  4415             4          1                    2          2         6   \n",
       "566  3576            20          0                    1          1         6   \n",
       "567  4745             4          1                    3          1         7   \n",
       "\n",
       "     dist_worship  Price  \n",
       "0               6   3.00  \n",
       "1               3   4.00  \n",
       "2               7   0.84  \n",
       "3               8   1.00  \n",
       "4              10   0.14  \n",
       "..            ...    ...  \n",
       "563             3   3.00  \n",
       "564            12   0.79  \n",
       "565             9   5.00  \n",
       "566             6   0.35  \n",
       "567             9   5.00  \n",
       "\n",
       "[568 rows x 18 columns]>"
      ]
     },
     "execution_count": 6,
     "metadata": {},
     "output_type": "execute_result"
    }
   ],
   "source": [
    "df.head"
   ]
  },
  {
   "cell_type": "code",
   "execution_count": 7,
   "id": "offshore-coach",
   "metadata": {},
   "outputs": [],
   "source": [
    "from sklearn.model_selection import train_test_split\n",
    "train_set, test_set= train_test_split(df_copy,test_size=0.2,random_state=42)"
   ]
  },
  {
   "cell_type": "code",
   "execution_count": 8,
   "id": "honest-vertex",
   "metadata": {},
   "outputs": [],
   "source": [
    "names=['train_station','bus_station','school_dist','dist_health_center','parking_on_street'\n",
    "       'dist_local_market','NRM','age_of_house','area_type','floor_no','Tax'\n",
    "       ,'dist_mall']"
   ]
  },
  {
   "cell_type": "code",
   "execution_count": 9,
   "id": "average-label",
   "metadata": {},
   "outputs": [],
   "source": [
    "corr_matrix = df_copy.corr(method='pearson')"
   ]
  },
  {
   "cell_type": "code",
   "execution_count": 10,
   "id": "noble-brunei",
   "metadata": {},
   "outputs": [],
   "source": [
    "import matplotlib.pyplot as plt\n",
    "import numpy as np"
   ]
  },
  {
   "cell_type": "code",
   "execution_count": 11,
   "id": "enabling-japan",
   "metadata": {},
   "outputs": [],
   "source": [
    "result =corr_matrix['Price'].sort_values(ascending=True)"
   ]
  },
  {
   "cell_type": "code",
   "execution_count": 12,
   "id": "possible-color",
   "metadata": {},
   "outputs": [
    {
     "data": {
      "text/plain": [
       "dist_mall             -0.102313\n",
       "dist_local_market     -0.065733\n",
       "parking_on_street     -0.055153\n",
       "Tax                   -0.019866\n",
       "floor_no              -0.017059\n",
       "dist_police_station   -0.015197\n",
       "NRM                    0.006182\n",
       "dist_worship           0.012392\n",
       "age_of_house           0.013002\n",
       "swimming_pool          0.020266\n",
       "dist_bank              0.028961\n",
       "school_dist            0.030693\n",
       "near_park_dist         0.030772\n",
       "bus_station            0.030976\n",
       "dist_health_center     0.039627\n",
       "train_station          0.080620\n",
       "area_type              0.786624\n",
       "Price                  1.000000\n",
       "Name: Price, dtype: float64"
      ]
     },
     "execution_count": 12,
     "metadata": {},
     "output_type": "execute_result"
    }
   ],
   "source": [
    "result"
   ]
  },
  {
   "cell_type": "code",
   "execution_count": 13,
   "id": "consistent-patrol",
   "metadata": {},
   "outputs": [
    {
     "data": {
      "text/plain": [
       "pandas.core.series.Series"
      ]
     },
     "execution_count": 13,
     "metadata": {},
     "output_type": "execute_result"
    }
   ],
   "source": [
    "type(result)"
   ]
  },
  {
   "cell_type": "code",
   "execution_count": 14,
   "id": "proud-enough",
   "metadata": {},
   "outputs": [],
   "source": [
    "dist_mall=result['dist_mall']\n",
    "train_station=result['train_station']\n",
    "bus_station=result['bus_station']\n",
    "school_dist=result['school_dist']\n",
    "dist_health_center=result['dist_health_center']\n",
    "parking_on_street=result['parking_on_street']\n",
    "dist_local_market=result['dist_local_market']\n",
    "NRM=result['NRM']\n",
    "age_of_house=result['age_of_house']\n",
    "area_type=result['area_type']\n",
    "floor_no=result['floor_no']\n",
    "Tax=result['Tax']"
   ]
  },
  {
   "cell_type": "code",
   "execution_count": 15,
   "id": "manufactured-increase",
   "metadata": {},
   "outputs": [
    {
     "data": {
      "text/plain": [
       "numpy.float64"
      ]
     },
     "execution_count": 15,
     "metadata": {},
     "output_type": "execute_result"
    }
   ],
   "source": [
    "type(dist_mall)"
   ]
  },
  {
   "cell_type": "code",
   "execution_count": 16,
   "id": "correct-indian",
   "metadata": {},
   "outputs": [],
   "source": [
    "x_data_pro=[dist_mall,train_station,bus_station,school_dist,dist_health_center,parking_on_street,dist_local_market,NRM,age_of_house,area_type,floor_no,Tax]"
   ]
  },
  {
   "cell_type": "code",
   "execution_count": 17,
   "id": "dirty-subsection",
   "metadata": {},
   "outputs": [
    {
     "data": {
      "text/plain": [
       "-0.10231301498556705"
      ]
     },
     "execution_count": 17,
     "metadata": {},
     "output_type": "execute_result"
    }
   ],
   "source": [
    "x_data_pro[0]"
   ]
  },
  {
   "cell_type": "code",
   "execution_count": 18,
   "id": "egyptian-sellers",
   "metadata": {},
   "outputs": [
    {
     "data": {
      "text/plain": [
       "'train_station'"
      ]
     },
     "execution_count": 18,
     "metadata": {},
     "output_type": "execute_result"
    }
   ],
   "source": [
    "names[0]"
   ]
  },
  {
   "cell_type": "code",
   "execution_count": 19,
   "id": "remarkable-conversion",
   "metadata": {},
   "outputs": [
    {
     "data": {
      "text/plain": [
       "[-0.10231301498556705,\n",
       " 0.08062037953957177,\n",
       " 0.030975896372552013,\n",
       " 0.030693101577452864,\n",
       " 0.039626605830445256,\n",
       " -0.05515299961500542,\n",
       " -0.06573264416247665,\n",
       " 0.00618204817291788,\n",
       " 0.013002426239908394,\n",
       " 0.7866240345163026,\n",
       " -0.01705887757700973,\n",
       " -0.019866151557766124]"
      ]
     },
     "execution_count": 19,
     "metadata": {},
     "output_type": "execute_result"
    }
   ],
   "source": [
    "x_data_pro"
   ]
  },
  {
   "cell_type": "code",
   "execution_count": 20,
   "id": "hazardous-advancement",
   "metadata": {},
   "outputs": [],
   "source": [
    "data={\n",
    "    \"NRM\":NRM,\n",
    "    \"Area type\":area_type,\n",
    "    \"Dist_mall\":dist_mall,\n",
    "    \"Train station\":train_station,\n",
    "    \"Bus station\":bus_station,\n",
    "    \"Tax\":Tax,\n",
    "    \"school_dist\":school_dist,\n",
    "    \"hospital_dist\":dist_health_center\n",
    "    \n",
    "}"
   ]
  },
  {
   "cell_type": "code",
   "execution_count": 21,
   "id": "engaging-village",
   "metadata": {
    "scrolled": true
   },
   "outputs": [
    {
     "data": {
      "image/png": "[encoded data removed]",
      "text/plain": [
       "<Figure size 720x360 with 1 Axes>"
      ]
     },
     "metadata": {
      "needs_background": "light"
     },
     "output_type": "display_data"
    }
   ],
   "source": [
    "fig = plt.figure(figsize = (10, 5))\n",
    " \n",
    "# creating the bar plot\n",
    "plt.xlabel(\"Attributes\")\n",
    "plt.ylabel(\"Dependency\")\n",
    "plt.title(\"Price dependency\")\n",
    "\n",
    "\n",
    "names_x = list(data.keys())\n",
    "values_x = list(data.values())\n",
    "\n",
    "plt.bar(names_x,values_x)\n",
    "plt.show()"
   ]
  },
  {
   "cell_type": "code",
   "execution_count": 43,
   "id": "controlled-belly",
   "metadata": {},
   "outputs": [],
   "source": [
    "data={\n",
    "\"parking_on_street\":parking_on_street,\n",
    "\"dist_local_market\":dist_local_market,\n",
    "\"age_of_house\":age_of_house,\n",
    "\"floor_no\":floor_no,\n",
    "}"
   ]
  },
  {
   "cell_type": "code",
   "execution_count": 44,
   "id": "adult-springfield",
   "metadata": {},
   "outputs": [
    {
     "data": {
      "image/png": "[encoded data removed]",
      "text/plain": [
       "<Figure size 1000x500 with 1 Axes>"
      ]
     },
     "metadata": {
      "needs_background": "light"
     },
     "output_type": "display_data"
    }
   ],
   "source": [
    "fig = plt.figure(figsize = (10, 5))\n",
    " \n",
    "# creating the bar plot\n",
    "plt.xlabel(\"Attributes\")\n",
    "plt.ylabel(\"Dependency\")\n",
    "plt.title(\"Price dependency\")\n",
    "\n",
    "\n",
    "names_x = list(data.keys())\n",
    "values_x = list(data.values())\n",
    "\n",
    "plt.bar(names_x,values_x)\n",
    "plt.show()"
   ]
  },
  {
   "cell_type": "code",
   "execution_count": 22,
   "id": "driven-glory",
   "metadata": {},
   "outputs": [],
   "source": [
    "import numpy as np\n",
    "price= np.array(df_copy['Price'])\n",
    "area_type =np.array(df_copy['area_type'])"
   ]
  },
  {
   "cell_type": "code",
   "execution_count": 23,
   "id": "baking-replacement",
   "metadata": {},
   "outputs": [
    {
     "data": {
      "text/plain": [
       "numpy.ndarray"
      ]
     },
     "execution_count": 23,
     "metadata": {},
     "output_type": "execute_result"
    }
   ],
   "source": [
    "type(price)\n",
    "type(area_type)"
   ]
  },
  {
   "cell_type": "code",
   "execution_count": 24,
   "id": "broken-tower",
   "metadata": {},
   "outputs": [
    {
     "data": {
      "image/png": "[encoded data removed]",
      "text/plain": [
       "<Figure size 432x288 with 1 Axes>"
      ]
     },
     "metadata": {
      "needs_background": "light"
     },
     "output_type": "display_data"
    }
   ],
   "source": [
    "y = price\n",
    "x = area_type\n",
    "plt.scatter(x, y)\n",
    "plt.rcParams.update({'figure.figsize':(10,8), 'figure.dpi':100})\n",
    "plt.title('Simple Scatter plot')\n",
    "plt.xlabel('X - value')\n",
    "plt.ylabel('Y - value')\n",
    "plt.show()"
   ]
  },
  {
   "cell_type": "code",
   "execution_count": 25,
   "id": "supported-exchange",
   "metadata": {},
   "outputs": [
    {
     "data": {
      "image/png": "[encoded data removed]",
      "text/plain": [
       "<Figure size 1000x500 with 1 Axes>"
      ]
     },
     "metadata": {
      "needs_background": "light"
     },
     "output_type": "display_data"
    }
   ],
   "source": [
    "\n",
    "import numpy as np\n",
    "import matplotlib.pyplot as plt\n",
    " \n",
    "  \n",
    "# creating the dataset\n",
    "data = {'C':20, 'C++':15, 'Java':30,\n",
    "        'Python':35}\n",
    "courses = list(data.keys())\n",
    "values = list(data.values())\n",
    "  \n",
    "fig = plt.figure(figsize = (10, 5))\n",
    " \n",
    "# creating the bar plot\n",
    "plt.bar(courses, values, color ='maroon',\n",
    "        width = 0.4)\n",
    " \n",
    "plt.xlabel(\"Courses offered\")\n",
    "plt.ylabel(\"No. of students enrolled\")\n",
    "plt.title(\"Students enrolled in different courses\")\n",
    "plt.show()"
   ]
  },
  {
   "cell_type": "code",
   "execution_count": 26,
   "id": "planned-integer",
   "metadata": {},
   "outputs": [],
   "source": [
    "train_data = train_set.drop(\"Price\", axis=1)\n",
    "train_label = train_set[\"Price\"].copy()\n",
    "test_data = test_set.drop(\"Price\", axis=1)\n",
    "test_label = test_set[\"Price\"].copy()"
   ]
  },
  {
   "cell_type": "code",
   "execution_count": 27,
   "id": "graphic-forest",
   "metadata": {},
   "outputs": [
    {
     "data": {
      "text/plain": [
       "<bound method NDFrame.head of      swimming_pool  train_station  bus_station  school_dist  near_park_dist  \\\n",
       "248              1              3            2            4               2   \n",
       "88               1              2            4            2               5   \n",
       "334              1              3            3            2               1   \n",
       "362              0              2            3            1               4   \n",
       "33               1              5            1            3               5   \n",
       "..             ...            ...          ...          ...             ...   \n",
       "71               1              3            3            4               3   \n",
       "106              1              4            3            4               1   \n",
       "270              0              3            2            2               2   \n",
       "435              1              3            3            4               1   \n",
       "102              0              5            3            4               5   \n",
       "\n",
       "     parking_on_street  dist_local_market  dist_health_center  dist_bank  NRM  \\\n",
       "248                  1                  3                   3          3    1   \n",
       "88                   1                  2                   5          4    1   \n",
       "334                  0                  5                   2          4    1   \n",
       "362                  1                  5                   1          5    2   \n",
       "33                   1                  3                   3          5    2   \n",
       "..                 ...                ...                 ...        ...  ...   \n",
       "71                   0                  5                   1          5    2   \n",
       "106                  0                  1                   5          5    2   \n",
       "270                  0                  4                   5          4    2   \n",
       "435                  0                  1                   5          3    3   \n",
       "102                  1                  4                   3          5    3   \n",
       "\n",
       "      Tax  age_of_house  area_type  dist_police_station  dist_mall  floor_no  \\\n",
       "248  4835             8          0                    1          3         6   \n",
       "88   4659            18          1                    2          2         9   \n",
       "334  2671             9          0                    3          1        10   \n",
       "362  2404            19          1                    2          1         9   \n",
       "33   4840             6          1                    3          1        10   \n",
       "..    ...           ...        ...                  ...        ...       ...   \n",
       "71   3998            20          0                    2          3         8   \n",
       "106  3269             3          0                    3          3         5   \n",
       "270  3821             4          1                    2          1         5   \n",
       "435  4274            13          1                    3          1         7   \n",
       "102  3823             2          0                    1          1         9   \n",
       "\n",
       "     dist_worship  \n",
       "248             6  \n",
       "88              4  \n",
       "334             5  \n",
       "362            10  \n",
       "33              6  \n",
       "..            ...  \n",
       "71              5  \n",
       "106            12  \n",
       "270            11  \n",
       "435             3  \n",
       "102             9  \n",
       "\n",
       "[454 rows x 17 columns]>"
      ]
     },
     "execution_count": 27,
     "metadata": {},
     "output_type": "execute_result"
    }
   ],
   "source": [
    "train_data.head"
   ]
  },
  {
   "cell_type": "code",
   "execution_count": 28,
   "id": "found-mathematics",
   "metadata": {},
   "outputs": [],
   "source": [
    "from sklearn.pipeline import Pipeline\n",
    "from sklearn.impute import SimpleImputer\n",
    "from sklearn.preprocessing import StandardScaler\n",
    "\n",
    "my_pipeline = Pipeline([\n",
    "    ('imputer', SimpleImputer(strategy=\"median\")),\n",
    "    ('std_scaler',StandardScaler())\n",
    "])"
   ]
  },
  {
   "cell_type": "code",
   "execution_count": 29,
   "id": "stunning-killing",
   "metadata": {},
   "outputs": [],
   "source": [
    "train_set = my_pipeline.fit_transform(train_data)"
   ]
  },
  {
   "cell_type": "code",
   "execution_count": 30,
   "id": "frozen-dinner",
   "metadata": {},
   "outputs": [
    {
     "data": {
      "text/plain": [
       "LinearRegression()"
      ]
     },
     "execution_count": 30,
     "metadata": {},
     "output_type": "execute_result"
    }
   ],
   "source": [
    "from sklearn.linear_model import LinearRegression\n",
    "from sklearn.tree import DecisionTreeRegressor\n",
    "from sklearn.ensemble import RandomForestRegressor\n",
    "model = LinearRegression()\n",
    "# model = DecisionTreeRegressor()\n",
    "# model = RandomForestRegressor()\n",
    "model.fit(train_set,train_label)"
   ]
  },
  {
   "cell_type": "code",
   "execution_count": 31,
   "id": "behavioral-poultry",
   "metadata": {},
   "outputs": [],
   "source": [
    "from sklearn.metrics import mean_squared_error\n",
    "test_prepared = my_pipeline.transform(test_data)\n",
    "final_predictions = model.predict(test_prepared)\n",
    "final_mse = mean_squared_error(test_label, final_predictions)\n",
    "final_rmse = np.sqrt(final_mse)"
   ]
  },
  {
   "cell_type": "code",
   "execution_count": 32,
   "id": "fatal-colonial",
   "metadata": {},
   "outputs": [
    {
     "data": {
      "text/plain": [
       "1.1152458955461544"
      ]
     },
     "execution_count": 32,
     "metadata": {},
     "output_type": "execute_result"
    }
   ],
   "source": [
    "final_rmse"
   ]
  },
  {
   "cell_type": "code",
   "execution_count": 33,
   "id": "stylish-indiana",
   "metadata": {},
   "outputs": [
    {
     "data": {
      "text/plain": [
       "1.2437734075325437"
      ]
     },
     "execution_count": 33,
     "metadata": {},
     "output_type": "execute_result"
    }
   ],
   "source": [
    "final_mse"
   ]
  },
  {
   "cell_type": "code",
   "execution_count": 34,
   "id": "valued-suspension",
   "metadata": {},
   "outputs": [],
   "source": [
    "from sklearn.model_selection import cross_val_score\n",
    "scores = cross_val_score(model, test_prepared, test_label, scoring=\"neg_mean_squared_error\", cv=10)\n",
    "rmse_scores = np.sqrt(-scores)"
   ]
  },
  {
   "cell_type": "code",
   "execution_count": 35,
   "id": "minute-horse",
   "metadata": {},
   "outputs": [
    {
     "data": {
      "text/plain": [
       "array([1.15582593, 1.41401313, 0.6934962 , 1.62528755, 0.78987041,\n",
       "       0.91542755, 1.6852704 , 1.04043194, 1.25976772, 1.37796378])"
      ]
     },
     "execution_count": 35,
     "metadata": {},
     "output_type": "execute_result"
    }
   ],
   "source": [
    "rmse_scores"
   ]
  },
  {
   "cell_type": "code",
   "execution_count": 36,
   "id": "fourth-diversity",
   "metadata": {},
   "outputs": [],
   "source": [
    "def print_score(Scores):\n",
    "    print(\"Score: \",Scores)\n",
    "    print(\"Mean: \",Scores.mean())\n",
    "    print(\"Standard deviation: \",Scores.std())"
   ]
  },
  {
   "cell_type": "code",
   "execution_count": 37,
   "id": "drawn-dayton",
   "metadata": {
    "scrolled": true
   },
   "outputs": [
    {
     "name": "stdout",
     "output_type": "stream",
     "text": [
      "Score:  [1.15582593 1.41401313 0.6934962  1.62528755 0.78987041 0.91542755\n",
      " 1.6852704  1.04043194 1.25976772 1.37796378]\n",
      "Mean:  1.1957354607459911\n",
      "Standard deviation:  0.320993314847367\n"
     ]
    }
   ],
   "source": [
    "print_score(rmse_scores)"
   ]
  },
  {
   "cell_type": "code",
   "execution_count": 38,
   "id": "million-opening",
   "metadata": {},
   "outputs": [],
   "source": [
    "import pickle"
   ]
  },
  {
   "cell_type": "code",
   "execution_count": 39,
   "id": "blond-appraisal",
   "metadata": {},
   "outputs": [],
   "source": [
    "with open('model.pkl', 'wb') as file:\n",
    "    pickle.dump(model, file)"
   ]
  },
  {
   "cell_type": "code",
   "execution_count": 40,
   "id": "ambient-elevation",
   "metadata": {},
   "outputs": [
    {
     "data": {
      "text/plain": [
       "array([[-1.        , -1.3569336 , -0.00309801, ..., -1.13665545,\n",
       "        -0.90901578, -1.06864462],\n",
       "       [ 1.        , -0.67167458, -0.70634628, ..., -1.13665545,\n",
       "        -0.90901578,  0.63968164],\n",
       "       [ 1.        , -1.3569336 , -0.00309801, ...,  0.05238044,\n",
       "        -0.30477981,  0.63968164],\n",
       "       ...,\n",
       "       [-1.        , -0.67167458, -1.40959454, ...,  0.05238044,\n",
       "        -1.51325174, -1.35336566],\n",
       "       [-1.        ,  0.01358443, -1.40959454, ...,  0.05238044,\n",
       "         0.90369211,  1.49384476],\n",
       "       [-1.        ,  1.38410246,  0.70015026, ...,  0.05238044,\n",
       "         0.29945615, -1.6380867 ]])"
      ]
     },
     "execution_count": 40,
     "metadata": {},
     "output_type": "execute_result"
    }
   ],
   "source": [
    "test_prepared"
   ]
  },
  {
   "cell_type": "code",
   "execution_count": 41,
   "id": "impressive-large",
   "metadata": {},
   "outputs": [
    {
     "data": {
      "text/html": [
       "<div>\n",
       "<style scoped>\n",
       "    .dataframe tbody tr th:only-of-type {\n",
       "        vertical-align: middle;\n",
       "    }\n",
       "\n",
       "    .dataframe tbody tr th {\n",
       "        vertical-align: top;\n",
       "    }\n",
       "\n",
       "    .dataframe thead th {\n",
       "        text-align: right;\n",
       "    }\n",
       "</style>\n",
       "<table border=\"1\" class=\"dataframe\">\n",
       "  <thead>\n",
       "    <tr style=\"text-align: right;\">\n",
       "      <th></th>\n",
       "      <th>swimming_pool</th>\n",
       "      <th>train_station</th>\n",
       "      <th>bus_station</th>\n",
       "      <th>school_dist</th>\n",
       "      <th>near_park_dist</th>\n",
       "      <th>parking_on_street</th>\n",
       "      <th>dist_local_market</th>\n",
       "      <th>dist_health_center</th>\n",
       "      <th>dist_bank</th>\n",
       "      <th>NRM</th>\n",
       "      <th>Tax</th>\n",
       "      <th>age_of_house</th>\n",
       "      <th>area_type</th>\n",
       "      <th>dist_police_station</th>\n",
       "      <th>dist_mall</th>\n",
       "      <th>floor_no</th>\n",
       "      <th>dist_worship</th>\n",
       "    </tr>\n",
       "  </thead>\n",
       "  <tbody>\n",
       "    <tr>\n",
       "      <th>218</th>\n",
       "      <td>0</td>\n",
       "      <td>1</td>\n",
       "      <td>3</td>\n",
       "      <td>3</td>\n",
       "      <td>4</td>\n",
       "      <td>1</td>\n",
       "      <td>4</td>\n",
       "      <td>5</td>\n",
       "      <td>5</td>\n",
       "      <td>2</td>\n",
       "      <td>4880</td>\n",
       "      <td>12</td>\n",
       "      <td>0</td>\n",
       "      <td>1</td>\n",
       "      <td>1</td>\n",
       "      <td>6</td>\n",
       "      <td>3</td>\n",
       "    </tr>\n",
       "    <tr>\n",
       "      <th>79</th>\n",
       "      <td>1</td>\n",
       "      <td>2</td>\n",
       "      <td>2</td>\n",
       "      <td>1</td>\n",
       "      <td>1</td>\n",
       "      <td>1</td>\n",
       "      <td>3</td>\n",
       "      <td>5</td>\n",
       "      <td>5</td>\n",
       "      <td>3</td>\n",
       "      <td>3174</td>\n",
       "      <td>2</td>\n",
       "      <td>1</td>\n",
       "      <td>2</td>\n",
       "      <td>1</td>\n",
       "      <td>6</td>\n",
       "      <td>9</td>\n",
       "    </tr>\n",
       "    <tr>\n",
       "      <th>104</th>\n",
       "      <td>1</td>\n",
       "      <td>1</td>\n",
       "      <td>3</td>\n",
       "      <td>3</td>\n",
       "      <td>4</td>\n",
       "      <td>1</td>\n",
       "      <td>1</td>\n",
       "      <td>5</td>\n",
       "      <td>3</td>\n",
       "      <td>3</td>\n",
       "      <td>2524</td>\n",
       "      <td>10</td>\n",
       "      <td>1</td>\n",
       "      <td>1</td>\n",
       "      <td>2</td>\n",
       "      <td>7</td>\n",
       "      <td>9</td>\n",
       "    </tr>\n",
       "    <tr>\n",
       "      <th>208</th>\n",
       "      <td>1</td>\n",
       "      <td>4</td>\n",
       "      <td>3</td>\n",
       "      <td>1</td>\n",
       "      <td>1</td>\n",
       "      <td>1</td>\n",
       "      <td>2</td>\n",
       "      <td>5</td>\n",
       "      <td>3</td>\n",
       "      <td>2</td>\n",
       "      <td>3498</td>\n",
       "      <td>15</td>\n",
       "      <td>0</td>\n",
       "      <td>3</td>\n",
       "      <td>2</td>\n",
       "      <td>9</td>\n",
       "      <td>11</td>\n",
       "    </tr>\n",
       "    <tr>\n",
       "      <th>543</th>\n",
       "      <td>0</td>\n",
       "      <td>2</td>\n",
       "      <td>5</td>\n",
       "      <td>1</td>\n",
       "      <td>2</td>\n",
       "      <td>1</td>\n",
       "      <td>3</td>\n",
       "      <td>4</td>\n",
       "      <td>4</td>\n",
       "      <td>3</td>\n",
       "      <td>3380</td>\n",
       "      <td>17</td>\n",
       "      <td>0</td>\n",
       "      <td>3</td>\n",
       "      <td>3</td>\n",
       "      <td>5</td>\n",
       "      <td>4</td>\n",
       "    </tr>\n",
       "    <tr>\n",
       "      <th>...</th>\n",
       "      <td>...</td>\n",
       "      <td>...</td>\n",
       "      <td>...</td>\n",
       "      <td>...</td>\n",
       "      <td>...</td>\n",
       "      <td>...</td>\n",
       "      <td>...</td>\n",
       "      <td>...</td>\n",
       "      <td>...</td>\n",
       "      <td>...</td>\n",
       "      <td>...</td>\n",
       "      <td>...</td>\n",
       "      <td>...</td>\n",
       "      <td>...</td>\n",
       "      <td>...</td>\n",
       "      <td>...</td>\n",
       "      <td>...</td>\n",
       "    </tr>\n",
       "    <tr>\n",
       "      <th>148</th>\n",
       "      <td>1</td>\n",
       "      <td>1</td>\n",
       "      <td>3</td>\n",
       "      <td>2</td>\n",
       "      <td>5</td>\n",
       "      <td>0</td>\n",
       "      <td>5</td>\n",
       "      <td>2</td>\n",
       "      <td>3</td>\n",
       "      <td>3</td>\n",
       "      <td>4503</td>\n",
       "      <td>2</td>\n",
       "      <td>0</td>\n",
       "      <td>1</td>\n",
       "      <td>2</td>\n",
       "      <td>9</td>\n",
       "      <td>11</td>\n",
       "    </tr>\n",
       "    <tr>\n",
       "      <th>247</th>\n",
       "      <td>0</td>\n",
       "      <td>2</td>\n",
       "      <td>5</td>\n",
       "      <td>3</td>\n",
       "      <td>4</td>\n",
       "      <td>0</td>\n",
       "      <td>2</td>\n",
       "      <td>1</td>\n",
       "      <td>4</td>\n",
       "      <td>2</td>\n",
       "      <td>3510</td>\n",
       "      <td>1</td>\n",
       "      <td>1</td>\n",
       "      <td>1</td>\n",
       "      <td>1</td>\n",
       "      <td>10</td>\n",
       "      <td>9</td>\n",
       "    </tr>\n",
       "    <tr>\n",
       "      <th>15</th>\n",
       "      <td>0</td>\n",
       "      <td>2</td>\n",
       "      <td>1</td>\n",
       "      <td>4</td>\n",
       "      <td>1</td>\n",
       "      <td>0</td>\n",
       "      <td>4</td>\n",
       "      <td>2</td>\n",
       "      <td>3</td>\n",
       "      <td>3</td>\n",
       "      <td>4753</td>\n",
       "      <td>14</td>\n",
       "      <td>1</td>\n",
       "      <td>1</td>\n",
       "      <td>2</td>\n",
       "      <td>5</td>\n",
       "      <td>2</td>\n",
       "    </tr>\n",
       "    <tr>\n",
       "      <th>557</th>\n",
       "      <td>0</td>\n",
       "      <td>3</td>\n",
       "      <td>1</td>\n",
       "      <td>2</td>\n",
       "      <td>4</td>\n",
       "      <td>0</td>\n",
       "      <td>5</td>\n",
       "      <td>3</td>\n",
       "      <td>4</td>\n",
       "      <td>3</td>\n",
       "      <td>4815</td>\n",
       "      <td>2</td>\n",
       "      <td>1</td>\n",
       "      <td>1</td>\n",
       "      <td>2</td>\n",
       "      <td>9</td>\n",
       "      <td>12</td>\n",
       "    </tr>\n",
       "    <tr>\n",
       "      <th>245</th>\n",
       "      <td>0</td>\n",
       "      <td>5</td>\n",
       "      <td>4</td>\n",
       "      <td>1</td>\n",
       "      <td>1</td>\n",
       "      <td>1</td>\n",
       "      <td>3</td>\n",
       "      <td>5</td>\n",
       "      <td>3</td>\n",
       "      <td>2</td>\n",
       "      <td>3435</td>\n",
       "      <td>16</td>\n",
       "      <td>0</td>\n",
       "      <td>2</td>\n",
       "      <td>2</td>\n",
       "      <td>8</td>\n",
       "      <td>1</td>\n",
       "    </tr>\n",
       "  </tbody>\n",
       "</table>\n",
       "<p>114 rows × 17 columns</p>\n",
       "</div>"
      ],
      "text/plain": [
       "     swimming_pool  train_station  bus_station  school_dist  near_park_dist  \\\n",
       "218              0              1            3            3               4   \n",
       "79               1              2            2            1               1   \n",
       "104              1              1            3            3               4   \n",
       "208              1              4            3            1               1   \n",
       "543              0              2            5            1               2   \n",
       "..             ...            ...          ...          ...             ...   \n",
       "148              1              1            3            2               5   \n",
       "247              0              2            5            3               4   \n",
       "15               0              2            1            4               1   \n",
       "557              0              3            1            2               4   \n",
       "245              0              5            4            1               1   \n",
       "\n",
       "     parking_on_street  dist_local_market  dist_health_center  dist_bank  NRM  \\\n",
       "218                  1                  4                   5          5    2   \n",
       "79                   1                  3                   5          5    3   \n",
       "104                  1                  1                   5          3    3   \n",
       "208                  1                  2                   5          3    2   \n",
       "543                  1                  3                   4          4    3   \n",
       "..                 ...                ...                 ...        ...  ...   \n",
       "148                  0                  5                   2          3    3   \n",
       "247                  0                  2                   1          4    2   \n",
       "15                   0                  4                   2          3    3   \n",
       "557                  0                  5                   3          4    3   \n",
       "245                  1                  3                   5          3    2   \n",
       "\n",
       "      Tax  age_of_house  area_type  dist_police_station  dist_mall  floor_no  \\\n",
       "218  4880            12          0                    1          1         6   \n",
       "79   3174             2          1                    2          1         6   \n",
       "104  2524            10          1                    1          2         7   \n",
       "208  3498            15          0                    3          2         9   \n",
       "543  3380            17          0                    3          3         5   \n",
       "..    ...           ...        ...                  ...        ...       ...   \n",
       "148  4503             2          0                    1          2         9   \n",
       "247  3510             1          1                    1          1        10   \n",
       "15   4753            14          1                    1          2         5   \n",
       "557  4815             2          1                    1          2         9   \n",
       "245  3435            16          0                    2          2         8   \n",
       "\n",
       "     dist_worship  \n",
       "218             3  \n",
       "79              9  \n",
       "104             9  \n",
       "208            11  \n",
       "543             4  \n",
       "..            ...  \n",
       "148            11  \n",
       "247             9  \n",
       "15              2  \n",
       "557            12  \n",
       "245             1  \n",
       "\n",
       "[114 rows x 17 columns]"
      ]
     },
     "execution_count": 41,
     "metadata": {},
     "output_type": "execute_result"
    }
   ],
   "source": [
    "test_data"
   ]
  },
  {
   "cell_type": "code",
   "execution_count": null,
   "id": "moved-community",
   "metadata": {},
   "outputs": [],
   "source": []
  }
 ],
 "metadata": {
  "kernelspec": {
   "display_name": "Python 3",
   "language": "python",
   "name": "python3"
  },
  "language_info": {
   "codemirror_mode": {
    "name": "ipython",
    "version": 3
   },
   "file_extension": ".py",
   "mimetype": "text/x-python",
   "name": "python",
   "nbconvert_exporter": "python",
   "pygments_lexer": "ipython3",
   "version": "3.9.2"
  }
 },
 "nbformat": 4,
 "nbformat_minor": 5
}
