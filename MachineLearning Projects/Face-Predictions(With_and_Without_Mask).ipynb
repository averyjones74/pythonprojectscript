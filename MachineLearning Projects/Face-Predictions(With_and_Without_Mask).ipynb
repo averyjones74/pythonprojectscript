{
 "cells": [
  {
   "cell_type": "markdown",
   "metadata": {
    "id": "n6tCNZkBOBNU"
   },
   "source": [
    "# **Face Detection With(images) in cnn**\n"
   ]
  },
  {
   "cell_type": "markdown",
   "metadata": {
    "id": "OjwwqkGdO9nU"
   },
   "source": [
    "# Importing Datasets"
   ]
  },
  {
   "cell_type": "code",
   "execution_count": 1,
   "metadata": {
    "id": "pvpDXrZLO7rh"
   },
   "outputs": [],
   "source": [
    "import numpy as np\n",
    "import tensorflow as tf\n",
    "import numpy as np\n",
    "import pandas as pd"
   ]
  },
  {
   "cell_type": "code",
   "execution_count": 4,
   "metadata": {
    "id": "cMFleS8vPgqr"
   },
   "outputs": [],
   "source": [
    "from keras.preprocessing.image import ImageDataGenerator\n",
    "from keras.preprocessing import image"
   ]
  },
  {
   "cell_type": "markdown",
   "metadata": {
    "id": "uB7VcMkiOVor"
   },
   "source": [
    "# Processing(transforming) Training Set"
   ]
  },
  {
   "cell_type": "code",
   "execution_count": 6,
   "metadata": {
    "id": "iMz3FRIgQqjG"
   },
   "outputs": [
    {
     "name": "stdout",
     "output_type": "stream",
     "text": [
      "Found 2877 images belonging to 2 classes.\n"
     ]
    }
   ],
   "source": [
    "training_datagen=ImageDataGenerator(rescale=1./255,shear_range=0.2,zoom_range=0.2,horizontal_flip=True)\n",
    "training_set=training_datagen.flow_from_directory('dataset.face-detection/train_set',target_size=(64,64),batch_size=32,class_mode='binary')"
   ]
  },
  {
   "cell_type": "markdown",
   "metadata": {
    "id": "SmpgvrW5Td8g"
   },
   "source": [
    "# Processing(transforming) Test Set"
   ]
  },
  {
   "cell_type": "code",
   "execution_count": 7,
   "metadata": {
    "id": "TWeUByC0SMRN"
   },
   "outputs": [
    {
     "name": "stdout",
     "output_type": "stream",
     "text": [
      "Found 969 images belonging to 2 classes.\n"
     ]
    }
   ],
   "source": [
    "test_datagen=ImageDataGenerator(rescale=1./255)\n",
    "test_set=training_datagen.flow_from_directory('dataset.face-detection/test_set',target_size=(64,64),batch_size=32,class_mode='binary')"
   ]
  },
  {
   "cell_type": "markdown",
   "metadata": {
    "id": "8ZUXCDXkUic0"
   },
   "source": [
    "# **Building CNN**"
   ]
  },
  {
   "cell_type": "markdown",
   "metadata": {
    "id": "SnN7LKv7UM69"
   },
   "source": [
    "# Initializing the CNN"
   ]
  },
  {
   "cell_type": "code",
   "execution_count": 8,
   "metadata": {
    "id": "AaJF7gkRTtBb"
   },
   "outputs": [],
   "source": [
    "cnn=tf.keras.models.Sequential()"
   ]
  },
  {
   "cell_type": "markdown",
   "metadata": {
    "id": "HMtz2unSUbYt"
   },
   "source": [
    "# (1) Convolution"
   ]
  },
  {
   "cell_type": "code",
   "execution_count": 12,
   "metadata": {
    "id": "TQTdq7g3T-1A"
   },
   "outputs": [],
   "source": [
    "cnn.add(tf.keras.layers.Conv2D(filters=32,kernel_size=3,activation='relu',input_shape=[64,64,3]))"
   ]
  },
  {
   "cell_type": "markdown",
   "metadata": {
    "id": "YW0XOhUpWV1g"
   },
   "source": [
    "# (2) Pooling"
   ]
  },
  {
   "cell_type": "code",
   "execution_count": 13,
   "metadata": {
    "id": "L4AeLbeUWRCl"
   },
   "outputs": [],
   "source": [
    "cnn.add(tf.keras.layers.MaxPool2D(pool_size=2,strides=2))"
   ]
  },
  {
   "cell_type": "markdown",
   "metadata": {
    "id": "MP9cfWmZZQ97"
   },
   "source": [
    "# (3) Adding Second Convolution Layer"
   ]
  },
  {
   "cell_type": "code",
   "execution_count": 16,
   "metadata": {
    "id": "nVUC2diOXl_R"
   },
   "outputs": [],
   "source": [
    "cnn.add(tf.keras.layers.Conv2D(filters=32,kernel_size=3,activation='relu'))\n",
    "cnn.add(tf.keras.layers.MaxPooling2D(pool_size=2,strides=2))"
   ]
  },
  {
   "cell_type": "markdown",
   "metadata": {
    "id": "xhgqoUaBZitG"
   },
   "source": [
    "# (4) Flattening"
   ]
  },
  {
   "cell_type": "code",
   "execution_count": 17,
   "metadata": {
    "id": "4jmU3B_rZbnk"
   },
   "outputs": [],
   "source": [
    "cnn.add(tf.keras.layers.Flatten())"
   ]
  },
  {
   "cell_type": "markdown",
   "metadata": {
    "id": "EsINA00mZ_uf"
   },
   "source": [
    "# (5) Connnection"
   ]
  },
  {
   "cell_type": "code",
   "execution_count": 48,
   "metadata": {
    "id": "pSMvOrHCaDWi"
   },
   "outputs": [],
   "source": [
    "cnn.add(tf.keras.layers.Dense(units=128,activation='relu'))"
   ]
  },
  {
   "cell_type": "markdown",
   "metadata": {},
   "source": [
    "# (6) Output Layer"
   ]
  },
  {
   "cell_type": "code",
   "execution_count": 20,
   "metadata": {
    "id": "_R93GaF9bppa"
   },
   "outputs": [],
   "source": [
    "cnn.add(tf.keras.layers.Dense(units=1, activation='sigmoid'))"
   ]
  },
  {
   "cell_type": "markdown",
   "metadata": {},
   "source": [
    "# Compiling our cnn"
   ]
  },
  {
   "cell_type": "code",
   "execution_count": 21,
   "metadata": {
    "id": "KLozwyZ0b-3d"
   },
   "outputs": [],
   "source": [
    "cnn.compile(optimizer='adam',loss='binary_crossentropy',metrics=['accuracy'])"
   ]
  },
  {
   "cell_type": "markdown",
   "metadata": {},
   "source": [
    "# Training our cnn model"
   ]
  },
  {
   "cell_type": "code",
   "execution_count": 23,
   "metadata": {
    "id": "JnhdG8QKc_6S"
   },
   "outputs": [
    {
     "name": "stdout",
     "output_type": "stream",
     "text": [
      "Epoch 1/25\n"
     ]
    },
    {
     "name": "stderr",
     "output_type": "stream",
     "text": [
      "C:\\Users\\user\\anaconda3\\anacondaML\\envs\\tensorflow\\lib\\site-packages\\PIL\\Image.py:962: UserWarning: Palette images with Transparency expressed in bytes should be converted to RGBA images\n",
      "  warnings.warn(\n"
     ]
    },
    {
     "name": "stdout",
     "output_type": "stream",
     "text": [
      "90/90 [==============================] - 323s 4s/step - loss: 0.2861 - accuracy: 0.8686 - val_loss: 1.3608 - val_accuracy: 0.5470\n",
      "Epoch 2/25\n",
      "90/90 [==============================] - 178s 2s/step - loss: 0.1224 - accuracy: 0.9559 - val_loss: 3.4076 - val_accuracy: 0.3994\n",
      "Epoch 3/25\n",
      "90/90 [==============================] - 112s 1s/step - loss: 0.0968 - accuracy: 0.9663 - val_loss: 2.7406 - val_accuracy: 0.4541\n",
      "Epoch 4/25\n",
      "90/90 [==============================] - 92s 1s/step - loss: 0.0805 - accuracy: 0.9729 - val_loss: 2.5094 - val_accuracy: 0.5191\n",
      "Epoch 5/25\n",
      "90/90 [==============================] - 86s 950ms/step - loss: 0.0836 - accuracy: 0.9677 - val_loss: 2.3981 - val_accuracy: 0.5077\n",
      "Epoch 6/25\n",
      "90/90 [==============================] - 90s 1s/step - loss: 0.0668 - accuracy: 0.9791 - val_loss: 3.4326 - val_accuracy: 0.4850\n",
      "Epoch 7/25\n",
      "90/90 [==============================] - 93s 1s/step - loss: 0.0613 - accuracy: 0.9767 - val_loss: 4.6040 - val_accuracy: 0.3983\n",
      "Epoch 8/25\n",
      "90/90 [==============================] - 132s 1s/step - loss: 0.0648 - accuracy: 0.9746 - val_loss: 3.4549 - val_accuracy: 0.4592\n",
      "Epoch 9/25\n",
      "90/90 [==============================] - 104s 1s/step - loss: 0.0541 - accuracy: 0.9802 - val_loss: 2.5088 - val_accuracy: 0.5387\n",
      "Epoch 10/25\n",
      "90/90 [==============================] - 89s 984ms/step - loss: 0.0387 - accuracy: 0.9854 - val_loss: 4.7615 - val_accuracy: 0.4211\n",
      "Epoch 11/25\n",
      "90/90 [==============================] - 85s 948ms/step - loss: 0.0526 - accuracy: 0.9830 - val_loss: 3.4959 - val_accuracy: 0.4644\n",
      "Epoch 12/25\n",
      "90/90 [==============================] - 86s 956ms/step - loss: 0.0359 - accuracy: 0.9857 - val_loss: 3.3125 - val_accuracy: 0.5181\n",
      "Epoch 13/25\n",
      "90/90 [==============================] - 86s 958ms/step - loss: 0.0587 - accuracy: 0.9816 - val_loss: 2.2871 - val_accuracy: 0.5769\n",
      "Epoch 14/25\n",
      "90/90 [==============================] - 87s 968ms/step - loss: 0.0400 - accuracy: 0.9864 - val_loss: 4.8600 - val_accuracy: 0.4417\n",
      "Epoch 15/25\n",
      "90/90 [==============================] - 122s 1s/step - loss: 0.0419 - accuracy: 0.9861 - val_loss: 2.9224 - val_accuracy: 0.5759\n",
      "Epoch 16/25\n",
      "90/90 [==============================] - 143s 2s/step - loss: 0.0337 - accuracy: 0.9871 - val_loss: 3.9040 - val_accuracy: 0.4737\n",
      "Epoch 17/25\n",
      "90/90 [==============================] - 83s 922ms/step - loss: 0.0284 - accuracy: 0.9892 - val_loss: 3.8323 - val_accuracy: 0.4985\n",
      "Epoch 18/25\n",
      "90/90 [==============================] - 139s 2s/step - loss: 0.0275 - accuracy: 0.9889 - val_loss: 4.2131 - val_accuracy: 0.4902\n",
      "Epoch 19/25\n",
      "90/90 [==============================] - 93s 1s/step - loss: 0.0225 - accuracy: 0.9930 - val_loss: 4.9910 - val_accuracy: 0.4778\n",
      "Epoch 20/25\n",
      "90/90 [==============================] - 91s 1s/step - loss: 0.0259 - accuracy: 0.9910 - val_loss: 4.6755 - val_accuracy: 0.4479\n",
      "Epoch 21/25\n",
      "90/90 [==============================] - 86s 961ms/step - loss: 0.0250 - accuracy: 0.9924 - val_loss: 3.4631 - val_accuracy: 0.5325\n",
      "Epoch 22/25\n",
      "90/90 [==============================] - 90s 997ms/step - loss: 0.0164 - accuracy: 0.9944 - val_loss: 4.4236 - val_accuracy: 0.5046\n",
      "Epoch 23/25\n",
      "90/90 [==============================] - 93s 1s/step - loss: 0.0237 - accuracy: 0.9913 - val_loss: 5.9796 - val_accuracy: 0.4396\n",
      "Epoch 24/25\n",
      "90/90 [==============================] - 110s 1s/step - loss: 0.0265 - accuracy: 0.9910 - val_loss: 3.8162 - val_accuracy: 0.5387\n",
      "Epoch 25/25\n",
      "90/90 [==============================] - 130s 1s/step - loss: 0.0193 - accuracy: 0.9937 - val_loss: 5.3423 - val_accuracy: 0.4964\n"
     ]
    },
    {
     "data": {
      "text/plain": [
       "<tensorflow.python.keras.callbacks.History at 0x2afa3dfbc10>"
      ]
     },
     "execution_count": 23,
     "metadata": {},
     "output_type": "execute_result"
    }
   ],
   "source": [
    "cnn.fit(x=training_set,validation_data=test_set,epochs=25)"
   ]
  },
  {
   "cell_type": "markdown",
   "metadata": {},
   "source": [
    "# Testing a Single Prediction"
   ]
  },
  {
   "cell_type": "code",
   "execution_count": 46,
   "metadata": {
    "id": "ebwrhUhyeIa5"
   },
   "outputs": [
    {
     "name": "stdout",
     "output_type": "stream",
     "text": [
      "[[1.]]\n"
     ]
    }
   ],
   "source": [
    "testing_image=image.load_img('dataset.face-detection/single-prediction/unmask (51).jpg',target_size=(64,64))\n",
    "testing_image=image.img_to_array(testing_image)\n",
    "testing_image = np.expand_dims(testing_image,0) \n",
    "result=cnn.predict(testing_image)\n",
    "print(result)"
   ]
  },
  {
   "cell_type": "code",
   "execution_count": 47,
   "metadata": {},
   "outputs": [
    {
     "name": "stdout",
     "output_type": "stream",
     "text": [
      "unmask\n"
     ]
    }
   ],
   "source": [
    "if(result==0):\n",
    "  print('mask')\n",
    "else:\n",
    "  print('unmask') "
   ]
  },
  {
   "cell_type": "markdown",
   "metadata": {},
   "source": [
    "# Links Which you can Explore"
   ]
  },
  {
   "cell_type": "code",
   "execution_count": 49,
   "metadata": {},
   "outputs": [],
   "source": [
    "# https://keras.io/ -- Keras API and docs\n",
    "\n",
    "# https://www.kaggle.com/codemaximus/mask-and-non-mask-images -- Images\n",
    "\n",
    "# https://scikit-learn.org/stable/modules/preprocessing.html#preprocessing -- for preprocessing\n",
    "\n",
    "# https://keras.io/examples/vision/image_classification_from_scratch/ -- image classification(complete)\n"
   ]
  }
 ],
 "metadata": {
  "colab": {
   "collapsed_sections": [],
   "name": "Untitled0.ipynb",
   "provenance": []
  },
  "kernelspec": {
   "display_name": "Python 3",
   "language": "python",
   "name": "python3"
  },
  "language_info": {
   "codemirror_mode": {
    "name": "ipython",
    "version": 3
   },
   "file_extension": ".py",
   "mimetype": "text/x-python",
   "name": "python",
   "nbconvert_exporter": "python",
   "pygments_lexer": "ipython3",
   "version": "3.8.10"
  }
 },
 "nbformat": 4,
 "nbformat_minor": 1
}
